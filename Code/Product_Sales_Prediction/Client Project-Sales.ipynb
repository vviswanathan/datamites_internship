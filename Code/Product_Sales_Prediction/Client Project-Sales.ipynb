{
 "cells": [
  {
   "cell_type": "code",
   "execution_count": 1,
   "metadata": {},
   "outputs": [
    {
     "name": "stdout",
     "output_type": "stream",
     "text": [
      "Requirement already satisfied: pymysql in c:\\users\\prabhati\\anaconda3\\lib\\site-packages (0.9.3)\n"
     ]
    }
   ],
   "source": [
    "!!pip install sqlalchemy\n",
    "!pip install pymysql"
   ]
  },
  {
   "cell_type": "code",
   "execution_count": 2,
   "metadata": {},
   "outputs": [],
   "source": [
    "import pandas as pd\n",
    "import numpy as np\n",
    "import matplotlib.pyplot as plt\n",
    "import seaborn as sns\n",
    "from matplotlib import rcParams\n",
    "%matplotlib inline\n",
    "from collections import Counter\n",
    "from sklearn.ensemble import RandomForestClassifier\n",
    "from sklearn.preprocessing import LabelEncoder,scale\n",
    "from sklearn.metrics import accuracy_score,precision_score,confusion_matrix,classification_report,f1_score,recall_score\n",
    "from sklearn.model_selection import train_test_split\n",
    "from sklearn.preprocessing import StandardScaler\n",
    "import warnings\n",
    "warnings.filterwarnings(\"ignore\")\n",
    "from matplotlib import pyplot"
   ]
  },
  {
   "cell_type": "code",
   "execution_count": 3,
   "metadata": {},
   "outputs": [],
   "source": [
    "from sqlalchemy import create_engine\n",
    "import pandas as pd"
   ]
  },
  {
   "cell_type": "code",
   "execution_count": 4,
   "metadata": {},
   "outputs": [],
   "source": [
    "db_host='54.255.64.49:3306'\n",
    "username='dm_team2'\n",
    "user_pass='DM!$Team&27@9!20!'\n",
    "db_name='project_sales'"
   ]
  },
  {
   "cell_type": "code",
   "execution_count": 5,
   "metadata": {},
   "outputs": [
    {
     "data": {
      "text/plain": [
       "['data']"
      ]
     },
     "execution_count": 5,
     "metadata": {},
     "output_type": "execute_result"
    }
   ],
   "source": [
    "conn = create_engine('mysql+pymysql://'+username+':'+user_pass+'@'+db_host+'/'+db_name)\n",
    "conn.table_names()"
   ]
  },
  {
   "cell_type": "code",
   "execution_count": 6,
   "metadata": {},
   "outputs": [
    {
     "name": "stdout",
     "output_type": "stream",
     "text": [
      "(7422, 9)\n"
     ]
    },
    {
     "data": {
      "text/html": [
       "<div>\n",
       "<style scoped>\n",
       "    .dataframe tbody tr th:only-of-type {\n",
       "        vertical-align: middle;\n",
       "    }\n",
       "\n",
       "    .dataframe tbody tr th {\n",
       "        vertical-align: top;\n",
       "    }\n",
       "\n",
       "    .dataframe thead th {\n",
       "        text-align: right;\n",
       "    }\n",
       "</style>\n",
       "<table border=\"1\" class=\"dataframe\">\n",
       "  <thead>\n",
       "    <tr style=\"text-align: right;\">\n",
       "      <th></th>\n",
       "      <th>Created</th>\n",
       "      <th>Product_ID</th>\n",
       "      <th>Source</th>\n",
       "      <th>Mobile</th>\n",
       "      <th>EMAIL</th>\n",
       "      <th>Sales_Agent</th>\n",
       "      <th>Location</th>\n",
       "      <th>Delivery_Mode</th>\n",
       "      <th>Status</th>\n",
       "    </tr>\n",
       "  </thead>\n",
       "  <tbody>\n",
       "    <tr>\n",
       "      <th>0</th>\n",
       "      <td>14-11-2018 10:05</td>\n",
       "      <td></td>\n",
       "      <td>Website</td>\n",
       "      <td>984XXXXXXX</td>\n",
       "      <td>aXXXXXXX@gmail.com</td>\n",
       "      <td>Sales-Agent-11</td>\n",
       "      <td></td>\n",
       "      <td>Mode-5</td>\n",
       "      <td>Open</td>\n",
       "    </tr>\n",
       "    <tr>\n",
       "      <th>1</th>\n",
       "      <td>14-11-2018 09:22</td>\n",
       "      <td></td>\n",
       "      <td>Website</td>\n",
       "      <td>XXXXXXX</td>\n",
       "      <td>#VALUE!</td>\n",
       "      <td>Sales-Agent-10</td>\n",
       "      <td></td>\n",
       "      <td>Mode-5</td>\n",
       "      <td>Open</td>\n",
       "    </tr>\n",
       "    <tr>\n",
       "      <th>2</th>\n",
       "      <td>14-11-2018 09:21</td>\n",
       "      <td></td>\n",
       "      <td>Website</td>\n",
       "      <td>XXXXXXX</td>\n",
       "      <td>dXXXXXXX@yahoo.com</td>\n",
       "      <td>Sales-Agent-10</td>\n",
       "      <td></td>\n",
       "      <td>Mode-5</td>\n",
       "      <td>Open</td>\n",
       "    </tr>\n",
       "    <tr>\n",
       "      <th>3</th>\n",
       "      <td>14-11-2018 08:46</td>\n",
       "      <td></td>\n",
       "      <td>Website</td>\n",
       "      <td>XXXXXXX</td>\n",
       "      <td>wXXXXXXX@gmail.com</td>\n",
       "      <td>Sales-Agent-10</td>\n",
       "      <td></td>\n",
       "      <td>Mode-5</td>\n",
       "      <td>Open</td>\n",
       "    </tr>\n",
       "    <tr>\n",
       "      <th>4</th>\n",
       "      <td>14-11-2018 07:34</td>\n",
       "      <td></td>\n",
       "      <td>Website</td>\n",
       "      <td>XXXXXXX</td>\n",
       "      <td>cXXXXXXX@gmail.com</td>\n",
       "      <td>Sales-Agent-10</td>\n",
       "      <td></td>\n",
       "      <td>Mode-5</td>\n",
       "      <td>Open</td>\n",
       "    </tr>\n",
       "    <tr>\n",
       "      <th>...</th>\n",
       "      <td>...</td>\n",
       "      <td>...</td>\n",
       "      <td>...</td>\n",
       "      <td>...</td>\n",
       "      <td>...</td>\n",
       "      <td>...</td>\n",
       "      <td>...</td>\n",
       "      <td>...</td>\n",
       "      <td>...</td>\n",
       "    </tr>\n",
       "    <tr>\n",
       "      <th>7417</th>\n",
       "      <td>28-04-2018 09:45</td>\n",
       "      <td>9</td>\n",
       "      <td>Call</td>\n",
       "      <td></td>\n",
       "      <td>aXXXXXXX@gmail.com</td>\n",
       "      <td>Sales-Agent-6</td>\n",
       "      <td>Mumbai</td>\n",
       "      <td>Mode-4</td>\n",
       "      <td>LOST</td>\n",
       "    </tr>\n",
       "    <tr>\n",
       "      <th>7418</th>\n",
       "      <td>28-04-2018 09:43</td>\n",
       "      <td>15</td>\n",
       "      <td>Call</td>\n",
       "      <td></td>\n",
       "      <td>#VALUE!</td>\n",
       "      <td>Sales-Agent-12</td>\n",
       "      <td>Other Locations</td>\n",
       "      <td>Mode-5</td>\n",
       "      <td>LOST</td>\n",
       "    </tr>\n",
       "    <tr>\n",
       "      <th>7419</th>\n",
       "      <td>28-04-2018 09:20</td>\n",
       "      <td>5</td>\n",
       "      <td>Live Chat-Direct</td>\n",
       "      <td></td>\n",
       "      <td>sXXXXXXX@gmail.com</td>\n",
       "      <td>Sales-Agent-11</td>\n",
       "      <td>Bangalore</td>\n",
       "      <td>Mode-1</td>\n",
       "      <td>Not Responding</td>\n",
       "    </tr>\n",
       "    <tr>\n",
       "      <th>7420</th>\n",
       "      <td>28-04-2018 08:04</td>\n",
       "      <td>21</td>\n",
       "      <td>CRM form</td>\n",
       "      <td></td>\n",
       "      <td>YXXXXXXX@gmail.com</td>\n",
       "      <td>Sales-Agent-4</td>\n",
       "      <td>Other Locations</td>\n",
       "      <td>Mode-1</td>\n",
       "      <td>Just Enquiry</td>\n",
       "    </tr>\n",
       "    <tr>\n",
       "      <th>7421</th>\n",
       "      <td>28-04-2018 07:54</td>\n",
       "      <td>25</td>\n",
       "      <td>Website</td>\n",
       "      <td></td>\n",
       "      <td>cXXXXXXX@gmail.com</td>\n",
       "      <td>Sales-Agent-3</td>\n",
       "      <td>Chennai</td>\n",
       "      <td>Mode-1</td>\n",
       "      <td>CONVERTED</td>\n",
       "    </tr>\n",
       "  </tbody>\n",
       "</table>\n",
       "<p>7422 rows × 9 columns</p>\n",
       "</div>"
      ],
      "text/plain": [
       "               Created Product_ID            Source      Mobile  \\\n",
       "0     14-11-2018 10:05                      Website  984XXXXXXX   \n",
       "1     14-11-2018 09:22                      Website     XXXXXXX   \n",
       "2     14-11-2018 09:21                      Website     XXXXXXX   \n",
       "3     14-11-2018 08:46                      Website     XXXXXXX   \n",
       "4     14-11-2018 07:34                      Website     XXXXXXX   \n",
       "...                ...        ...               ...         ...   \n",
       "7417  28-04-2018 09:45          9              Call               \n",
       "7418  28-04-2018 09:43         15              Call               \n",
       "7419  28-04-2018 09:20          5  Live Chat-Direct               \n",
       "7420  28-04-2018 08:04         21          CRM form               \n",
       "7421  28-04-2018 07:54         25           Website               \n",
       "\n",
       "                   EMAIL     Sales_Agent         Location Delivery_Mode  \\\n",
       "0     aXXXXXXX@gmail.com  Sales-Agent-11                         Mode-5   \n",
       "1                #VALUE!  Sales-Agent-10                         Mode-5   \n",
       "2     dXXXXXXX@yahoo.com  Sales-Agent-10                         Mode-5   \n",
       "3     wXXXXXXX@gmail.com  Sales-Agent-10                         Mode-5   \n",
       "4     cXXXXXXX@gmail.com  Sales-Agent-10                         Mode-5   \n",
       "...                  ...             ...              ...           ...   \n",
       "7417  aXXXXXXX@gmail.com   Sales-Agent-6           Mumbai        Mode-4   \n",
       "7418             #VALUE!  Sales-Agent-12  Other Locations        Mode-5   \n",
       "7419  sXXXXXXX@gmail.com  Sales-Agent-11        Bangalore        Mode-1   \n",
       "7420  YXXXXXXX@gmail.com   Sales-Agent-4  Other Locations        Mode-1   \n",
       "7421  cXXXXXXX@gmail.com   Sales-Agent-3          Chennai        Mode-1   \n",
       "\n",
       "              Status  \n",
       "0               Open  \n",
       "1               Open  \n",
       "2               Open  \n",
       "3               Open  \n",
       "4               Open  \n",
       "...              ...  \n",
       "7417            LOST  \n",
       "7418            LOST  \n",
       "7419  Not Responding  \n",
       "7420    Just Enquiry  \n",
       "7421       CONVERTED  \n",
       "\n",
       "[7422 rows x 9 columns]"
      ]
     },
     "execution_count": 6,
     "metadata": {},
     "output_type": "execute_result"
    }
   ],
   "source": [
    "query = \"select * from data\"\n",
    "orders = pd.read_sql(query,conn)\n",
    "print(orders.shape)\n",
    "orders"
   ]
  },
  {
   "cell_type": "code",
   "execution_count": 7,
   "metadata": {},
   "outputs": [],
   "source": [
    "orders.to_csv('C:\\\\Users\\\\PRABHATI\\\\Sales_data.csv')"
   ]
  },
  {
   "cell_type": "code",
   "execution_count": 8,
   "metadata": {},
   "outputs": [],
   "source": [
    "# Retreiving the Data from CSV-File"
   ]
  },
  {
   "cell_type": "code",
   "execution_count": 9,
   "metadata": {},
   "outputs": [
    {
     "data": {
      "text/html": [
       "<div>\n",
       "<style scoped>\n",
       "    .dataframe tbody tr th:only-of-type {\n",
       "        vertical-align: middle;\n",
       "    }\n",
       "\n",
       "    .dataframe tbody tr th {\n",
       "        vertical-align: top;\n",
       "    }\n",
       "\n",
       "    .dataframe thead th {\n",
       "        text-align: right;\n",
       "    }\n",
       "</style>\n",
       "<table border=\"1\" class=\"dataframe\">\n",
       "  <thead>\n",
       "    <tr style=\"text-align: right;\">\n",
       "      <th></th>\n",
       "      <th>Unnamed: 0</th>\n",
       "      <th>Created</th>\n",
       "      <th>Product_ID</th>\n",
       "      <th>Source</th>\n",
       "      <th>Mobile</th>\n",
       "      <th>EMAIL</th>\n",
       "      <th>Sales_Agent</th>\n",
       "      <th>Location</th>\n",
       "      <th>Delivery_Mode</th>\n",
       "      <th>Status</th>\n",
       "    </tr>\n",
       "  </thead>\n",
       "  <tbody>\n",
       "    <tr>\n",
       "      <th>0</th>\n",
       "      <td>0</td>\n",
       "      <td>14-11-2018 10:05</td>\n",
       "      <td>NaN</td>\n",
       "      <td>Website</td>\n",
       "      <td>984XXXXXXX</td>\n",
       "      <td>aXXXXXXX@gmail.com</td>\n",
       "      <td>Sales-Agent-11</td>\n",
       "      <td>NaN</td>\n",
       "      <td>Mode-5</td>\n",
       "      <td>Open</td>\n",
       "    </tr>\n",
       "    <tr>\n",
       "      <th>1</th>\n",
       "      <td>1</td>\n",
       "      <td>14-11-2018 09:22</td>\n",
       "      <td>NaN</td>\n",
       "      <td>Website</td>\n",
       "      <td>XXXXXXX</td>\n",
       "      <td>#VALUE!</td>\n",
       "      <td>Sales-Agent-10</td>\n",
       "      <td>NaN</td>\n",
       "      <td>Mode-5</td>\n",
       "      <td>Open</td>\n",
       "    </tr>\n",
       "    <tr>\n",
       "      <th>2</th>\n",
       "      <td>2</td>\n",
       "      <td>14-11-2018 09:21</td>\n",
       "      <td>NaN</td>\n",
       "      <td>Website</td>\n",
       "      <td>XXXXXXX</td>\n",
       "      <td>dXXXXXXX@yahoo.com</td>\n",
       "      <td>Sales-Agent-10</td>\n",
       "      <td>NaN</td>\n",
       "      <td>Mode-5</td>\n",
       "      <td>Open</td>\n",
       "    </tr>\n",
       "    <tr>\n",
       "      <th>3</th>\n",
       "      <td>3</td>\n",
       "      <td>14-11-2018 08:46</td>\n",
       "      <td>NaN</td>\n",
       "      <td>Website</td>\n",
       "      <td>XXXXXXX</td>\n",
       "      <td>wXXXXXXX@gmail.com</td>\n",
       "      <td>Sales-Agent-10</td>\n",
       "      <td>NaN</td>\n",
       "      <td>Mode-5</td>\n",
       "      <td>Open</td>\n",
       "    </tr>\n",
       "    <tr>\n",
       "      <th>4</th>\n",
       "      <td>4</td>\n",
       "      <td>14-11-2018 07:34</td>\n",
       "      <td>NaN</td>\n",
       "      <td>Website</td>\n",
       "      <td>XXXXXXX</td>\n",
       "      <td>cXXXXXXX@gmail.com</td>\n",
       "      <td>Sales-Agent-10</td>\n",
       "      <td>NaN</td>\n",
       "      <td>Mode-5</td>\n",
       "      <td>Open</td>\n",
       "    </tr>\n",
       "  </tbody>\n",
       "</table>\n",
       "</div>"
      ],
      "text/plain": [
       "   Unnamed: 0           Created  Product_ID   Source      Mobile  \\\n",
       "0           0  14-11-2018 10:05         NaN  Website  984XXXXXXX   \n",
       "1           1  14-11-2018 09:22         NaN  Website     XXXXXXX   \n",
       "2           2  14-11-2018 09:21         NaN  Website     XXXXXXX   \n",
       "3           3  14-11-2018 08:46         NaN  Website     XXXXXXX   \n",
       "4           4  14-11-2018 07:34         NaN  Website     XXXXXXX   \n",
       "\n",
       "                EMAIL     Sales_Agent Location Delivery_Mode Status  \n",
       "0  aXXXXXXX@gmail.com  Sales-Agent-11      NaN        Mode-5   Open  \n",
       "1             #VALUE!  Sales-Agent-10      NaN        Mode-5   Open  \n",
       "2  dXXXXXXX@yahoo.com  Sales-Agent-10      NaN        Mode-5   Open  \n",
       "3  wXXXXXXX@gmail.com  Sales-Agent-10      NaN        Mode-5   Open  \n",
       "4  cXXXXXXX@gmail.com  Sales-Agent-10      NaN        Mode-5   Open  "
      ]
     },
     "execution_count": 9,
     "metadata": {},
     "output_type": "execute_result"
    }
   ],
   "source": [
    "#import pandas as pd\n",
    "data=pd.read_csv('Sales_data.csv')\n",
    "data.head()"
   ]
  },
  {
   "cell_type": "markdown",
   "metadata": {},
   "source": [
    "###### Getting overview of dataset"
   ]
  },
  {
   "cell_type": "code",
   "execution_count": 10,
   "metadata": {},
   "outputs": [
    {
     "name": "stdout",
     "output_type": "stream",
     "text": [
      "<class 'pandas.core.frame.DataFrame'>\n",
      "RangeIndex: 7422 entries, 0 to 7421\n",
      "Data columns (total 10 columns):\n",
      " #   Column         Non-Null Count  Dtype  \n",
      "---  ------         --------------  -----  \n",
      " 0   Unnamed: 0     7422 non-null   int64  \n",
      " 1   Created        7422 non-null   object \n",
      " 2   Product_ID     7364 non-null   float64\n",
      " 3   Source         7405 non-null   object \n",
      " 4   Mobile         5612 non-null   object \n",
      " 5   EMAIL          7422 non-null   object \n",
      " 6   Sales_Agent    7399 non-null   object \n",
      " 7   Location       7364 non-null   object \n",
      " 8   Delivery_Mode  7422 non-null   object \n",
      " 9   Status         7422 non-null   object \n",
      "dtypes: float64(1), int64(1), object(8)\n",
      "memory usage: 580.0+ KB\n"
     ]
    }
   ],
   "source": [
    "data.describe\n",
    "data.info()"
   ]
  },
  {
   "cell_type": "code",
   "execution_count": 11,
   "metadata": {},
   "outputs": [
    {
     "name": "stdout",
     "output_type": "stream",
     "text": [
      "Shape : (7422, 10)\n",
      "Rows :  7422\n",
      "Columns :  10\n",
      "\n",
      "Features : \n",
      " ['Unnamed: 0', 'Created', 'Product_ID', 'Source', 'Mobile', 'EMAIL', 'Sales_Agent', 'Location', 'Delivery_Mode', 'Status']\n",
      "\n",
      " Missing Values :  1966\n",
      "\n",
      "Unique Values : \n",
      " Unnamed: 0       7422\n",
      "Created          6752\n",
      "Product_ID         29\n",
      "Source             25\n",
      "Mobile            486\n",
      "EMAIL             883\n",
      "Sales_Agent        12\n",
      "Location           17\n",
      "Delivery_Mode       5\n",
      "Status             11\n",
      "dtype: int64\n"
     ]
    }
   ],
   "source": [
    "print(\"Shape :\",data.shape)\n",
    "print(\"Rows : \",data.shape[0])\n",
    "print(\"Columns : \",data.shape[1])\n",
    "print(\"\\nFeatures : \\n\" ,data.columns.tolist())\n",
    "print(\"\\n Missing Values : \",data.isnull().sum().values.sum())\n",
    "print(\"\\nUnique Values : \\n\" ,data.nunique())"
   ]
  },
  {
   "cell_type": "markdown",
   "metadata": {},
   "source": [
    "### EDA"
   ]
  },
  {
   "cell_type": "code",
   "execution_count": 12,
   "metadata": {},
   "outputs": [
    {
     "data": {
      "text/plain": [
       "Unnamed: 0         int64\n",
       "Created           object\n",
       "Product_ID       float64\n",
       "Source            object\n",
       "Mobile            object\n",
       "EMAIL             object\n",
       "Sales_Agent       object\n",
       "Location          object\n",
       "Delivery_Mode     object\n",
       "Status            object\n",
       "dtype: object"
      ]
     },
     "execution_count": 12,
     "metadata": {},
     "output_type": "execute_result"
    }
   ],
   "source": [
    "data.dtypes"
   ]
  },
  {
   "cell_type": "code",
   "execution_count": 13,
   "metadata": {},
   "outputs": [],
   "source": [
    "data1=data.drop(columns=[\"Mobile\",\"EMAIL\",\"Created\"])"
   ]
  },
  {
   "cell_type": "code",
   "execution_count": 14,
   "metadata": {},
   "outputs": [
    {
     "data": {
      "text/plain": [
       "(7422, 7)"
      ]
     },
     "execution_count": 14,
     "metadata": {},
     "output_type": "execute_result"
    }
   ],
   "source": [
    "data1.shape"
   ]
  },
  {
   "cell_type": "code",
   "execution_count": 15,
   "metadata": {
    "scrolled": true
   },
   "outputs": [
    {
     "data": {
      "text/html": [
       "<div>\n",
       "<style scoped>\n",
       "    .dataframe tbody tr th:only-of-type {\n",
       "        vertical-align: middle;\n",
       "    }\n",
       "\n",
       "    .dataframe tbody tr th {\n",
       "        vertical-align: top;\n",
       "    }\n",
       "\n",
       "    .dataframe thead th {\n",
       "        text-align: right;\n",
       "    }\n",
       "</style>\n",
       "<table border=\"1\" class=\"dataframe\">\n",
       "  <thead>\n",
       "    <tr style=\"text-align: right;\">\n",
       "      <th></th>\n",
       "      <th>Unnamed: 0</th>\n",
       "      <th>Product_ID</th>\n",
       "      <th>Source</th>\n",
       "      <th>Sales_Agent</th>\n",
       "      <th>Location</th>\n",
       "      <th>Delivery_Mode</th>\n",
       "      <th>Status</th>\n",
       "    </tr>\n",
       "  </thead>\n",
       "  <tbody>\n",
       "    <tr>\n",
       "      <th>0</th>\n",
       "      <td>0</td>\n",
       "      <td>NaN</td>\n",
       "      <td>Website</td>\n",
       "      <td>Sales-Agent-11</td>\n",
       "      <td>NaN</td>\n",
       "      <td>Mode-5</td>\n",
       "      <td>Open</td>\n",
       "    </tr>\n",
       "    <tr>\n",
       "      <th>1</th>\n",
       "      <td>1</td>\n",
       "      <td>NaN</td>\n",
       "      <td>Website</td>\n",
       "      <td>Sales-Agent-10</td>\n",
       "      <td>NaN</td>\n",
       "      <td>Mode-5</td>\n",
       "      <td>Open</td>\n",
       "    </tr>\n",
       "    <tr>\n",
       "      <th>2</th>\n",
       "      <td>2</td>\n",
       "      <td>NaN</td>\n",
       "      <td>Website</td>\n",
       "      <td>Sales-Agent-10</td>\n",
       "      <td>NaN</td>\n",
       "      <td>Mode-5</td>\n",
       "      <td>Open</td>\n",
       "    </tr>\n",
       "    <tr>\n",
       "      <th>3</th>\n",
       "      <td>3</td>\n",
       "      <td>NaN</td>\n",
       "      <td>Website</td>\n",
       "      <td>Sales-Agent-10</td>\n",
       "      <td>NaN</td>\n",
       "      <td>Mode-5</td>\n",
       "      <td>Open</td>\n",
       "    </tr>\n",
       "    <tr>\n",
       "      <th>4</th>\n",
       "      <td>4</td>\n",
       "      <td>NaN</td>\n",
       "      <td>Website</td>\n",
       "      <td>Sales-Agent-10</td>\n",
       "      <td>NaN</td>\n",
       "      <td>Mode-5</td>\n",
       "      <td>Open</td>\n",
       "    </tr>\n",
       "  </tbody>\n",
       "</table>\n",
       "</div>"
      ],
      "text/plain": [
       "   Unnamed: 0  Product_ID   Source     Sales_Agent Location Delivery_Mode  \\\n",
       "0           0         NaN  Website  Sales-Agent-11      NaN        Mode-5   \n",
       "1           1         NaN  Website  Sales-Agent-10      NaN        Mode-5   \n",
       "2           2         NaN  Website  Sales-Agent-10      NaN        Mode-5   \n",
       "3           3         NaN  Website  Sales-Agent-10      NaN        Mode-5   \n",
       "4           4         NaN  Website  Sales-Agent-10      NaN        Mode-5   \n",
       "\n",
       "  Status  \n",
       "0   Open  \n",
       "1   Open  \n",
       "2   Open  \n",
       "3   Open  \n",
       "4   Open  "
      ]
     },
     "execution_count": 15,
     "metadata": {},
     "output_type": "execute_result"
    }
   ],
   "source": [
    "data1.head()"
   ]
  },
  {
   "cell_type": "code",
   "execution_count": 16,
   "metadata": {},
   "outputs": [],
   "source": [
    "# Using Counter to count the key value pairs inside the dictionary for each feature"
   ]
  },
  {
   "cell_type": "code",
   "execution_count": 17,
   "metadata": {},
   "outputs": [
    {
     "data": {
      "text/plain": [
       "Counter({nan: 58,\n",
       "         'Bangalore': 2084,\n",
       "         'Other Locations': 2500,\n",
       "         'UAE': 79,\n",
       "         'Trivandrum': 58,\n",
       "         'Hyderabad': 528,\n",
       "         'Chennai': 909,\n",
       "         'UK': 41,\n",
       "         'USA': 45,\n",
       "         'Delhi': 471,\n",
       "         'Mumbai': 402,\n",
       "         'Kolkata': 55,\n",
       "         'Singapore': 17,\n",
       "         'Pune': 142,\n",
       "         'AUSTRALIA': 25,\n",
       "         'EUROPE': 3,\n",
       "         'Malaysia': 4,\n",
       "         'Howrah': 1})"
      ]
     },
     "execution_count": 17,
     "metadata": {},
     "output_type": "execute_result"
    }
   ],
   "source": [
    "Counter(data1.Location)"
   ]
  },
  {
   "cell_type": "code",
   "execution_count": 18,
   "metadata": {},
   "outputs": [
    {
     "data": {
      "text/plain": [
       "<seaborn.axisgrid.FacetGrid at 0x16f2c6c4448>"
      ]
     },
     "execution_count": 18,
     "metadata": {},
     "output_type": "execute_result"
    },
    {
     "data": {
      "image/png": "[encoded data removed]",
      "text/plain": [
       "<Figure size 1512x504 with 1 Axes>"
      ]
     },
     "metadata": {
      "needs_background": "light"
     },
     "output_type": "display_data"
    }
   ],
   "source": [
    "sns.catplot(x='Location',data=data,kind='count',height=7,aspect=3)"
   ]
  },
  {
   "cell_type": "code",
   "execution_count": 19,
   "metadata": {},
   "outputs": [
    {
     "data": {
      "text/plain": [
       "Counter({'Website': 1594,\n",
       "         nan: 17,\n",
       "         'Live Chat-Google Organic': 274,\n",
       "         'Call': 2547,\n",
       "         'Live Chat-Direct': 1834,\n",
       "         'By Recommendation': 32,\n",
       "         'Customer Referral': 180,\n",
       "         'Live Chat-Blog': 237,\n",
       "         'Live Chat -PPC': 249,\n",
       "         'Live Chat-Google Ads': 21,\n",
       "         'Live Chat-Adwords Remarketing': 7,\n",
       "         'E-Mail Message': 1,\n",
       "         'Existing Client': 51,\n",
       "         'Live Chat-CPC': 50,\n",
       "         'Existing Customer': 22,\n",
       "         'Live Chat-Quora': 2,\n",
       "         'US Website': 137,\n",
       "         'Just Dial': 56,\n",
       "         'Campaign': 19,\n",
       "         'Other': 2,\n",
       "         'E-mail Campaign': 12,\n",
       "         'CRM form': 23,\n",
       "         'SMS Campaign': 2,\n",
       "         'Personal Contact': 50,\n",
       "         'Live Chat-Youtube': 2,\n",
       "         'Live Chat-Justdial': 1})"
      ]
     },
     "execution_count": 19,
     "metadata": {},
     "output_type": "execute_result"
    }
   ],
   "source": [
    "Counter(data1.Source)"
   ]
  },
  {
   "cell_type": "code",
   "execution_count": 20,
   "metadata": {},
   "outputs": [
    {
     "data": {
      "text/plain": [
       "<seaborn.axisgrid.FacetGrid at 0x16f2d94a208>"
      ]
     },
     "execution_count": 20,
     "metadata": {},
     "output_type": "execute_result"
    },
    {
     "data": {
      "image/png": "[encoded data removed]",
      "text/plain": [
       "<Figure size 2160x720 with 1 Axes>"
      ]
     },
     "metadata": {
      "needs_background": "light"
     },
     "output_type": "display_data"
    }
   ],
   "source": [
    "sns.catplot(x='Source',data=data1,kind='count',height=10,aspect=3)"
   ]
  },
  {
   "cell_type": "code",
   "execution_count": 21,
   "metadata": {},
   "outputs": [
    {
     "data": {
      "text/plain": [
       "Counter({'Sales-Agent-11': 1420,\n",
       "         'Sales-Agent-10': 49,\n",
       "         'Sales-Agent-3': 781,\n",
       "         'Sales-Agent-4': 1500,\n",
       "         'Sales-Agent-9': 879,\n",
       "         'Sales-Agent-7': 736,\n",
       "         nan: 23,\n",
       "         'Sales-Agent-8': 68,\n",
       "         'Sales-Agent-5': 1190,\n",
       "         'Sales-Agent-2': 389,\n",
       "         'Sales-Agent-12': 269,\n",
       "         'Sales-Agent-1': 4,\n",
       "         'Sales-Agent-6': 114})"
      ]
     },
     "execution_count": 21,
     "metadata": {},
     "output_type": "execute_result"
    }
   ],
   "source": [
    "Counter(data1.Sales_Agent)"
   ]
  },
  {
   "cell_type": "code",
   "execution_count": 22,
   "metadata": {},
   "outputs": [
    {
     "data": {
      "text/plain": [
       "<seaborn.axisgrid.FacetGrid at 0x16f2d045f88>"
      ]
     },
     "execution_count": 22,
     "metadata": {},
     "output_type": "execute_result"
    },
    {
     "data": {
      "image/png": "[encoded data removed]",
      "text/plain": [
       "<Figure size 2160x720 with 1 Axes>"
      ]
     },
     "metadata": {
      "needs_background": "light"
     },
     "output_type": "display_data"
    }
   ],
   "source": [
    "sns.catplot(x='Sales_Agent',data=data1,kind='count',height=10,aspect=3)"
   ]
  },
  {
   "cell_type": "code",
   "execution_count": 23,
   "metadata": {},
   "outputs": [
    {
     "data": {
      "text/plain": [
       "Counter({'Open': 82,\n",
       "         'Potential': 708,\n",
       "         'In Progress Positive': 643,\n",
       "         'Not Responding': 1129,\n",
       "         'Just Enquiry': 760,\n",
       "         'Junk Lead': 1536,\n",
       "         'CONVERTED': 834,\n",
       "         'In Progress Negative': 626,\n",
       "         'LOST': 440,\n",
       "         'Long Term': 646,\n",
       "         'converted': 18})"
      ]
     },
     "execution_count": 23,
     "metadata": {},
     "output_type": "execute_result"
    }
   ],
   "source": [
    "Counter(data1.Status)"
   ]
  },
  {
   "cell_type": "code",
   "execution_count": 24,
   "metadata": {},
   "outputs": [
    {
     "data": {
      "text/plain": [
       "<seaborn.axisgrid.FacetGrid at 0x16f2d0e1b48>"
      ]
     },
     "execution_count": 24,
     "metadata": {},
     "output_type": "execute_result"
    },
    {
     "data": {
      "image/png": "[encoded data removed]",
      "text/plain": [
       "<Figure size 2160x720 with 1 Axes>"
      ]
     },
     "metadata": {
      "needs_background": "light"
     },
     "output_type": "display_data"
    }
   ],
   "source": [
    "sns.catplot(x='Status',data=data1,kind='count',height=10,aspect=3)"
   ]
  },
  {
   "cell_type": "code",
   "execution_count": 25,
   "metadata": {},
   "outputs": [
    {
     "data": {
      "text/plain": [
       "Counter({nan: 1,\n",
       "         nan: 1,\n",
       "         nan: 1,\n",
       "         nan: 1,\n",
       "         nan: 1,\n",
       "         nan: 1,\n",
       "         nan: 1,\n",
       "         nan: 1,\n",
       "         nan: 1,\n",
       "         nan: 1,\n",
       "         nan: 1,\n",
       "         nan: 1,\n",
       "         nan: 1,\n",
       "         nan: 1,\n",
       "         nan: 1,\n",
       "         nan: 1,\n",
       "         nan: 1,\n",
       "         nan: 1,\n",
       "         9.0: 992,\n",
       "         19.0: 1189,\n",
       "         nan: 1,\n",
       "         nan: 1,\n",
       "         nan: 1,\n",
       "         nan: 1,\n",
       "         18.0: 1711,\n",
       "         15.0: 1518,\n",
       "         27.0: 739,\n",
       "         5.0: 487,\n",
       "         2.0: 38,\n",
       "         3.0: 7,\n",
       "         25.0: 90,\n",
       "         10.0: 168,\n",
       "         20.0: 102,\n",
       "         nan: 1,\n",
       "         nan: 1,\n",
       "         nan: 1,\n",
       "         nan: 1,\n",
       "         nan: 1,\n",
       "         nan: 1,\n",
       "         nan: 1,\n",
       "         nan: 1,\n",
       "         nan: 1,\n",
       "         nan: 1,\n",
       "         nan: 1,\n",
       "         nan: 1,\n",
       "         nan: 1,\n",
       "         11.0: 12,\n",
       "         21.0: 66,\n",
       "         1.0: 105,\n",
       "         12.0: 36,\n",
       "         13.0: 5,\n",
       "         17.0: 7,\n",
       "         24.0: 3,\n",
       "         26.0: 31,\n",
       "         16.0: 3,\n",
       "         23.0: 2,\n",
       "         22.0: 8,\n",
       "         8.0: 6,\n",
       "         nan: 1,\n",
       "         nan: 1,\n",
       "         nan: 1,\n",
       "         nan: 1,\n",
       "         14.0: 27,\n",
       "         nan: 1,\n",
       "         6.0: 7,\n",
       "         nan: 1,\n",
       "         nan: 1,\n",
       "         nan: 1,\n",
       "         nan: 1,\n",
       "         nan: 1,\n",
       "         nan: 1,\n",
       "         nan: 1,\n",
       "         nan: 1,\n",
       "         nan: 1,\n",
       "         nan: 1,\n",
       "         0.0: 2,\n",
       "         nan: 1,\n",
       "         nan: 1,\n",
       "         nan: 1,\n",
       "         nan: 1,\n",
       "         nan: 1,\n",
       "         nan: 1,\n",
       "         nan: 1,\n",
       "         nan: 1,\n",
       "         28.0: 1,\n",
       "         7.0: 1,\n",
       "         4.0: 1})"
      ]
     },
     "execution_count": 25,
     "metadata": {},
     "output_type": "execute_result"
    }
   ],
   "source": [
    "Counter(data.Product_ID)"
   ]
  },
  {
   "cell_type": "code",
   "execution_count": 26,
   "metadata": {},
   "outputs": [
    {
     "data": {
      "text/plain": [
       "<seaborn.axisgrid.FacetGrid at 0x16f2d1b8d88>"
      ]
     },
     "execution_count": 26,
     "metadata": {},
     "output_type": "execute_result"
    },
    {
     "data": {
      "image/png": "[encoded data removed]",
      "text/plain": [
       "<Figure size 1512x504 with 1 Axes>"
      ]
     },
     "metadata": {
      "needs_background": "light"
     },
     "output_type": "display_data"
    }
   ],
   "source": [
    "sns.catplot(x='Product_ID',data=data1,kind='count',height=7,aspect=3)"
   ]
  },
  {
   "cell_type": "code",
   "execution_count": 27,
   "metadata": {},
   "outputs": [
    {
     "data": {
      "text/plain": [
       "Counter({'Mode-5': 2975,\n",
       "         'Mode-1': 2627,\n",
       "         'Mode-3': 1688,\n",
       "         'Mode-2': 11,\n",
       "         'Mode-4': 121})"
      ]
     },
     "execution_count": 27,
     "metadata": {},
     "output_type": "execute_result"
    }
   ],
   "source": [
    "Counter(data1.Delivery_Mode)"
   ]
  },
  {
   "cell_type": "code",
   "execution_count": 28,
   "metadata": {},
   "outputs": [],
   "source": [
    "import seaborn as sb"
   ]
  },
  {
   "cell_type": "code",
   "execution_count": 29,
   "metadata": {},
   "outputs": [
    {
     "data": {
      "text/plain": [
       "<seaborn.axisgrid.PairGrid at 0x16f2d992e48>"
      ]
     },
     "execution_count": 29,
     "metadata": {},
     "output_type": "execute_result"
    },
    {
     "data": {
      "image/png": "[encoded data removed]",
      "text/plain": [
       "<Figure size 360x360 with 6 Axes>"
      ]
     },
     "metadata": {
      "needs_background": "light"
     },
     "output_type": "display_data"
    }
   ],
   "source": [
    "sb.pairplot(data1)"
   ]
  },
  {
   "cell_type": "markdown",
   "metadata": {},
   "source": [
    "###### Use this technique to analyse each categorical predictor with outcome variable"
   ]
  },
  {
   "cell_type": "markdown",
   "metadata": {},
   "source": [
    "Analyse the Product_ID with Outcome Variable"
   ]
  },
  {
   "cell_type": "code",
   "execution_count": 30,
   "metadata": {},
   "outputs": [
    {
     "name": "stdout",
     "output_type": "stream",
     "text": [
      "Status      CONVERTED  In Progress Negative  In Progress Positive  Junk Lead  \\\n",
      "Product_ID                                                                     \n",
      "0.0            0.0000                0.0000                0.0000     0.0000   \n",
      "1.0            0.0000                0.1358                0.1086     0.2988   \n",
      "2.0            0.0136                0.0407                0.0407     0.0951   \n",
      "3.0            0.0000                0.0272                0.0272     0.0000   \n",
      "4.0            0.0000                0.0000                0.0000     0.0000   \n",
      "5.0            0.6926                0.7333                0.4481     1.2765   \n",
      "6.0            0.0000                0.0000                0.0136     0.0136   \n",
      "7.0            0.0000                0.0000                0.0000     0.0136   \n",
      "8.0            0.0000                0.0136                0.0000     0.0272   \n",
      "9.0            2.4579                1.2765                1.5481     1.9011   \n",
      "10.0           0.5024                0.2580                0.2580     0.2444   \n",
      "11.0           0.0136                0.0272                0.0272     0.0000   \n",
      "12.0           0.0543                0.0543                0.0407     0.0951   \n",
      "13.0           0.0000                0.0136                0.0000     0.0272   \n",
      "14.0           0.0000                0.0000                0.0000     0.3395   \n",
      "15.0           0.0272                1.0320                0.2852     9.4921   \n",
      "16.0           0.0000                0.0000                0.0000     0.0407   \n",
      "17.0           0.0000                0.0136                0.0000     0.0407   \n",
      "18.0           2.1727                2.0369                2.9060     2.8789   \n",
      "19.0           3.5171                1.5481                1.6160     2.1184   \n",
      "20.0           0.4481                0.0815                0.1494     0.1630   \n",
      "21.0           0.2037                0.0543                0.0407     0.0815   \n",
      "22.0           0.0000                0.0000                0.0000     0.0407   \n",
      "23.0           0.0000                0.0000                0.0000     0.0272   \n",
      "24.0           0.0000                0.0000                0.0000     0.0136   \n",
      "25.0           0.0815                0.0543                0.1630     0.0951   \n",
      "26.0           0.0272                0.0543                0.0815     0.0543   \n",
      "27.0           1.1135                1.0456                0.9641     1.4394   \n",
      "28.0           0.0000                0.0000                0.0000     0.0136   \n",
      "All           11.3254                8.5008                8.7181    20.8311   \n",
      "\n",
      "Status      Just Enquiry    LOST  Long Term  Not Responding    Open  \\\n",
      "Product_ID                                                            \n",
      "0.0               0.0136  0.0136     0.0000          0.0000  0.0000   \n",
      "1.0               0.2444  0.0815     0.0679          0.3938  0.0136   \n",
      "2.0               0.0407  0.0272     0.0679          0.1222  0.0000   \n",
      "3.0               0.0000  0.0136     0.0272          0.0000  0.0000   \n",
      "4.0               0.0136  0.0000     0.0000          0.0000  0.0000   \n",
      "5.0               1.0728  0.3531     0.4753          1.0320  0.0543   \n",
      "6.0               0.0000  0.0407     0.0136          0.0000  0.0000   \n",
      "7.0               0.0000  0.0000     0.0000          0.0000  0.0000   \n",
      "8.0               0.0272  0.0000     0.0136          0.0000  0.0000   \n",
      "9.0               1.1950  1.3987     1.3444          1.0049  0.0136   \n",
      "10.0              0.2309  0.0951     0.2037          0.1494  0.0000   \n",
      "11.0              0.0000  0.0136     0.0000          0.0679  0.0000   \n",
      "12.0              0.0951  0.0136     0.0272          0.0679  0.0000   \n",
      "13.0              0.0136  0.0000     0.0000          0.0000  0.0136   \n",
      "14.0              0.0136  0.0136     0.0000          0.0000  0.0000   \n",
      "15.0              2.0641  0.8555     0.2444          5.8392  0.2444   \n",
      "16.0              0.0000  0.0000     0.0000          0.0000  0.0000   \n",
      "17.0              0.0000  0.0000     0.0000          0.0136  0.0136   \n",
      "18.0              2.6752  1.2493     3.2591          3.0282  0.0407   \n",
      "19.0              1.1271  1.0049     1.5073          1.3851  0.0136   \n",
      "20.0              0.0951  0.0272     0.1086          0.2037  0.0000   \n",
      "21.0              0.0815  0.0951     0.1086          0.1630  0.0000   \n",
      "22.0              0.0407  0.0136     0.0136          0.0000  0.0000   \n",
      "23.0              0.0000  0.0000     0.0000          0.0000  0.0000   \n",
      "24.0              0.0136  0.0000     0.0000          0.0000  0.0136   \n",
      "25.0              0.1086  0.0407     0.1086          0.4210  0.0000   \n",
      "26.0              0.0679  0.0272     0.0272          0.0136  0.0000   \n",
      "27.0              1.0456  0.5975     1.1407          1.3987  0.0272   \n",
      "28.0              0.0000  0.0000     0.0000          0.0000  0.0000   \n",
      "All              10.2797  5.9750     8.7588         15.3042  0.4481   \n",
      "\n",
      "Status      Potential  converted       All  \n",
      "Product_ID                                  \n",
      "0.0            0.0000     0.0000    0.0272  \n",
      "1.0            0.0815     0.0000    1.4259  \n",
      "2.0            0.0679     0.0000    0.5160  \n",
      "3.0            0.0000     0.0000    0.0951  \n",
      "4.0            0.0000     0.0000    0.0136  \n",
      "5.0            0.4617     0.0136    6.6133  \n",
      "6.0            0.0136     0.0000    0.0951  \n",
      "7.0            0.0000     0.0000    0.0136  \n",
      "8.0            0.0000     0.0000    0.0815  \n",
      "9.0            1.2629     0.0679   13.4709  \n",
      "10.0           0.3395     0.0000    2.2814  \n",
      "11.0           0.0136     0.0000    0.1630  \n",
      "12.0           0.0407     0.0000    0.4889  \n",
      "13.0           0.0000     0.0000    0.0679  \n",
      "14.0           0.0000     0.0000    0.3666  \n",
      "15.0           0.5296     0.0000   20.6138  \n",
      "16.0           0.0000     0.0000    0.0407  \n",
      "17.0           0.0136     0.0000    0.0951  \n",
      "18.0           2.8924     0.0951   23.2347  \n",
      "19.0           2.2678     0.0407   16.1461  \n",
      "20.0           0.1086     0.0000    1.3851  \n",
      "21.0           0.0679     0.0000    0.8963  \n",
      "22.0           0.0000     0.0000    0.1086  \n",
      "23.0           0.0000     0.0000    0.0272  \n",
      "24.0           0.0000     0.0000    0.0407  \n",
      "25.0           0.1494     0.0000    1.2222  \n",
      "26.0           0.0679     0.0000    0.4210  \n",
      "27.0           1.2357     0.0272   10.0353  \n",
      "28.0           0.0000     0.0000    0.0136  \n",
      "All            9.6143     0.2444  100.0000  \n"
     ]
    },
    {
     "data": {
      "text/plain": [
       "<AxesSubplot:title={'center':'Product ID Vs Lead Quality: Calculated as % Overall'}, ylabel='Product_ID'>"
      ]
     },
     "execution_count": 30,
     "metadata": {},
     "output_type": "execute_result"
    },
    {
     "data": {
      "image/png": "[encoded data removed]",
      "text/plain": [
       "<Figure size 936x576 with 1 Axes>"
      ]
     },
     "metadata": {
      "needs_background": "light"
     },
     "output_type": "display_data"
    }
   ],
   "source": [
    "rcParams['figure.figsize']=13,8\n",
    "Crosstab_Cat=pd.crosstab([data1.Product_ID],data1.Status,normalize='all',margins=True).round(6)*100\n",
    "print(Crosstab_Cat)\n",
    "Crosstab_Cat.plot(kind='barh', stacked=False, grid=True,title=\"Product ID Vs Lead Quality: Calculated as % Overall\")"
   ]
  },
  {
   "cell_type": "markdown",
   "metadata": {},
   "source": [
    "Analyze the Source with Outcome Variable"
   ]
  },
  {
   "cell_type": "code",
   "execution_count": 31,
   "metadata": {},
   "outputs": [
    {
     "name": "stdout",
     "output_type": "stream",
     "text": [
      "Status                         CONVERTED  In Progress Negative  \\\n",
      "Source                                                           \n",
      "By Recommendation                 0.2431                0.0000   \n",
      "CRM form                          0.0405                0.0675   \n",
      "Call                              3.2411                2.7009   \n",
      "Campaign                          0.0540                0.0000   \n",
      "Customer Referral                 1.5935                0.0540   \n",
      "E-Mail Message                    0.0000                0.0000   \n",
      "E-mail Campaign                   0.0540                0.0270   \n",
      "Existing Client                   0.4727                0.0000   \n",
      "Existing Customer                 0.1756                0.0135   \n",
      "Just Dial                         0.0135                0.1215   \n",
      "Live Chat -PPC                    0.1485                0.2971   \n",
      "Live Chat-Adwords Remarketing     0.0000                0.0000   \n",
      "Live Chat-Blog                    0.1485                0.3646   \n",
      "Live Chat-CPC                     0.0135                0.1080   \n",
      "Live Chat-Direct                  2.3633                2.1877   \n",
      "Live Chat-Google Ads              0.0405                0.0270   \n",
      "Live Chat-Google Organic          0.4862                0.2971   \n",
      "Live Chat-Justdial                0.0000                0.0000   \n",
      "Live Chat-Quora                   0.0000                0.0000   \n",
      "Live Chat-Youtube                 0.0000                0.0000   \n",
      "Other                             0.0000                0.0000   \n",
      "Personal Contact                  0.2296                0.0270   \n",
      "SMS Campaign                      0.0135                0.0000   \n",
      "US Website                        0.0000                0.1215   \n",
      "Website                           1.9311                2.0257   \n",
      "All                              11.2627                8.4402   \n",
      "\n",
      "Status                         In Progress Positive  Junk Lead  Just Enquiry  \\\n",
      "Source                                                                         \n",
      "By Recommendation                            0.0135     0.0000        0.0000   \n",
      "CRM form                                     0.0000     0.0405        0.0270   \n",
      "Call                                         2.8764     9.8582        2.9305   \n",
      "Campaign                                     0.0000     0.0540        0.0000   \n",
      "Customer Referral                            0.2026     0.0540        0.0540   \n",
      "E-Mail Message                               0.0000     0.0000        0.0000   \n",
      "E-mail Campaign                              0.0000     0.0000        0.0000   \n",
      "Existing Client                              0.0270     0.0270        0.0135   \n",
      "Existing Customer                            0.0270     0.0000        0.0000   \n",
      "Just Dial                                    0.0135     0.2026        0.0270   \n",
      "Live Chat -PPC                               0.2971     0.5267        0.4727   \n",
      "Live Chat-Adwords Remarketing                0.0135     0.0000        0.0000   \n",
      "Live Chat-Blog                               0.2296     0.5402        0.3511   \n",
      "Live Chat-CPC                                0.0675     0.1756        0.0945   \n",
      "Live Chat-Direct                             2.5928     4.1729        2.9305   \n",
      "Live Chat-Google Ads                         0.0135     0.0675        0.0270   \n",
      "Live Chat-Google Organic                     0.2431     0.5402        0.3646   \n",
      "Live Chat-Justdial                           0.0000     0.0135        0.0000   \n",
      "Live Chat-Quora                              0.0000     0.0000        0.0000   \n",
      "Live Chat-Youtube                            0.0000     0.0000        0.0270   \n",
      "Other                                        0.0000     0.0000        0.0000   \n",
      "Personal Contact                             0.0945     0.0810        0.0135   \n",
      "SMS Campaign                                 0.0000     0.0000        0.0135   \n",
      "US Website                                   0.0000     0.5537        0.3646   \n",
      "Website                                      1.9716     3.8217        2.5388   \n",
      "All                                          8.6833    20.7292       10.2498   \n",
      "\n",
      "Status                           LOST  Long Term  Not Responding    Open  \\\n",
      "Source                                                                     \n",
      "By Recommendation              0.0135     0.0540          0.0270  0.0135   \n",
      "CRM form                       0.0405     0.0000          0.0405  0.0000   \n",
      "Call                           2.1472     2.9034          4.1594  0.2161   \n",
      "Campaign                       0.0135     0.0270          0.0810  0.0000   \n",
      "Customer Referral              0.0270     0.0675          0.0675  0.0000   \n",
      "E-Mail Message                 0.0000     0.0000          0.0000  0.0000   \n",
      "E-mail Campaign                0.0270     0.0135          0.0405  0.0000   \n",
      "Existing Client                0.0000     0.0270          0.0000  0.0000   \n",
      "Existing Customer              0.0135     0.0270          0.0000  0.0000   \n",
      "Just Dial                      0.1485     0.1350          0.0675  0.0000   \n",
      "Live Chat -PPC                 0.2026     0.5132          0.5672  0.0135   \n",
      "Live Chat-Adwords Remarketing  0.0270     0.0135          0.0270  0.0000   \n",
      "Live Chat-Blog                 0.1891     0.4186          0.7292  0.0000   \n",
      "Live Chat-CPC                  0.0270     0.0540          0.0945  0.0135   \n",
      "Live Chat-Direct               1.3774     2.2012          4.3079  0.1215   \n",
      "Live Chat-Google Ads           0.0540     0.0135          0.0270  0.0135   \n",
      "Live Chat-Google Organic       0.3106     0.4727          0.5132  0.0540   \n",
      "Live Chat-Justdial             0.0000     0.0000          0.0000  0.0000   \n",
      "Live Chat-Quora                0.0000     0.0000          0.0135  0.0000   \n",
      "Live Chat-Youtube              0.0000     0.0000          0.0000  0.0000   \n",
      "Other                          0.0000     0.0135          0.0135  0.0000   \n",
      "Personal Contact               0.0000     0.0540          0.0270  0.0000   \n",
      "SMS Campaign                   0.0000     0.0000          0.0000  0.0000   \n",
      "US Website                     0.0540     0.0270          0.7157  0.0135   \n",
      "Website                        1.2559     1.6880          3.7002  0.5132   \n",
      "All                            5.9284     8.7238         15.2194  0.9723   \n",
      "\n",
      "Status                         Potential  converted       All  \n",
      "Source                                                         \n",
      "By Recommendation                 0.0675     0.0000    0.4321  \n",
      "CRM form                          0.0540     0.0000    0.3106  \n",
      "Call                              3.3491     0.0135   34.3957  \n",
      "Campaign                          0.0270     0.0000    0.2566  \n",
      "Customer Referral                 0.2836     0.0270    2.4308  \n",
      "E-Mail Message                    0.0135     0.0000    0.0135  \n",
      "E-mail Campaign                   0.0000     0.0000    0.1621  \n",
      "Existing Client                   0.1215     0.0000    0.6887  \n",
      "Existing Customer                 0.0405     0.0000    0.2971  \n",
      "Just Dial                         0.0270     0.0000    0.7562  \n",
      "Live Chat -PPC                    0.3241     0.0000    3.3626  \n",
      "Live Chat-Adwords Remarketing     0.0135     0.0000    0.0945  \n",
      "Live Chat-Blog                    0.2296     0.0000    3.2005  \n",
      "Live Chat-CPC                     0.0270     0.0000    0.6752  \n",
      "Live Chat-Direct                  2.4038     0.1080   24.7670  \n",
      "Live Chat-Google Ads              0.0000     0.0000    0.2836  \n",
      "Live Chat-Google Organic          0.3781     0.0405    3.7002  \n",
      "Live Chat-Justdial                0.0000     0.0000    0.0135  \n",
      "Live Chat-Quora                   0.0135     0.0000    0.0270  \n",
      "Live Chat-Youtube                 0.0000     0.0000    0.0270  \n",
      "Other                             0.0000     0.0000    0.0270  \n",
      "Personal Contact                  0.1485     0.0000    0.6752  \n",
      "SMS Campaign                      0.0000     0.0000    0.0270  \n",
      "US Website                        0.0000     0.0000    1.8501  \n",
      "Website                           2.0257     0.0540   21.5260  \n",
      "All                               9.5476     0.2431  100.0000  \n"
     ]
    },
    {
     "data": {
      "text/plain": [
       "<AxesSubplot:title={'center':'Sources Vs Lead Quality: Calculated as % Overall re'}, ylabel='Source'>"
      ]
     },
     "execution_count": 31,
     "metadata": {},
     "output_type": "execute_result"
    },
    {
     "data": {
      "image/png": "[encoded data removed]",
      "text/plain": [
       "<Figure size 936x576 with 1 Axes>"
      ]
     },
     "metadata": {
      "needs_background": "light"
     },
     "output_type": "display_data"
    }
   ],
   "source": [
    "rcParams['figure.figsize']=13,8\n",
    "Crosstab_Cat=pd.crosstab([data1.Source],data1.Status,normalize='all',margins=True).round(6)*100\n",
    "print(Crosstab_Cat)\n",
    "Crosstab_Cat.plot(kind='barh', stacked=False, grid=True,title=\"Sources Vs Lead Quality: Calculated as % Overall re\")\n"
   ]
  },
  {
   "cell_type": "markdown",
   "metadata": {},
   "source": [
    "Analyze Sales Agent with Outcome Variable"
   ]
  },
  {
   "cell_type": "code",
   "execution_count": 32,
   "metadata": {},
   "outputs": [
    {
     "ename": "SyntaxError",
     "evalue": "EOL while scanning string literal (<ipython-input-32-b6fada11c493>, line 4)",
     "output_type": "error",
     "traceback": [
      "\u001b[1;36m  File \u001b[1;32m\"<ipython-input-32-b6fada11c493>\"\u001b[1;36m, line \u001b[1;32m4\u001b[0m\n\u001b[1;33m    Crosstab_Cat.plot(kind='barh', stacked=False, grid=True, title=\"Sales Agent Vs Lead Quality:Calculated as % Overall..)\u001b[0m\n\u001b[1;37m                                                                                                                          ^\u001b[0m\n\u001b[1;31mSyntaxError\u001b[0m\u001b[1;31m:\u001b[0m EOL while scanning string literal\n"
     ]
    }
   ],
   "source": [
    "rcParams['figure.figsize']=13,8\n",
    "Crosstab_Cat=pd.crosstab([data1.Sales_Agent],data1.Status,normalize='all',margins=True).round(6)*100\n",
    "print(Crosstab_Cat)\n",
    "Crosstab_Cat.plot(kind='barh', stacked=False, grid=True, title=\"Sales Agent Vs Lead Quality:Calculated as % Overall..)\n",
    "######"
   ]
  },
  {
   "cell_type": "markdown",
   "metadata": {},
   "source": [
    "Analyse Delivery Mode with Outcome Variable"
   ]
  },
  {
   "cell_type": "code",
   "execution_count": null,
   "metadata": {
    "scrolled": false
   },
   "outputs": [],
   "source": [
    "rcParams['figure.figsize']=13,8\n",
    "Crosstab_Cat=pd.crosstab([data1.Delivery_Mode],data1.Status, normalize='all',margins=True).round(6)*100\n",
    "print(Crosstab_Cat)\n",
    "Crosstab_Cat.plot(kind='barh',stacked=False, grid=True, title=\"Delivery Mode Vs Lead Quality: Calculated as % Over...\")"
   ]
  },
  {
   "cell_type": "markdown",
   "metadata": {},
   "source": [
    "Analyse Location with Outcome Variable"
   ]
  },
  {
   "cell_type": "code",
   "execution_count": null,
   "metadata": {},
   "outputs": [],
   "source": [
    "rcParams['figure.figsize']=13,8\n",
    "Crosstab_Cat=pd.crosstab([data1.Location], data1.Status,normalize='all', margin=True).round(6)*100\n",
    "print(Crosstab_Cat)\n",
    "Crosstab_Cat.plot(kind='barh', Stacked=False, grid=True,title=\"Location Vs Lead Quality: Calculated as % Overall re\")"
   ]
  },
  {
   "cell_type": "markdown",
   "metadata": {},
   "source": [
    "###### Grouping columns into Categorical and Continuous column list"
   ]
  },
  {
   "cell_type": "code",
   "execution_count": null,
   "metadata": {},
   "outputs": [],
   "source": [
    "# Grouping columns into Categorical and Continuous column list\n",
    "Catcol_list=['Source','Sales_Agent','Location','Delivery_Mode','Status']\n",
    "Concol_list=['Product_ID']"
   ]
  },
  {
   "cell_type": "markdown",
   "metadata": {},
   "source": [
    "###### Checking the distribution of data for continuous variables"
   ]
  },
  {
   "cell_type": "code",
   "execution_count": 33,
   "metadata": {},
   "outputs": [
    {
     "ename": "NameError",
     "evalue": "name 'Concol_list' is not defined",
     "output_type": "error",
     "traceback": [
      "\u001b[1;31m---------------------------------------------------------------------------\u001b[0m",
      "\u001b[1;31mNameError\u001b[0m                                 Traceback (most recent call last)",
      "\u001b[1;32m<ipython-input-33-e3ce3e3b9dd4>\u001b[0m in \u001b[0;36m<module>\u001b[1;34m\u001b[0m\n\u001b[1;32m----> 1\u001b[1;33m \u001b[1;32mfor\u001b[0m \u001b[0mi\u001b[0m \u001b[1;32min\u001b[0m \u001b[0mConcol_list\u001b[0m\u001b[1;33m:\u001b[0m\u001b[1;33m\u001b[0m\u001b[1;33m\u001b[0m\u001b[0m\n\u001b[0m\u001b[0;32m      2\u001b[0m     \u001b[0mdata1\u001b[0m\u001b[1;33m[\u001b[0m\u001b[0mi\u001b[0m\u001b[1;33m]\u001b[0m\u001b[1;33m=\u001b[0m\u001b[0mdata1\u001b[0m\u001b[1;33m[\u001b[0m\u001b[0mi\u001b[0m\u001b[1;33m]\u001b[0m\u001b[1;33m.\u001b[0m\u001b[0mastype\u001b[0m\u001b[1;33m(\u001b[0m\u001b[1;34m'float'\u001b[0m\u001b[1;33m)\u001b[0m\u001b[1;33m.\u001b[0m\u001b[0mastype\u001b[0m\u001b[1;33m(\u001b[0m\u001b[0mint\u001b[0m\u001b[1;33m)\u001b[0m\u001b[1;33m\u001b[0m\u001b[1;33m\u001b[0m\u001b[0m\n\u001b[0;32m      3\u001b[0m     \u001b[0mdata1\u001b[0m\u001b[1;33m.\u001b[0m\u001b[0mdtypes\u001b[0m\u001b[1;33m\u001b[0m\u001b[1;33m\u001b[0m\u001b[0m\n",
      "\u001b[1;31mNameError\u001b[0m: name 'Concol_list' is not defined"
     ]
    }
   ],
   "source": [
    "for i in Concol_list:\n",
    "    data1[i]=data1[i].astype('float').astype(int)\n",
    "    data1.dtypes"
   ]
  },
  {
   "cell_type": "code",
   "execution_count": null,
   "metadata": {},
   "outputs": [],
   "source": [
    "data1[Concol_list].hist(figsize=(10,10))"
   ]
  },
  {
   "cell_type": "markdown",
   "metadata": {},
   "source": [
    "###### Checking the distribution of data for continuous variables"
   ]
  },
  {
   "cell_type": "code",
   "execution_count": 34,
   "metadata": {},
   "outputs": [
    {
     "ename": "NameError",
     "evalue": "name 'Catcol_list' is not defined",
     "output_type": "error",
     "traceback": [
      "\u001b[1;31m---------------------------------------------------------------------------\u001b[0m",
      "\u001b[1;31mNameError\u001b[0m                                 Traceback (most recent call last)",
      "\u001b[1;32m<ipython-input-34-7f5e9f70cafb>\u001b[0m in \u001b[0;36m<module>\u001b[1;34m\u001b[0m\n\u001b[0;32m      1\u001b[0m \u001b[1;31m#Plot categorical data using Seaborn's facegrid and Panda's melt function\u001b[0m\u001b[1;33m\u001b[0m\u001b[1;33m\u001b[0m\u001b[1;33m\u001b[0m\u001b[0m\n\u001b[1;32m----> 2\u001b[1;33m \u001b[0mfig\u001b[0m\u001b[1;33m,\u001b[0m \u001b[0max\u001b[0m\u001b[1;33m=\u001b[0m\u001b[0mplt\u001b[0m\u001b[1;33m.\u001b[0m\u001b[0msubplots\u001b[0m\u001b[1;33m(\u001b[0m\u001b[1;36m1\u001b[0m\u001b[1;33m,\u001b[0m \u001b[0mlen\u001b[0m\u001b[1;33m(\u001b[0m\u001b[0mCatcol_list\u001b[0m\u001b[1;33m)\u001b[0m \u001b[1;33m,\u001b[0m \u001b[0mfigsize\u001b[0m\u001b[1;33m=\u001b[0m\u001b[1;33m(\u001b[0m\u001b[1;36m15\u001b[0m\u001b[1;33m,\u001b[0m\u001b[1;36m5\u001b[0m\u001b[1;33m)\u001b[0m\u001b[1;33m)\u001b[0m\u001b[1;33m\u001b[0m\u001b[1;33m\u001b[0m\u001b[0m\n\u001b[0m\u001b[0;32m      3\u001b[0m \u001b[1;32mfor\u001b[0m \u001b[0mi\u001b[0m\u001b[1;33m,\u001b[0m \u001b[0mj\u001b[0m \u001b[1;32min\u001b[0m \u001b[0menumerate\u001b[0m\u001b[1;33m(\u001b[0m\u001b[0mdata1\u001b[0m\u001b[1;33m[\u001b[0m\u001b[0mCatcol_list\u001b[0m\u001b[1;33m]\u001b[0m\u001b[1;33m)\u001b[0m\u001b[1;33m:\u001b[0m\u001b[1;33m\u001b[0m\u001b[1;33m\u001b[0m\u001b[0m\n\u001b[0;32m      4\u001b[0m     \u001b[0mdata1\u001b[0m\u001b[1;33m[\u001b[0m\u001b[0mj\u001b[0m\u001b[1;33m]\u001b[0m\u001b[1;33m.\u001b[0m\u001b[0mvalue_counts\u001b[0m\u001b[1;33m(\u001b[0m\u001b[1;33m)\u001b[0m\u001b[1;33m.\u001b[0m\u001b[0mplot\u001b[0m\u001b[1;33m(\u001b[0m\u001b[1;34m\"bar\"\u001b[0m\u001b[1;33m,\u001b[0m \u001b[0max\u001b[0m\u001b[1;33m=\u001b[0m\u001b[0max\u001b[0m\u001b[1;33m[\u001b[0m\u001b[0mi\u001b[0m\u001b[1;33m]\u001b[0m\u001b[1;33m)\u001b[0m\u001b[1;33m.\u001b[0m\u001b[0mset_title\u001b[0m\u001b[1;33m(\u001b[0m\u001b[0mj\u001b[0m\u001b[1;33m)\u001b[0m\u001b[1;33m\u001b[0m\u001b[1;33m\u001b[0m\u001b[0m\n\u001b[0;32m      5\u001b[0m \u001b[1;33m\u001b[0m\u001b[0m\n",
      "\u001b[1;31mNameError\u001b[0m: name 'Catcol_list' is not defined"
     ]
    }
   ],
   "source": [
    "#Plot categorical data using Seaborn's facegrid and Panda's melt function\n",
    "fig, ax=plt.subplots(1, len(Catcol_list) , figsize=(15,5))\n",
    "for i, j in enumerate(data1[Catcol_list]):\n",
    "    data1[j].value_counts().plot(\"bar\", ax=ax[i]).set_title(j)\n",
    "    \n",
    "fig.show()"
   ]
  },
  {
   "cell_type": "markdown",
   "metadata": {},
   "source": [
    "###### Cleaning the Data"
   ]
  },
  {
   "cell_type": "code",
   "execution_count": 35,
   "metadata": {},
   "outputs": [],
   "source": [
    "# Checking for outliers"
   ]
  },
  {
   "cell_type": "code",
   "execution_count": 36,
   "metadata": {},
   "outputs": [
    {
     "data": {
      "text/plain": [
       "<AxesSubplot:>"
      ]
     },
     "execution_count": 36,
     "metadata": {},
     "output_type": "execute_result"
    },
    {
     "data": {
      "image/png": "[encoded data removed]",
      "text/plain": [
       "<Figure size 936x576 with 2 Axes>"
      ]
     },
     "metadata": {},
     "output_type": "display_data"
    }
   ],
   "source": [
    "sns.set_style('whitegrid')\n",
    "sns.heatmap(data1.isnull(),yticklabels=False,cbar=True,cmap='viridis')"
   ]
  },
  {
   "cell_type": "code",
   "execution_count": 37,
   "metadata": {},
   "outputs": [],
   "source": [
    "# NULL value treatment"
   ]
  },
  {
   "cell_type": "code",
   "execution_count": 38,
   "metadata": {},
   "outputs": [],
   "source": [
    "Sales_data = data1.fillna(method = 'bfill')"
   ]
  },
  {
   "cell_type": "code",
   "execution_count": 39,
   "metadata": {},
   "outputs": [
    {
     "data": {
      "text/html": [
       "<div>\n",
       "<style scoped>\n",
       "    .dataframe tbody tr th:only-of-type {\n",
       "        vertical-align: middle;\n",
       "    }\n",
       "\n",
       "    .dataframe tbody tr th {\n",
       "        vertical-align: top;\n",
       "    }\n",
       "\n",
       "    .dataframe thead th {\n",
       "        text-align: right;\n",
       "    }\n",
       "</style>\n",
       "<table border=\"1\" class=\"dataframe\">\n",
       "  <thead>\n",
       "    <tr style=\"text-align: right;\">\n",
       "      <th></th>\n",
       "      <th>Unnamed: 0</th>\n",
       "      <th>Product_ID</th>\n",
       "      <th>Source</th>\n",
       "      <th>Sales_Agent</th>\n",
       "      <th>Location</th>\n",
       "      <th>Delivery_Mode</th>\n",
       "      <th>Status</th>\n",
       "    </tr>\n",
       "  </thead>\n",
       "  <tbody>\n",
       "    <tr>\n",
       "      <th>0</th>\n",
       "      <td>0</td>\n",
       "      <td>9.0</td>\n",
       "      <td>Website</td>\n",
       "      <td>Sales-Agent-11</td>\n",
       "      <td>Bangalore</td>\n",
       "      <td>Mode-5</td>\n",
       "      <td>Open</td>\n",
       "    </tr>\n",
       "    <tr>\n",
       "      <th>1</th>\n",
       "      <td>1</td>\n",
       "      <td>9.0</td>\n",
       "      <td>Website</td>\n",
       "      <td>Sales-Agent-10</td>\n",
       "      <td>Bangalore</td>\n",
       "      <td>Mode-5</td>\n",
       "      <td>Open</td>\n",
       "    </tr>\n",
       "    <tr>\n",
       "      <th>2</th>\n",
       "      <td>2</td>\n",
       "      <td>9.0</td>\n",
       "      <td>Website</td>\n",
       "      <td>Sales-Agent-10</td>\n",
       "      <td>Bangalore</td>\n",
       "      <td>Mode-5</td>\n",
       "      <td>Open</td>\n",
       "    </tr>\n",
       "    <tr>\n",
       "      <th>3</th>\n",
       "      <td>3</td>\n",
       "      <td>9.0</td>\n",
       "      <td>Website</td>\n",
       "      <td>Sales-Agent-10</td>\n",
       "      <td>Bangalore</td>\n",
       "      <td>Mode-5</td>\n",
       "      <td>Open</td>\n",
       "    </tr>\n",
       "    <tr>\n",
       "      <th>4</th>\n",
       "      <td>4</td>\n",
       "      <td>9.0</td>\n",
       "      <td>Website</td>\n",
       "      <td>Sales-Agent-10</td>\n",
       "      <td>Bangalore</td>\n",
       "      <td>Mode-5</td>\n",
       "      <td>Open</td>\n",
       "    </tr>\n",
       "  </tbody>\n",
       "</table>\n",
       "</div>"
      ],
      "text/plain": [
       "   Unnamed: 0  Product_ID   Source     Sales_Agent   Location Delivery_Mode  \\\n",
       "0           0         9.0  Website  Sales-Agent-11  Bangalore        Mode-5   \n",
       "1           1         9.0  Website  Sales-Agent-10  Bangalore        Mode-5   \n",
       "2           2         9.0  Website  Sales-Agent-10  Bangalore        Mode-5   \n",
       "3           3         9.0  Website  Sales-Agent-10  Bangalore        Mode-5   \n",
       "4           4         9.0  Website  Sales-Agent-10  Bangalore        Mode-5   \n",
       "\n",
       "  Status  \n",
       "0   Open  \n",
       "1   Open  \n",
       "2   Open  \n",
       "3   Open  \n",
       "4   Open  "
      ]
     },
     "execution_count": 39,
     "metadata": {},
     "output_type": "execute_result"
    }
   ],
   "source": [
    "Sales_data.head()"
   ]
  },
  {
   "cell_type": "code",
   "execution_count": 40,
   "metadata": {},
   "outputs": [
    {
     "data": {
      "text/html": [
       "<div>\n",
       "<style scoped>\n",
       "    .dataframe tbody tr th:only-of-type {\n",
       "        vertical-align: middle;\n",
       "    }\n",
       "\n",
       "    .dataframe tbody tr th {\n",
       "        vertical-align: top;\n",
       "    }\n",
       "\n",
       "    .dataframe thead th {\n",
       "        text-align: right;\n",
       "    }\n",
       "</style>\n",
       "<table border=\"1\" class=\"dataframe\">\n",
       "  <thead>\n",
       "    <tr style=\"text-align: right;\">\n",
       "      <th></th>\n",
       "      <th>Unnamed: 0</th>\n",
       "      <th>Product_ID</th>\n",
       "      <th>Source</th>\n",
       "      <th>Sales_Agent</th>\n",
       "      <th>Location</th>\n",
       "      <th>Delivery_Mode</th>\n",
       "      <th>Status</th>\n",
       "    </tr>\n",
       "  </thead>\n",
       "  <tbody>\n",
       "    <tr>\n",
       "      <th>0</th>\n",
       "      <td>0</td>\n",
       "      <td>0</td>\n",
       "      <td>0</td>\n",
       "      <td>0</td>\n",
       "      <td>0</td>\n",
       "      <td>0</td>\n",
       "      <td>0</td>\n",
       "    </tr>\n",
       "  </tbody>\n",
       "</table>\n",
       "</div>"
      ],
      "text/plain": [
       "   Unnamed: 0  Product_ID  Source  Sales_Agent  Location  Delivery_Mode  \\\n",
       "0           0           0       0            0         0              0   \n",
       "\n",
       "   Status  \n",
       "0       0  "
      ]
     },
     "execution_count": 40,
     "metadata": {},
     "output_type": "execute_result"
    }
   ],
   "source": [
    "Sales_data.isna().sum().to_frame().T"
   ]
  },
  {
   "cell_type": "code",
   "execution_count": 41,
   "metadata": {},
   "outputs": [
    {
     "data": {
      "text/plain": [
       "<AxesSubplot:>"
      ]
     },
     "execution_count": 41,
     "metadata": {},
     "output_type": "execute_result"
    },
    {
     "data": {
      "image/png": "[encoded data removed]",
      "text/plain": [
       "<Figure size 936x576 with 2 Axes>"
      ]
     },
     "metadata": {},
     "output_type": "display_data"
    }
   ],
   "source": [
    "sns.set_style('whitegrid')\n",
    "sns.heatmap(Sales_data.isnull(),yticklabels=False,cbar=True,cmap='viridis')"
   ]
  },
  {
   "cell_type": "code",
   "execution_count": null,
   "metadata": {},
   "outputs": [],
   "source": []
  },
  {
   "cell_type": "code",
   "execution_count": 42,
   "metadata": {},
   "outputs": [
    {
     "data": {
      "text/html": [
       "<div>\n",
       "<style scoped>\n",
       "    .dataframe tbody tr th:only-of-type {\n",
       "        vertical-align: middle;\n",
       "    }\n",
       "\n",
       "    .dataframe tbody tr th {\n",
       "        vertical-align: top;\n",
       "    }\n",
       "\n",
       "    .dataframe thead th {\n",
       "        text-align: right;\n",
       "    }\n",
       "</style>\n",
       "<table border=\"1\" class=\"dataframe\">\n",
       "  <thead>\n",
       "    <tr style=\"text-align: right;\">\n",
       "      <th></th>\n",
       "      <th>In Progress Negative</th>\n",
       "      <th>In Progress Positive</th>\n",
       "      <th>Junk Lead</th>\n",
       "      <th>Just Enquiry</th>\n",
       "      <th>LOST</th>\n",
       "      <th>Long Term</th>\n",
       "      <th>Not Responding</th>\n",
       "      <th>Open</th>\n",
       "      <th>Potential</th>\n",
       "      <th>converted</th>\n",
       "    </tr>\n",
       "  </thead>\n",
       "  <tbody>\n",
       "    <tr>\n",
       "      <th>0</th>\n",
       "      <td>0</td>\n",
       "      <td>0</td>\n",
       "      <td>0</td>\n",
       "      <td>0</td>\n",
       "      <td>0</td>\n",
       "      <td>0</td>\n",
       "      <td>0</td>\n",
       "      <td>1</td>\n",
       "      <td>0</td>\n",
       "      <td>0</td>\n",
       "    </tr>\n",
       "    <tr>\n",
       "      <th>1</th>\n",
       "      <td>0</td>\n",
       "      <td>0</td>\n",
       "      <td>0</td>\n",
       "      <td>0</td>\n",
       "      <td>0</td>\n",
       "      <td>0</td>\n",
       "      <td>0</td>\n",
       "      <td>1</td>\n",
       "      <td>0</td>\n",
       "      <td>0</td>\n",
       "    </tr>\n",
       "    <tr>\n",
       "      <th>2</th>\n",
       "      <td>0</td>\n",
       "      <td>0</td>\n",
       "      <td>0</td>\n",
       "      <td>0</td>\n",
       "      <td>0</td>\n",
       "      <td>0</td>\n",
       "      <td>0</td>\n",
       "      <td>1</td>\n",
       "      <td>0</td>\n",
       "      <td>0</td>\n",
       "    </tr>\n",
       "    <tr>\n",
       "      <th>3</th>\n",
       "      <td>0</td>\n",
       "      <td>0</td>\n",
       "      <td>0</td>\n",
       "      <td>0</td>\n",
       "      <td>0</td>\n",
       "      <td>0</td>\n",
       "      <td>0</td>\n",
       "      <td>1</td>\n",
       "      <td>0</td>\n",
       "      <td>0</td>\n",
       "    </tr>\n",
       "    <tr>\n",
       "      <th>4</th>\n",
       "      <td>0</td>\n",
       "      <td>0</td>\n",
       "      <td>0</td>\n",
       "      <td>0</td>\n",
       "      <td>0</td>\n",
       "      <td>0</td>\n",
       "      <td>0</td>\n",
       "      <td>1</td>\n",
       "      <td>0</td>\n",
       "      <td>0</td>\n",
       "    </tr>\n",
       "    <tr>\n",
       "      <th>...</th>\n",
       "      <td>...</td>\n",
       "      <td>...</td>\n",
       "      <td>...</td>\n",
       "      <td>...</td>\n",
       "      <td>...</td>\n",
       "      <td>...</td>\n",
       "      <td>...</td>\n",
       "      <td>...</td>\n",
       "      <td>...</td>\n",
       "      <td>...</td>\n",
       "    </tr>\n",
       "    <tr>\n",
       "      <th>7417</th>\n",
       "      <td>0</td>\n",
       "      <td>0</td>\n",
       "      <td>0</td>\n",
       "      <td>0</td>\n",
       "      <td>1</td>\n",
       "      <td>0</td>\n",
       "      <td>0</td>\n",
       "      <td>0</td>\n",
       "      <td>0</td>\n",
       "      <td>0</td>\n",
       "    </tr>\n",
       "    <tr>\n",
       "      <th>7418</th>\n",
       "      <td>0</td>\n",
       "      <td>0</td>\n",
       "      <td>0</td>\n",
       "      <td>0</td>\n",
       "      <td>1</td>\n",
       "      <td>0</td>\n",
       "      <td>0</td>\n",
       "      <td>0</td>\n",
       "      <td>0</td>\n",
       "      <td>0</td>\n",
       "    </tr>\n",
       "    <tr>\n",
       "      <th>7419</th>\n",
       "      <td>0</td>\n",
       "      <td>0</td>\n",
       "      <td>0</td>\n",
       "      <td>0</td>\n",
       "      <td>0</td>\n",
       "      <td>0</td>\n",
       "      <td>1</td>\n",
       "      <td>0</td>\n",
       "      <td>0</td>\n",
       "      <td>0</td>\n",
       "    </tr>\n",
       "    <tr>\n",
       "      <th>7420</th>\n",
       "      <td>0</td>\n",
       "      <td>0</td>\n",
       "      <td>0</td>\n",
       "      <td>1</td>\n",
       "      <td>0</td>\n",
       "      <td>0</td>\n",
       "      <td>0</td>\n",
       "      <td>0</td>\n",
       "      <td>0</td>\n",
       "      <td>0</td>\n",
       "    </tr>\n",
       "    <tr>\n",
       "      <th>7421</th>\n",
       "      <td>0</td>\n",
       "      <td>0</td>\n",
       "      <td>0</td>\n",
       "      <td>0</td>\n",
       "      <td>0</td>\n",
       "      <td>0</td>\n",
       "      <td>0</td>\n",
       "      <td>0</td>\n",
       "      <td>0</td>\n",
       "      <td>0</td>\n",
       "    </tr>\n",
       "  </tbody>\n",
       "</table>\n",
       "<p>7422 rows × 10 columns</p>\n",
       "</div>"
      ],
      "text/plain": [
       "      In Progress Negative  In Progress Positive  Junk Lead  Just Enquiry  \\\n",
       "0                        0                     0          0             0   \n",
       "1                        0                     0          0             0   \n",
       "2                        0                     0          0             0   \n",
       "3                        0                     0          0             0   \n",
       "4                        0                     0          0             0   \n",
       "...                    ...                   ...        ...           ...   \n",
       "7417                     0                     0          0             0   \n",
       "7418                     0                     0          0             0   \n",
       "7419                     0                     0          0             0   \n",
       "7420                     0                     0          0             1   \n",
       "7421                     0                     0          0             0   \n",
       "\n",
       "      LOST  Long Term  Not Responding  Open  Potential  converted  \n",
       "0        0          0               0     1          0          0  \n",
       "1        0          0               0     1          0          0  \n",
       "2        0          0               0     1          0          0  \n",
       "3        0          0               0     1          0          0  \n",
       "4        0          0               0     1          0          0  \n",
       "...    ...        ...             ...   ...        ...        ...  \n",
       "7417     1          0               0     0          0          0  \n",
       "7418     1          0               0     0          0          0  \n",
       "7419     0          0               1     0          0          0  \n",
       "7420     0          0               0     0          0          0  \n",
       "7421     0          0               0     0          0          0  \n",
       "\n",
       "[7422 rows x 10 columns]"
      ]
     },
     "execution_count": 42,
     "metadata": {},
     "output_type": "execute_result"
    }
   ],
   "source": [
    "pd.get_dummies(data.Status,drop_first=True)"
   ]
  },
  {
   "cell_type": "code",
   "execution_count": 43,
   "metadata": {},
   "outputs": [],
   "source": [
    "# Convert the Status field values into High Potential and Low Potential¶"
   ]
  },
  {
   "cell_type": "code",
   "execution_count": 44,
   "metadata": {},
   "outputs": [],
   "source": [
    "Sales_data.Status.replace(['CONVERTED','converted','In Progress Positive','Potential','Long Term','Open'],'High Potential',inplace=True)\n",
    "Sales_data.Status.replace(['LOST','In Progress Negative','Not Responding','Junk Lead','Just Enquiry'],'Low Potential',inplace=True)"
   ]
  },
  {
   "cell_type": "code",
   "execution_count": 45,
   "metadata": {},
   "outputs": [
    {
     "data": {
      "text/html": [
       "<div>\n",
       "<style scoped>\n",
       "    .dataframe tbody tr th:only-of-type {\n",
       "        vertical-align: middle;\n",
       "    }\n",
       "\n",
       "    .dataframe tbody tr th {\n",
       "        vertical-align: top;\n",
       "    }\n",
       "\n",
       "    .dataframe thead th {\n",
       "        text-align: right;\n",
       "    }\n",
       "</style>\n",
       "<table border=\"1\" class=\"dataframe\">\n",
       "  <thead>\n",
       "    <tr style=\"text-align: right;\">\n",
       "      <th></th>\n",
       "      <th>Unnamed: 0</th>\n",
       "      <th>Product_ID</th>\n",
       "      <th>Source</th>\n",
       "      <th>Sales_Agent</th>\n",
       "      <th>Location</th>\n",
       "      <th>Delivery_Mode</th>\n",
       "      <th>Status</th>\n",
       "    </tr>\n",
       "  </thead>\n",
       "  <tbody>\n",
       "    <tr>\n",
       "      <th>0</th>\n",
       "      <td>0</td>\n",
       "      <td>9.0</td>\n",
       "      <td>Website</td>\n",
       "      <td>Sales-Agent-11</td>\n",
       "      <td>Bangalore</td>\n",
       "      <td>Mode-5</td>\n",
       "      <td>High Potential</td>\n",
       "    </tr>\n",
       "    <tr>\n",
       "      <th>1</th>\n",
       "      <td>1</td>\n",
       "      <td>9.0</td>\n",
       "      <td>Website</td>\n",
       "      <td>Sales-Agent-10</td>\n",
       "      <td>Bangalore</td>\n",
       "      <td>Mode-5</td>\n",
       "      <td>High Potential</td>\n",
       "    </tr>\n",
       "    <tr>\n",
       "      <th>2</th>\n",
       "      <td>2</td>\n",
       "      <td>9.0</td>\n",
       "      <td>Website</td>\n",
       "      <td>Sales-Agent-10</td>\n",
       "      <td>Bangalore</td>\n",
       "      <td>Mode-5</td>\n",
       "      <td>High Potential</td>\n",
       "    </tr>\n",
       "    <tr>\n",
       "      <th>3</th>\n",
       "      <td>3</td>\n",
       "      <td>9.0</td>\n",
       "      <td>Website</td>\n",
       "      <td>Sales-Agent-10</td>\n",
       "      <td>Bangalore</td>\n",
       "      <td>Mode-5</td>\n",
       "      <td>High Potential</td>\n",
       "    </tr>\n",
       "    <tr>\n",
       "      <th>4</th>\n",
       "      <td>4</td>\n",
       "      <td>9.0</td>\n",
       "      <td>Website</td>\n",
       "      <td>Sales-Agent-10</td>\n",
       "      <td>Bangalore</td>\n",
       "      <td>Mode-5</td>\n",
       "      <td>High Potential</td>\n",
       "    </tr>\n",
       "  </tbody>\n",
       "</table>\n",
       "</div>"
      ],
      "text/plain": [
       "   Unnamed: 0  Product_ID   Source     Sales_Agent   Location Delivery_Mode  \\\n",
       "0           0         9.0  Website  Sales-Agent-11  Bangalore        Mode-5   \n",
       "1           1         9.0  Website  Sales-Agent-10  Bangalore        Mode-5   \n",
       "2           2         9.0  Website  Sales-Agent-10  Bangalore        Mode-5   \n",
       "3           3         9.0  Website  Sales-Agent-10  Bangalore        Mode-5   \n",
       "4           4         9.0  Website  Sales-Agent-10  Bangalore        Mode-5   \n",
       "\n",
       "           Status  \n",
       "0  High Potential  \n",
       "1  High Potential  \n",
       "2  High Potential  \n",
       "3  High Potential  \n",
       "4  High Potential  "
      ]
     },
     "execution_count": 45,
     "metadata": {},
     "output_type": "execute_result"
    }
   ],
   "source": [
    "Sales_data.head()"
   ]
  },
  {
   "cell_type": "code",
   "execution_count": null,
   "metadata": {},
   "outputs": [],
   "source": []
  },
  {
   "cell_type": "markdown",
   "metadata": {},
   "source": [
    "###### Correlation Matrix"
   ]
  },
  {
   "cell_type": "code",
   "execution_count": 46,
   "metadata": {},
   "outputs": [
    {
     "data": {
      "text/html": [
       "<div>\n",
       "<style scoped>\n",
       "    .dataframe tbody tr th:only-of-type {\n",
       "        vertical-align: middle;\n",
       "    }\n",
       "\n",
       "    .dataframe tbody tr th {\n",
       "        vertical-align: top;\n",
       "    }\n",
       "\n",
       "    .dataframe thead th {\n",
       "        text-align: right;\n",
       "    }\n",
       "</style>\n",
       "<table border=\"1\" class=\"dataframe\">\n",
       "  <thead>\n",
       "    <tr style=\"text-align: right;\">\n",
       "      <th></th>\n",
       "      <th>Unnamed: 0</th>\n",
       "      <th>Product_ID</th>\n",
       "    </tr>\n",
       "  </thead>\n",
       "  <tbody>\n",
       "    <tr>\n",
       "      <th>Unnamed: 0</th>\n",
       "      <td>1.000000</td>\n",
       "      <td>-0.013445</td>\n",
       "    </tr>\n",
       "    <tr>\n",
       "      <th>Product_ID</th>\n",
       "      <td>-0.013445</td>\n",
       "      <td>1.000000</td>\n",
       "    </tr>\n",
       "  </tbody>\n",
       "</table>\n",
       "</div>"
      ],
      "text/plain": [
       "            Unnamed: 0  Product_ID\n",
       "Unnamed: 0    1.000000   -0.013445\n",
       "Product_ID   -0.013445    1.000000"
      ]
     },
     "execution_count": 46,
     "metadata": {},
     "output_type": "execute_result"
    }
   ],
   "source": [
    "corr=data.corr()\n",
    "corr"
   ]
  },
  {
   "cell_type": "code",
   "execution_count": 47,
   "metadata": {},
   "outputs": [
    {
     "data": {
      "text/plain": [
       "<AxesSubplot:>"
      ]
     },
     "execution_count": 47,
     "metadata": {},
     "output_type": "execute_result"
    },
    {
     "data": {
      "image/png": "[encoded data removed]",
      "text/plain": [
       "<Figure size 720x720 with 2 Axes>"
      ]
     },
     "metadata": {},
     "output_type": "display_data"
    }
   ],
   "source": [
    "plt.figure(figsize=(10,10))\n",
    "sns.heatmap(corr,cmap='viridis',vmax=.3,vmin=0.03 ,center=0,square=True, linewidths=.2, cbar_kws={\"shrink\": .2}, annot=True)"
   ]
  },
  {
   "cell_type": "markdown",
   "metadata": {},
   "source": [
    "##### Using Label Encoder"
   ]
  },
  {
   "cell_type": "code",
   "execution_count": 48,
   "metadata": {},
   "outputs": [],
   "source": [
    "# Grouping columns into Categorical and Continuous column list\n",
    "Catcol_list=['Source','Sales_Agent','Location','Delivery_Mode']\n",
    "Concol_list=['Product_ID']\n",
    "target_class=['Status']"
   ]
  },
  {
   "cell_type": "code",
   "execution_count": 49,
   "metadata": {},
   "outputs": [
    {
     "data": {
      "text/html": [
       "<div>\n",
       "<style scoped>\n",
       "    .dataframe tbody tr th:only-of-type {\n",
       "        vertical-align: middle;\n",
       "    }\n",
       "\n",
       "    .dataframe tbody tr th {\n",
       "        vertical-align: top;\n",
       "    }\n",
       "\n",
       "    .dataframe thead th {\n",
       "        text-align: right;\n",
       "    }\n",
       "</style>\n",
       "<table border=\"1\" class=\"dataframe\">\n",
       "  <thead>\n",
       "    <tr style=\"text-align: right;\">\n",
       "      <th></th>\n",
       "      <th>Unnamed: 0</th>\n",
       "      <th>Product_ID</th>\n",
       "      <th>Source</th>\n",
       "      <th>Sales_Agent</th>\n",
       "      <th>Location</th>\n",
       "      <th>Delivery_Mode</th>\n",
       "      <th>Status</th>\n",
       "    </tr>\n",
       "  </thead>\n",
       "  <tbody>\n",
       "    <tr>\n",
       "      <th>0</th>\n",
       "      <td>0</td>\n",
       "      <td>9.0</td>\n",
       "      <td>24</td>\n",
       "      <td>2</td>\n",
       "      <td>1</td>\n",
       "      <td>4</td>\n",
       "      <td>0</td>\n",
       "    </tr>\n",
       "    <tr>\n",
       "      <th>1</th>\n",
       "      <td>1</td>\n",
       "      <td>9.0</td>\n",
       "      <td>24</td>\n",
       "      <td>1</td>\n",
       "      <td>1</td>\n",
       "      <td>4</td>\n",
       "      <td>0</td>\n",
       "    </tr>\n",
       "    <tr>\n",
       "      <th>2</th>\n",
       "      <td>2</td>\n",
       "      <td>9.0</td>\n",
       "      <td>24</td>\n",
       "      <td>1</td>\n",
       "      <td>1</td>\n",
       "      <td>4</td>\n",
       "      <td>0</td>\n",
       "    </tr>\n",
       "    <tr>\n",
       "      <th>3</th>\n",
       "      <td>3</td>\n",
       "      <td>9.0</td>\n",
       "      <td>24</td>\n",
       "      <td>1</td>\n",
       "      <td>1</td>\n",
       "      <td>4</td>\n",
       "      <td>0</td>\n",
       "    </tr>\n",
       "    <tr>\n",
       "      <th>4</th>\n",
       "      <td>4</td>\n",
       "      <td>9.0</td>\n",
       "      <td>24</td>\n",
       "      <td>1</td>\n",
       "      <td>1</td>\n",
       "      <td>4</td>\n",
       "      <td>0</td>\n",
       "    </tr>\n",
       "  </tbody>\n",
       "</table>\n",
       "</div>"
      ],
      "text/plain": [
       "   Unnamed: 0  Product_ID  Source  Sales_Agent  Location  Delivery_Mode  \\\n",
       "0           0         9.0      24            2         1              4   \n",
       "1           1         9.0      24            1         1              4   \n",
       "2           2         9.0      24            1         1              4   \n",
       "3           3         9.0      24            1         1              4   \n",
       "4           4         9.0      24            1         1              4   \n",
       "\n",
       "   Status  \n",
       "0       0  \n",
       "1       0  \n",
       "2       0  \n",
       "3       0  \n",
       "4       0  "
      ]
     },
     "execution_count": 49,
     "metadata": {},
     "output_type": "execute_result"
    }
   ],
   "source": [
    "from sklearn.preprocessing import LabelEncoder\n",
    "labelencoder=LabelEncoder()\n",
    "for i in Catcol_list+target_class:\n",
    "    Sales_data[i]=labelencoder.fit_transform(Sales_data[i])\n",
    "Sales_data.head()"
   ]
  },
  {
   "cell_type": "code",
   "execution_count": null,
   "metadata": {},
   "outputs": [],
   "source": []
  },
  {
   "cell_type": "markdown",
   "metadata": {},
   "source": [
    "### Machine Learning model to predict the Lead Category(High Potential, Low Potential)"
   ]
  },
  {
   "cell_type": "code",
   "execution_count": 50,
   "metadata": {},
   "outputs": [],
   "source": [
    "# Define X and y variables"
   ]
  },
  {
   "cell_type": "code",
   "execution_count": 51,
   "metadata": {},
   "outputs": [],
   "source": [
    "X=Sales_data.iloc[:,:-1]\n",
    "y=Sales_data.Status"
   ]
  },
  {
   "cell_type": "code",
   "execution_count": 52,
   "metadata": {},
   "outputs": [
    {
     "data": {
      "text/html": [
       "<div>\n",
       "<style scoped>\n",
       "    .dataframe tbody tr th:only-of-type {\n",
       "        vertical-align: middle;\n",
       "    }\n",
       "\n",
       "    .dataframe tbody tr th {\n",
       "        vertical-align: top;\n",
       "    }\n",
       "\n",
       "    .dataframe thead th {\n",
       "        text-align: right;\n",
       "    }\n",
       "</style>\n",
       "<table border=\"1\" class=\"dataframe\">\n",
       "  <thead>\n",
       "    <tr style=\"text-align: right;\">\n",
       "      <th></th>\n",
       "      <th>Unnamed: 0</th>\n",
       "      <th>Product_ID</th>\n",
       "      <th>Source</th>\n",
       "      <th>Sales_Agent</th>\n",
       "      <th>Location</th>\n",
       "      <th>Delivery_Mode</th>\n",
       "    </tr>\n",
       "  </thead>\n",
       "  <tbody>\n",
       "    <tr>\n",
       "      <th>0</th>\n",
       "      <td>0</td>\n",
       "      <td>9.0</td>\n",
       "      <td>24</td>\n",
       "      <td>2</td>\n",
       "      <td>1</td>\n",
       "      <td>4</td>\n",
       "    </tr>\n",
       "    <tr>\n",
       "      <th>1</th>\n",
       "      <td>1</td>\n",
       "      <td>9.0</td>\n",
       "      <td>24</td>\n",
       "      <td>1</td>\n",
       "      <td>1</td>\n",
       "      <td>4</td>\n",
       "    </tr>\n",
       "    <tr>\n",
       "      <th>2</th>\n",
       "      <td>2</td>\n",
       "      <td>9.0</td>\n",
       "      <td>24</td>\n",
       "      <td>1</td>\n",
       "      <td>1</td>\n",
       "      <td>4</td>\n",
       "    </tr>\n",
       "    <tr>\n",
       "      <th>3</th>\n",
       "      <td>3</td>\n",
       "      <td>9.0</td>\n",
       "      <td>24</td>\n",
       "      <td>1</td>\n",
       "      <td>1</td>\n",
       "      <td>4</td>\n",
       "    </tr>\n",
       "    <tr>\n",
       "      <th>4</th>\n",
       "      <td>4</td>\n",
       "      <td>9.0</td>\n",
       "      <td>24</td>\n",
       "      <td>1</td>\n",
       "      <td>1</td>\n",
       "      <td>4</td>\n",
       "    </tr>\n",
       "  </tbody>\n",
       "</table>\n",
       "</div>"
      ],
      "text/plain": [
       "   Unnamed: 0  Product_ID  Source  Sales_Agent  Location  Delivery_Mode\n",
       "0           0         9.0      24            2         1              4\n",
       "1           1         9.0      24            1         1              4\n",
       "2           2         9.0      24            1         1              4\n",
       "3           3         9.0      24            1         1              4\n",
       "4           4         9.0      24            1         1              4"
      ]
     },
     "execution_count": 52,
     "metadata": {},
     "output_type": "execute_result"
    }
   ],
   "source": [
    "X.head()"
   ]
  },
  {
   "cell_type": "code",
   "execution_count": 53,
   "metadata": {},
   "outputs": [
    {
     "data": {
      "text/plain": [
       "0    0\n",
       "1    0\n",
       "2    0\n",
       "3    0\n",
       "4    0\n",
       "Name: Status, dtype: int32"
      ]
     },
     "execution_count": 53,
     "metadata": {},
     "output_type": "execute_result"
    }
   ],
   "source": [
    "y.head()"
   ]
  },
  {
   "cell_type": "markdown",
   "metadata": {},
   "source": [
    "######  Use train_test split"
   ]
  },
  {
   "cell_type": "code",
   "execution_count": 54,
   "metadata": {},
   "outputs": [],
   "source": [
    "X_train,X_test,y_train,y_test=train_test_split(X,y,test_size=0.25,random_state=5)"
   ]
  },
  {
   "cell_type": "code",
   "execution_count": 55,
   "metadata": {},
   "outputs": [
    {
     "name": "stdout",
     "output_type": "stream",
     "text": [
      "X_train shape =  (5566, 6)\n",
      "X_test shape =  (1856, 6)\n",
      "y_train shape =  (5566,)\n",
      "y_test shape =  (1856,)\n"
     ]
    }
   ],
   "source": [
    "print(\"X_train shape = \",X_train.shape)\n",
    "print(\"X_test shape = \", X_test.shape)\n",
    "print(\"y_train shape = \",y_train.shape)\n",
    "print(\"y_test shape = \",y_test.shape)"
   ]
  },
  {
   "cell_type": "markdown",
   "metadata": {},
   "source": [
    "###### Using Standard Scaler"
   ]
  },
  {
   "cell_type": "code",
   "execution_count": 56,
   "metadata": {},
   "outputs": [],
   "source": [
    "\n",
    "scaler = StandardScaler()\n",
    "\n",
    "scaler.fit(X_train)\n",
    "\n",
    "X_train=scaler.transform(X_train)\n",
    "X_test=scaler.transform(X_test)"
   ]
  },
  {
   "cell_type": "code",
   "execution_count": 57,
   "metadata": {},
   "outputs": [
    {
     "name": "stdout",
     "output_type": "stream",
     "text": [
      "X_train shape =  (5566, 6)\n",
      "X_test shape =  (1856, 6)\n",
      "y_train shape =  (5566,)\n",
      "y_test shape =  (1856,)\n"
     ]
    }
   ],
   "source": [
    "print(\"X_train shape = \",X_train.shape)\n",
    "print(\"X_test shape = \",X_test.shape)\n",
    "print(\"y_train shape = \",y_train.shape)\n",
    "print(\"y_test shape = \",y_test.shape)"
   ]
  },
  {
   "cell_type": "markdown",
   "metadata": {},
   "source": [
    "###### Using SMOTE technique"
   ]
  },
  {
   "cell_type": "code",
   "execution_count": 58,
   "metadata": {},
   "outputs": [],
   "source": [
    "from imblearn.over_sampling import SMOTE"
   ]
  },
  {
   "cell_type": "code",
   "execution_count": 59,
   "metadata": {},
   "outputs": [],
   "source": [
    "smote=SMOTE()\n",
    "X_train,y_train=smote.fit_sample(X_train,y_train)"
   ]
  },
  {
   "cell_type": "code",
   "execution_count": 60,
   "metadata": {},
   "outputs": [
    {
     "name": "stdout",
     "output_type": "stream",
     "text": [
      "X_train shape =  (6708, 6)\n",
      "X_test shape =  (1856, 6)\n",
      "y_train shape =  (6708,)\n",
      "y_test shape =  (1856,)\n"
     ]
    }
   ],
   "source": [
    "print(\"X_train shape = \",X_train.shape)\n",
    "print(\"X_test shape = \",X_test.shape)\n",
    "print(\"y_train shape = \",y_train.shape)\n",
    "print(\"y_test shape = \",y_test.shape)"
   ]
  },
  {
   "cell_type": "markdown",
   "metadata": {},
   "source": [
    "###### Using PCA technique"
   ]
  },
  {
   "cell_type": "code",
   "execution_count": 61,
   "metadata": {},
   "outputs": [],
   "source": [
    "# Import necessary package"
   ]
  },
  {
   "cell_type": "code",
   "execution_count": 62,
   "metadata": {},
   "outputs": [],
   "source": [
    "from sklearn.decomposition import PCA"
   ]
  },
  {
   "cell_type": "code",
   "execution_count": 63,
   "metadata": {},
   "outputs": [],
   "source": [
    "# Define the Model"
   ]
  },
  {
   "cell_type": "code",
   "execution_count": 64,
   "metadata": {},
   "outputs": [
    {
     "ename": "LinAlgError",
     "evalue": "SVD did not converge",
     "output_type": "error",
     "traceback": [
      "\u001b[1;31m---------------------------------------------------------------------------\u001b[0m",
      "\u001b[1;31mLinAlgError\u001b[0m                               Traceback (most recent call last)",
      "\u001b[1;32m<ipython-input-64-efe2d3d7e543>\u001b[0m in \u001b[0;36m<module>\u001b[1;34m\u001b[0m\n\u001b[0;32m      1\u001b[0m \u001b[0mpca\u001b[0m\u001b[1;33m=\u001b[0m\u001b[0mPCA\u001b[0m\u001b[1;33m(\u001b[0m\u001b[0msvd_solver\u001b[0m\u001b[1;33m=\u001b[0m\u001b[1;34m'auto'\u001b[0m\u001b[1;33m,\u001b[0m\u001b[0mrandom_state\u001b[0m\u001b[1;33m=\u001b[0m\u001b[1;36m10\u001b[0m\u001b[1;33m)\u001b[0m\u001b[1;33m\u001b[0m\u001b[1;33m\u001b[0m\u001b[0m\n\u001b[1;32m----> 2\u001b[1;33m \u001b[0mX\u001b[0m\u001b[1;33m=\u001b[0m\u001b[0mpd\u001b[0m\u001b[1;33m.\u001b[0m\u001b[0mDataFrame\u001b[0m\u001b[1;33m(\u001b[0m\u001b[0mpca\u001b[0m\u001b[1;33m.\u001b[0m\u001b[0mfit_transform\u001b[0m\u001b[1;33m(\u001b[0m\u001b[0mX\u001b[0m\u001b[1;33m)\u001b[0m\u001b[1;33m)\u001b[0m\u001b[1;33m\u001b[0m\u001b[1;33m\u001b[0m\u001b[0m\n\u001b[0m\u001b[0;32m      3\u001b[0m \u001b[0mX\u001b[0m\u001b[1;33m.\u001b[0m\u001b[0mhead\u001b[0m\u001b[1;33m(\u001b[0m\u001b[1;33m)\u001b[0m\u001b[1;33m\u001b[0m\u001b[1;33m\u001b[0m\u001b[0m\n",
      "\u001b[1;32m~\\Anaconda3\\lib\\site-packages\\sklearn\\decomposition\\_pca.py\u001b[0m in \u001b[0;36mfit_transform\u001b[1;34m(self, X, y)\u001b[0m\n\u001b[0;32m    367\u001b[0m         \u001b[0mC\u001b[0m\u001b[1;33m-\u001b[0m\u001b[0mordered\u001b[0m \u001b[0marray\u001b[0m\u001b[1;33m,\u001b[0m \u001b[0muse\u001b[0m \u001b[1;34m'np.ascontiguousarray'\u001b[0m\u001b[1;33m.\u001b[0m\u001b[1;33m\u001b[0m\u001b[1;33m\u001b[0m\u001b[0m\n\u001b[0;32m    368\u001b[0m         \"\"\"\n\u001b[1;32m--> 369\u001b[1;33m         \u001b[0mU\u001b[0m\u001b[1;33m,\u001b[0m \u001b[0mS\u001b[0m\u001b[1;33m,\u001b[0m \u001b[0mV\u001b[0m \u001b[1;33m=\u001b[0m \u001b[0mself\u001b[0m\u001b[1;33m.\u001b[0m\u001b[0m_fit\u001b[0m\u001b[1;33m(\u001b[0m\u001b[0mX\u001b[0m\u001b[1;33m)\u001b[0m\u001b[1;33m\u001b[0m\u001b[1;33m\u001b[0m\u001b[0m\n\u001b[0m\u001b[0;32m    370\u001b[0m         \u001b[0mU\u001b[0m \u001b[1;33m=\u001b[0m \u001b[0mU\u001b[0m\u001b[1;33m[\u001b[0m\u001b[1;33m:\u001b[0m\u001b[1;33m,\u001b[0m \u001b[1;33m:\u001b[0m\u001b[0mself\u001b[0m\u001b[1;33m.\u001b[0m\u001b[0mn_components_\u001b[0m\u001b[1;33m]\u001b[0m\u001b[1;33m\u001b[0m\u001b[1;33m\u001b[0m\u001b[0m\n\u001b[0;32m    371\u001b[0m \u001b[1;33m\u001b[0m\u001b[0m\n",
      "\u001b[1;32m~\\Anaconda3\\lib\\site-packages\\sklearn\\decomposition\\_pca.py\u001b[0m in \u001b[0;36m_fit\u001b[1;34m(self, X)\u001b[0m\n\u001b[0;32m    414\u001b[0m         \u001b[1;31m# Call different fits for either full or truncated SVD\u001b[0m\u001b[1;33m\u001b[0m\u001b[1;33m\u001b[0m\u001b[1;33m\u001b[0m\u001b[0m\n\u001b[0;32m    415\u001b[0m         \u001b[1;32mif\u001b[0m \u001b[0mself\u001b[0m\u001b[1;33m.\u001b[0m\u001b[0m_fit_svd_solver\u001b[0m \u001b[1;33m==\u001b[0m \u001b[1;34m'full'\u001b[0m\u001b[1;33m:\u001b[0m\u001b[1;33m\u001b[0m\u001b[1;33m\u001b[0m\u001b[0m\n\u001b[1;32m--> 416\u001b[1;33m             \u001b[1;32mreturn\u001b[0m \u001b[0mself\u001b[0m\u001b[1;33m.\u001b[0m\u001b[0m_fit_full\u001b[0m\u001b[1;33m(\u001b[0m\u001b[0mX\u001b[0m\u001b[1;33m,\u001b[0m \u001b[0mn_components\u001b[0m\u001b[1;33m)\u001b[0m\u001b[1;33m\u001b[0m\u001b[1;33m\u001b[0m\u001b[0m\n\u001b[0m\u001b[0;32m    417\u001b[0m         \u001b[1;32melif\u001b[0m \u001b[0mself\u001b[0m\u001b[1;33m.\u001b[0m\u001b[0m_fit_svd_solver\u001b[0m \u001b[1;32min\u001b[0m \u001b[1;33m[\u001b[0m\u001b[1;34m'arpack'\u001b[0m\u001b[1;33m,\u001b[0m \u001b[1;34m'randomized'\u001b[0m\u001b[1;33m]\u001b[0m\u001b[1;33m:\u001b[0m\u001b[1;33m\u001b[0m\u001b[1;33m\u001b[0m\u001b[0m\n\u001b[0;32m    418\u001b[0m             \u001b[1;32mreturn\u001b[0m \u001b[0mself\u001b[0m\u001b[1;33m.\u001b[0m\u001b[0m_fit_truncated\u001b[0m\u001b[1;33m(\u001b[0m\u001b[0mX\u001b[0m\u001b[1;33m,\u001b[0m \u001b[0mn_components\u001b[0m\u001b[1;33m,\u001b[0m \u001b[0mself\u001b[0m\u001b[1;33m.\u001b[0m\u001b[0m_fit_svd_solver\u001b[0m\u001b[1;33m)\u001b[0m\u001b[1;33m\u001b[0m\u001b[1;33m\u001b[0m\u001b[0m\n",
      "\u001b[1;32m~\\Anaconda3\\lib\\site-packages\\sklearn\\decomposition\\_pca.py\u001b[0m in \u001b[0;36m_fit_full\u001b[1;34m(self, X, n_components)\u001b[0m\n\u001b[0;32m    445\u001b[0m         \u001b[0mX\u001b[0m \u001b[1;33m-=\u001b[0m \u001b[0mself\u001b[0m\u001b[1;33m.\u001b[0m\u001b[0mmean_\u001b[0m\u001b[1;33m\u001b[0m\u001b[1;33m\u001b[0m\u001b[0m\n\u001b[0;32m    446\u001b[0m \u001b[1;33m\u001b[0m\u001b[0m\n\u001b[1;32m--> 447\u001b[1;33m         \u001b[0mU\u001b[0m\u001b[1;33m,\u001b[0m \u001b[0mS\u001b[0m\u001b[1;33m,\u001b[0m \u001b[0mV\u001b[0m \u001b[1;33m=\u001b[0m \u001b[0mlinalg\u001b[0m\u001b[1;33m.\u001b[0m\u001b[0msvd\u001b[0m\u001b[1;33m(\u001b[0m\u001b[0mX\u001b[0m\u001b[1;33m,\u001b[0m \u001b[0mfull_matrices\u001b[0m\u001b[1;33m=\u001b[0m\u001b[1;32mFalse\u001b[0m\u001b[1;33m)\u001b[0m\u001b[1;33m\u001b[0m\u001b[1;33m\u001b[0m\u001b[0m\n\u001b[0m\u001b[0;32m    448\u001b[0m         \u001b[1;31m# flip eigenvectors' sign to enforce deterministic output\u001b[0m\u001b[1;33m\u001b[0m\u001b[1;33m\u001b[0m\u001b[1;33m\u001b[0m\u001b[0m\n\u001b[0;32m    449\u001b[0m         \u001b[0mU\u001b[0m\u001b[1;33m,\u001b[0m \u001b[0mV\u001b[0m \u001b[1;33m=\u001b[0m \u001b[0msvd_flip\u001b[0m\u001b[1;33m(\u001b[0m\u001b[0mU\u001b[0m\u001b[1;33m,\u001b[0m \u001b[0mV\u001b[0m\u001b[1;33m)\u001b[0m\u001b[1;33m\u001b[0m\u001b[1;33m\u001b[0m\u001b[0m\n",
      "\u001b[1;32m~\\Anaconda3\\lib\\site-packages\\scipy\\linalg\\decomp_svd.py\u001b[0m in \u001b[0;36msvd\u001b[1;34m(a, full_matrices, compute_uv, overwrite_a, check_finite, lapack_driver)\u001b[0m\n\u001b[0;32m    127\u001b[0m \u001b[1;33m\u001b[0m\u001b[0m\n\u001b[0;32m    128\u001b[0m     \u001b[1;32mif\u001b[0m \u001b[0minfo\u001b[0m \u001b[1;33m>\u001b[0m \u001b[1;36m0\u001b[0m\u001b[1;33m:\u001b[0m\u001b[1;33m\u001b[0m\u001b[1;33m\u001b[0m\u001b[0m\n\u001b[1;32m--> 129\u001b[1;33m         \u001b[1;32mraise\u001b[0m \u001b[0mLinAlgError\u001b[0m\u001b[1;33m(\u001b[0m\u001b[1;34m\"SVD did not converge\"\u001b[0m\u001b[1;33m)\u001b[0m\u001b[1;33m\u001b[0m\u001b[1;33m\u001b[0m\u001b[0m\n\u001b[0m\u001b[0;32m    130\u001b[0m     \u001b[1;32mif\u001b[0m \u001b[0minfo\u001b[0m \u001b[1;33m<\u001b[0m \u001b[1;36m0\u001b[0m\u001b[1;33m:\u001b[0m\u001b[1;33m\u001b[0m\u001b[1;33m\u001b[0m\u001b[0m\n\u001b[0;32m    131\u001b[0m         raise ValueError('illegal value in %dth argument of internal gesdd'\n",
      "\u001b[1;31mLinAlgError\u001b[0m: SVD did not converge"
     ]
    }
   ],
   "source": [
    "pca=PCA(svd_solver='auto',random_state=10)\n",
    "X=pd.DataFrame(pca.fit_transform(X))\n",
    "X.head()"
   ]
  },
  {
   "cell_type": "code",
   "execution_count": 65,
   "metadata": {},
   "outputs": [],
   "source": [
    "from sklearn.linear_model import LogisticRegression\n",
    "from sklearn.neighbors import KNeighborsClassifier\n",
    "from sklearn.tree import DecisionTreeClassifier\n",
    "from sklearn.ensemble import RandomForestClassifier\n",
    "from sklearn.svm import SVC\n",
    "from xgboost import XGBClassifier\n",
    "from sklearn.metrics import accuracy_score, classification_report, confusion_matrix, precision_recall_curve ,auc\n",
    "from sklearn.model_selection import KFold, cross_val_score"
   ]
  },
  {
   "cell_type": "code",
   "execution_count": 66,
   "metadata": {},
   "outputs": [
    {
     "name": "stdout",
     "output_type": "stream",
     "text": [
      "LR : 0.675562 (0.014199) \n",
      "CART : 0.645781 (0.041156) \n",
      "SVM : 0.605119 (0.060005) \n",
      "XGBoost : 0.701970 (0.033778) \n"
     ]
    }
   ],
   "source": [
    "# prepare models\n",
    "\n",
    "models=[]\n",
    "\n",
    "models.append(('LR',LogisticRegression()))\n",
    "#models.append(('KNN',KNeighborsClassifier))\n",
    "models.append(('CART',DecisionTreeClassifier()))\n",
    "models.append(('SVM',SVC()))\n",
    "models.append(('XGBoost',XGBClassifier()))\n",
    "#models.append(('RF',RandomForestClassifier))\n",
    "\n",
    "score='accuracy'\n",
    "results=[]\n",
    "names=[]\n",
    "\n",
    "for n ,m in models:\n",
    "    kfold=KFold(n_splits=10, random_state=10)\n",
    "    \n",
    "    cv_results=cross_val_score(m ,X,y,scoring=score,cv=kfold) # m :model (model ,X,y,scoring,cv)\n",
    "    results.append(cv_results)\n",
    "    names.append(n)\n",
    "    \n",
    "    msg=\"%s : %f (%f) \" % (n,cv_results.mean(),cv_results.std())\n",
    "    print(msg)"
   ]
  },
  {
   "cell_type": "code",
   "execution_count": null,
   "metadata": {},
   "outputs": [],
   "source": []
  }
 ],
 "metadata": {
  "kernelspec": {
   "display_name": "Python 3",
   "language": "python",
   "name": "python3"
  },
  "language_info": {
   "codemirror_mode": {
    "name": "ipython",
    "version": 3
   },
   "file_extension": ".py",
   "mimetype": "text/x-python",
   "name": "python",
   "nbconvert_exporter": "python",
   "pygments_lexer": "ipython3",
   "version": "3.7.3"
  }
 },
 "nbformat": 4,
 "nbformat_minor": 2
}
