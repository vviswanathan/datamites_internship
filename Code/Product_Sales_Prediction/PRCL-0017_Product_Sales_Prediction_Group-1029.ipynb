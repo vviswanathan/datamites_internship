{
 "cells": [
  {
   "cell_type": "code",
   "execution_count": 1,
   "metadata": {},
   "outputs": [],
   "source": [
    "import pymysql\n",
    "import pandas as pd"
   ]
  },
  {
   "cell_type": "code",
   "execution_count": 2,
   "metadata": {},
   "outputs": [
    {
     "name": "stdout",
     "output_type": "stream",
     "text": [
      "               Created Product_ID            Source      Mobile  \\\n",
      "0     14-11-2018 10:05                      Website  984XXXXXXX   \n",
      "1     14-11-2018 09:22                      Website     XXXXXXX   \n",
      "2     14-11-2018 09:21                      Website     XXXXXXX   \n",
      "3     14-11-2018 08:46                      Website     XXXXXXX   \n",
      "4     14-11-2018 07:34                      Website     XXXXXXX   \n",
      "...                ...        ...               ...         ...   \n",
      "7417  28-04-2018 09:45          9              Call               \n",
      "7418  28-04-2018 09:43         15              Call               \n",
      "7419  28-04-2018 09:20          5  Live Chat-Direct               \n",
      "7420  28-04-2018 08:04         21          CRM form               \n",
      "7421  28-04-2018 07:54         25           Website               \n",
      "\n",
      "                   EMAIL     Sales_Agent         Location Delivery_Mode  \\\n",
      "0     aXXXXXXX@gmail.com  Sales-Agent-11                         Mode-5   \n",
      "1                #VALUE!  Sales-Agent-10                         Mode-5   \n",
      "2     dXXXXXXX@yahoo.com  Sales-Agent-10                         Mode-5   \n",
      "3     wXXXXXXX@gmail.com  Sales-Agent-10                         Mode-5   \n",
      "4     cXXXXXXX@gmail.com  Sales-Agent-10                         Mode-5   \n",
      "...                  ...             ...              ...           ...   \n",
      "7417  aXXXXXXX@gmail.com   Sales-Agent-6           Mumbai        Mode-4   \n",
      "7418             #VALUE!  Sales-Agent-12  Other Locations        Mode-5   \n",
      "7419  sXXXXXXX@gmail.com  Sales-Agent-11        Bangalore        Mode-1   \n",
      "7420  YXXXXXXX@gmail.com   Sales-Agent-4  Other Locations        Mode-1   \n",
      "7421  cXXXXXXX@gmail.com   Sales-Agent-3          Chennai        Mode-1   \n",
      "\n",
      "              Status  \n",
      "0               Open  \n",
      "1               Open  \n",
      "2               Open  \n",
      "3               Open  \n",
      "4               Open  \n",
      "...              ...  \n",
      "7417            LOST  \n",
      "7418            LOST  \n",
      "7419  Not Responding  \n",
      "7420    Just Enquiry  \n",
      "7421       CONVERTED  \n",
      "\n",
      "[7422 rows x 9 columns]\n"
     ]
    }
   ],
   "source": [
    "conn=pymysql.connect(host='54.255.64.49',port=int(3306),user='dm_team2',passwd='DM!$Team&27@9!20!',db='project_sales')\n",
    "sales_data=pd.read_sql_query(\"SELECT * FROM data \",conn)\n",
    "print(sales_data)"
   ]
  },
  {
   "cell_type": "code",
   "execution_count": 3,
   "metadata": {},
   "outputs": [
    {
     "data": {
      "text/plain": [
       "Index(['Created', 'Product_ID', 'Source', 'Mobile', 'EMAIL', 'Sales_Agent',\n",
       "       'Location', 'Delivery_Mode', 'Status'],\n",
       "      dtype='object')"
      ]
     },
     "execution_count": 3,
     "metadata": {},
     "output_type": "execute_result"
    }
   ],
   "source": [
    "sales_data.columns"
   ]
  }
 ],
 "metadata": {
  "kernelspec": {
   "display_name": "Python 3",
   "language": "python",
   "name": "python3"
  },
  "language_info": {
   "codemirror_mode": {
    "name": "ipython",
    "version": 3
   },
   "file_extension": ".py",
   "mimetype": "text/x-python",
   "name": "python",
   "nbconvert_exporter": "python",
   "pygments_lexer": "ipython3",
   "version": "3.7.3"
  }
 },
 "nbformat": 4,
 "nbformat_minor": 4
}
