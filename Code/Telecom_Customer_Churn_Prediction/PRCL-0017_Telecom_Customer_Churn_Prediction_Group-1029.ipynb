{
 "cells": [
  {
   "cell_type": "code",
   "execution_count": 1,
   "metadata": {},
   "outputs": [],
   "source": [
    "import pymysql\n",
    "import pandas as pd"
   ]
  },
  {
   "cell_type": "code",
   "execution_count": 2,
   "metadata": {},
   "outputs": [
    {
     "name": "stdout",
     "output_type": "stream",
     "text": [
      "     columns1 columns2 columns3   columns4 columns5 columns6 columns7  \\\n",
      "0          KS      128      415   382-4657       no      yes       25   \n",
      "1          OH      107      415   371-7191       no      yes       26   \n",
      "2          NJ      137      415   358-1921       no       no        0   \n",
      "3          OH       84      408   375-9999      yes       no        0   \n",
      "4          OK       75      415   330-6626      yes       no        0   \n",
      "...       ...      ...      ...        ...      ...      ...      ...   \n",
      "4612       NY       57      510   345-7512       no      yes       25   \n",
      "4613       NM      177      408   343-6820       no      yes       29   \n",
      "4614       VT       67      408   338-4794       no      yes       33   \n",
      "4615       MI       98      415   355-8388       no      yes       23   \n",
      "4616       IN      140      415   409-6884       no       no        0   \n",
      "\n",
      "     columns8 columns9 columns10  ... columns12 columns13 columns14 columns15  \\\n",
      "0       265.1      110     45.07  ...        99     16.78     244.7        91   \n",
      "1       161.6      123     27.47  ...       103     16.62     254.4       103   \n",
      "2       243.4      114     41.38  ...       110      10.3     162.6       104   \n",
      "3       299.4       71      50.9  ...        88      5.26     196.9        89   \n",
      "4       166.7      113     28.34  ...       122     12.61     186.9       121   \n",
      "...       ...      ...       ...  ...       ...       ...       ...       ...   \n",
      "4612      144       81     24.48  ...       112     15.91     158.6       122   \n",
      "4613      189       91     32.13  ...        96     25.76     163.6       116   \n",
      "4614    127.5      126     21.68  ...       129     25.17     200.9        91   \n",
      "4615    168.9       98     28.71  ...       117     19.24     165.5        96   \n",
      "4616    204.7      100      34.8  ...       107     10.78     202.8       115   \n",
      "\n",
      "     columns16 columns17 columns18 columns19 columns20 columns21  \n",
      "0        11.01        10         3       2.7         1    False.  \n",
      "1        11.45      13.7         3       3.7         1    False.  \n",
      "2         7.32      12.2         5      3.29         0    False.  \n",
      "3         8.86       6.6         7      1.78         2    False.  \n",
      "4         8.41      10.1         3      2.73         3    False.  \n",
      "...        ...       ...       ...       ...       ...       ...  \n",
      "4612      7.14       8.5         6       2.3         3    False.  \n",
      "4613      7.36      15.7         1      4.24         3    False.  \n",
      "4614      9.04        13         3      3.51         1    False.  \n",
      "4615      7.45      14.3         3      3.86         0    False.  \n",
      "4616      9.13      12.1         4      3.27         2    False.  \n",
      "\n",
      "[4617 rows x 21 columns]\n"
     ]
    }
   ],
   "source": [
    "conn=pymysql.connect(host='54.255.64.49',port=int(3306),user='dm_team3',passwd='DM!$!Team!27@9!20&',db='project_telecom')\n",
    "telecom_churn_data=pd.read_sql_query(\"SELECT * FROM telecom_churn_data \",conn)\n",
    "print(telecom_churn_data)"
   ]
  },
  {
   "cell_type": "code",
   "execution_count": 3,
   "metadata": {},
   "outputs": [
    {
     "data": {
      "text/plain": [
       "Index(['columns1', 'columns2', 'columns3', 'columns4', 'columns5', 'columns6',\n",
       "       'columns7', 'columns8', 'columns9', 'columns10', 'columns11',\n",
       "       'columns12', 'columns13', 'columns14', 'columns15', 'columns16',\n",
       "       'columns17', 'columns18', 'columns19', 'columns20', 'columns21'],\n",
       "      dtype='object')"
      ]
     },
     "execution_count": 3,
     "metadata": {},
     "output_type": "execute_result"
    }
   ],
   "source": [
    "telecom_churn_data.columns"
   ]
  }
 ],
 "metadata": {
  "kernelspec": {
   "display_name": "Python 3",
   "language": "python",
   "name": "python3"
  },
  "language_info": {
   "codemirror_mode": {
    "name": "ipython",
    "version": 3
   },
   "file_extension": ".py",
   "mimetype": "text/x-python",
   "name": "python",
   "nbconvert_exporter": "python",
   "pygments_lexer": "ipython3",
   "version": "3.7.3"
  }
 },
 "nbformat": 4,
 "nbformat_minor": 4
}
