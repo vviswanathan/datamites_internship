{
 "cells": [
  {
   "cell_type": "code",
   "execution_count": 95,
   "metadata": {},
   "outputs": [
    {
     "name": "stdout",
     "output_type": "stream",
     "text": [
      "Requirement already satisfied: pymysql in c:\\users\\prabhati\\anaconda3\\lib\\site-packages (0.9.3)\n"
     ]
    }
   ],
   "source": [
    "!!pip install sqlalchemy\n",
    "!pip install pymysql"
   ]
  },
  {
   "cell_type": "code",
   "execution_count": 96,
   "metadata": {},
   "outputs": [],
   "source": [
    "from sqlalchemy import create_engine\n",
    "import pandas as pd\n",
    "import matplotlib.pyplot as plt\n",
    "from matplotlib import rcParams\n",
    "import numpy as np\n",
    "from collections import Counter\n",
    "import seaborn as sb\n",
    "from sklearn.preprocessing import LabelEncoder\n",
    "from sklearn.model_selection import train_test_split as tts\n",
    "from scipy import stats\n",
    "from sklearn import metrics\n",
    "from pandas_profiling import ProfileReport\n",
    "import warnings\n",
    "warnings.filterwarnings(\"ignore\")"
   ]
  },
  {
   "cell_type": "code",
   "execution_count": 97,
   "metadata": {},
   "outputs": [],
   "source": [
    "#from sqlalchemy import create_engine\n",
    "#import pandas as pd"
   ]
  },
  {
   "cell_type": "code",
   "execution_count": 98,
   "metadata": {},
   "outputs": [],
   "source": [
    "db_host='54.255.64.49'\n",
    "username='dm_team3'\n",
    "user_pass='DM!$!Team!27@9!20&'\n",
    "db_name='project_telecom'"
   ]
  },
  {
   "cell_type": "code",
   "execution_count": 99,
   "metadata": {},
   "outputs": [
    {
     "data": {
      "text/plain": [
       "['telecom_churn_data']"
      ]
     },
     "execution_count": 99,
     "metadata": {},
     "output_type": "execute_result"
    }
   ],
   "source": [
    "conn = create_engine('mysql+pymysql://'+username+':'+user_pass+'@'+db_host+'/'+db_name)\n",
    "conn.table_names()"
   ]
  },
  {
   "cell_type": "code",
   "execution_count": 100,
   "metadata": {},
   "outputs": [
    {
     "data": {
      "text/html": [
       "<div>\n",
       "<style scoped>\n",
       "    .dataframe tbody tr th:only-of-type {\n",
       "        vertical-align: middle;\n",
       "    }\n",
       "\n",
       "    .dataframe tbody tr th {\n",
       "        vertical-align: top;\n",
       "    }\n",
       "\n",
       "    .dataframe thead th {\n",
       "        text-align: right;\n",
       "    }\n",
       "</style>\n",
       "<table border=\"1\" class=\"dataframe\">\n",
       "  <thead>\n",
       "    <tr style=\"text-align: right;\">\n",
       "      <th></th>\n",
       "      <th>columns1</th>\n",
       "      <th>columns2</th>\n",
       "      <th>columns3</th>\n",
       "      <th>columns4</th>\n",
       "      <th>columns5</th>\n",
       "      <th>columns6</th>\n",
       "      <th>columns7</th>\n",
       "      <th>columns8</th>\n",
       "      <th>columns9</th>\n",
       "      <th>columns10</th>\n",
       "      <th>...</th>\n",
       "      <th>columns12</th>\n",
       "      <th>columns13</th>\n",
       "      <th>columns14</th>\n",
       "      <th>columns15</th>\n",
       "      <th>columns16</th>\n",
       "      <th>columns17</th>\n",
       "      <th>columns18</th>\n",
       "      <th>columns19</th>\n",
       "      <th>columns20</th>\n",
       "      <th>columns21</th>\n",
       "    </tr>\n",
       "  </thead>\n",
       "  <tbody>\n",
       "    <tr>\n",
       "      <th>0</th>\n",
       "      <td>KS</td>\n",
       "      <td>128</td>\n",
       "      <td>415</td>\n",
       "      <td>382-4657</td>\n",
       "      <td>no</td>\n",
       "      <td>yes</td>\n",
       "      <td>25</td>\n",
       "      <td>265.1</td>\n",
       "      <td>110</td>\n",
       "      <td>45.07</td>\n",
       "      <td>...</td>\n",
       "      <td>99</td>\n",
       "      <td>16.78</td>\n",
       "      <td>244.7</td>\n",
       "      <td>91</td>\n",
       "      <td>11.01</td>\n",
       "      <td>10</td>\n",
       "      <td>3</td>\n",
       "      <td>2.7</td>\n",
       "      <td>1</td>\n",
       "      <td>False.</td>\n",
       "    </tr>\n",
       "    <tr>\n",
       "      <th>1</th>\n",
       "      <td>OH</td>\n",
       "      <td>107</td>\n",
       "      <td>415</td>\n",
       "      <td>371-7191</td>\n",
       "      <td>no</td>\n",
       "      <td>yes</td>\n",
       "      <td>26</td>\n",
       "      <td>161.6</td>\n",
       "      <td>123</td>\n",
       "      <td>27.47</td>\n",
       "      <td>...</td>\n",
       "      <td>103</td>\n",
       "      <td>16.62</td>\n",
       "      <td>254.4</td>\n",
       "      <td>103</td>\n",
       "      <td>11.45</td>\n",
       "      <td>13.7</td>\n",
       "      <td>3</td>\n",
       "      <td>3.7</td>\n",
       "      <td>1</td>\n",
       "      <td>False.</td>\n",
       "    </tr>\n",
       "    <tr>\n",
       "      <th>2</th>\n",
       "      <td>NJ</td>\n",
       "      <td>137</td>\n",
       "      <td>415</td>\n",
       "      <td>358-1921</td>\n",
       "      <td>no</td>\n",
       "      <td>no</td>\n",
       "      <td>0</td>\n",
       "      <td>243.4</td>\n",
       "      <td>114</td>\n",
       "      <td>41.38</td>\n",
       "      <td>...</td>\n",
       "      <td>110</td>\n",
       "      <td>10.3</td>\n",
       "      <td>162.6</td>\n",
       "      <td>104</td>\n",
       "      <td>7.32</td>\n",
       "      <td>12.2</td>\n",
       "      <td>5</td>\n",
       "      <td>3.29</td>\n",
       "      <td>0</td>\n",
       "      <td>False.</td>\n",
       "    </tr>\n",
       "    <tr>\n",
       "      <th>3</th>\n",
       "      <td>OH</td>\n",
       "      <td>84</td>\n",
       "      <td>408</td>\n",
       "      <td>375-9999</td>\n",
       "      <td>yes</td>\n",
       "      <td>no</td>\n",
       "      <td>0</td>\n",
       "      <td>299.4</td>\n",
       "      <td>71</td>\n",
       "      <td>50.9</td>\n",
       "      <td>...</td>\n",
       "      <td>88</td>\n",
       "      <td>5.26</td>\n",
       "      <td>196.9</td>\n",
       "      <td>89</td>\n",
       "      <td>8.86</td>\n",
       "      <td>6.6</td>\n",
       "      <td>7</td>\n",
       "      <td>1.78</td>\n",
       "      <td>2</td>\n",
       "      <td>False.</td>\n",
       "    </tr>\n",
       "    <tr>\n",
       "      <th>4</th>\n",
       "      <td>OK</td>\n",
       "      <td>75</td>\n",
       "      <td>415</td>\n",
       "      <td>330-6626</td>\n",
       "      <td>yes</td>\n",
       "      <td>no</td>\n",
       "      <td>0</td>\n",
       "      <td>166.7</td>\n",
       "      <td>113</td>\n",
       "      <td>28.34</td>\n",
       "      <td>...</td>\n",
       "      <td>122</td>\n",
       "      <td>12.61</td>\n",
       "      <td>186.9</td>\n",
       "      <td>121</td>\n",
       "      <td>8.41</td>\n",
       "      <td>10.1</td>\n",
       "      <td>3</td>\n",
       "      <td>2.73</td>\n",
       "      <td>3</td>\n",
       "      <td>False.</td>\n",
       "    </tr>\n",
       "  </tbody>\n",
       "</table>\n",
       "<p>5 rows × 21 columns</p>\n",
       "</div>"
      ],
      "text/plain": [
       "  columns1 columns2 columns3   columns4 columns5 columns6 columns7 columns8  \\\n",
       "0       KS      128      415   382-4657       no      yes       25    265.1   \n",
       "1       OH      107      415   371-7191       no      yes       26    161.6   \n",
       "2       NJ      137      415   358-1921       no       no        0    243.4   \n",
       "3       OH       84      408   375-9999      yes       no        0    299.4   \n",
       "4       OK       75      415   330-6626      yes       no        0    166.7   \n",
       "\n",
       "  columns9 columns10  ... columns12 columns13 columns14 columns15 columns16  \\\n",
       "0      110     45.07  ...        99     16.78     244.7        91     11.01   \n",
       "1      123     27.47  ...       103     16.62     254.4       103     11.45   \n",
       "2      114     41.38  ...       110      10.3     162.6       104      7.32   \n",
       "3       71      50.9  ...        88      5.26     196.9        89      8.86   \n",
       "4      113     28.34  ...       122     12.61     186.9       121      8.41   \n",
       "\n",
       "  columns17 columns18 columns19 columns20 columns21  \n",
       "0        10         3       2.7         1    False.  \n",
       "1      13.7         3       3.7         1    False.  \n",
       "2      12.2         5      3.29         0    False.  \n",
       "3       6.6         7      1.78         2    False.  \n",
       "4      10.1         3      2.73         3    False.  \n",
       "\n",
       "[5 rows x 21 columns]"
      ]
     },
     "execution_count": 100,
     "metadata": {},
     "output_type": "execute_result"
    }
   ],
   "source": [
    "query='select* from telecom_churn_data'\n",
    "telecom_churn_data=pd.read_sql(query,conn)\n",
    "telecom_churn_data.head()"
   ]
  },
  {
   "cell_type": "code",
   "execution_count": 101,
   "metadata": {},
   "outputs": [],
   "source": [
    "telecom_churn_data.to_csv('C:\\\\Users\\\\PRABHATI\\\\telecom_churn_data.csv')"
   ]
  },
  {
   "cell_type": "code",
   "execution_count": 102,
   "metadata": {},
   "outputs": [],
   "source": [
    "# Retreiving the Data from CSV-File"
   ]
  },
  {
   "cell_type": "code",
   "execution_count": 103,
   "metadata": {},
   "outputs": [
    {
     "data": {
      "text/html": [
       "<div>\n",
       "<style scoped>\n",
       "    .dataframe tbody tr th:only-of-type {\n",
       "        vertical-align: middle;\n",
       "    }\n",
       "\n",
       "    .dataframe tbody tr th {\n",
       "        vertical-align: top;\n",
       "    }\n",
       "\n",
       "    .dataframe thead th {\n",
       "        text-align: right;\n",
       "    }\n",
       "</style>\n",
       "<table border=\"1\" class=\"dataframe\">\n",
       "  <thead>\n",
       "    <tr style=\"text-align: right;\">\n",
       "      <th></th>\n",
       "      <th>Unnamed: 0</th>\n",
       "      <th>columns1</th>\n",
       "      <th>columns2</th>\n",
       "      <th>columns3</th>\n",
       "      <th>columns4</th>\n",
       "      <th>columns5</th>\n",
       "      <th>columns6</th>\n",
       "      <th>columns7</th>\n",
       "      <th>columns8</th>\n",
       "      <th>columns9</th>\n",
       "      <th>...</th>\n",
       "      <th>columns12</th>\n",
       "      <th>columns13</th>\n",
       "      <th>columns14</th>\n",
       "      <th>columns15</th>\n",
       "      <th>columns16</th>\n",
       "      <th>columns17</th>\n",
       "      <th>columns18</th>\n",
       "      <th>columns19</th>\n",
       "      <th>columns20</th>\n",
       "      <th>columns21</th>\n",
       "    </tr>\n",
       "  </thead>\n",
       "  <tbody>\n",
       "    <tr>\n",
       "      <th>0</th>\n",
       "      <td>0</td>\n",
       "      <td>KS</td>\n",
       "      <td>128</td>\n",
       "      <td>415</td>\n",
       "      <td>382-4657</td>\n",
       "      <td>no</td>\n",
       "      <td>yes</td>\n",
       "      <td>25</td>\n",
       "      <td>265.1</td>\n",
       "      <td>110</td>\n",
       "      <td>...</td>\n",
       "      <td>99</td>\n",
       "      <td>16.78</td>\n",
       "      <td>244.7</td>\n",
       "      <td>91</td>\n",
       "      <td>11.01</td>\n",
       "      <td>10.0</td>\n",
       "      <td>3</td>\n",
       "      <td>2.70</td>\n",
       "      <td>1</td>\n",
       "      <td>False.</td>\n",
       "    </tr>\n",
       "    <tr>\n",
       "      <th>1</th>\n",
       "      <td>1</td>\n",
       "      <td>OH</td>\n",
       "      <td>107</td>\n",
       "      <td>415</td>\n",
       "      <td>371-7191</td>\n",
       "      <td>no</td>\n",
       "      <td>yes</td>\n",
       "      <td>26</td>\n",
       "      <td>161.6</td>\n",
       "      <td>123</td>\n",
       "      <td>...</td>\n",
       "      <td>103</td>\n",
       "      <td>16.62</td>\n",
       "      <td>254.4</td>\n",
       "      <td>103</td>\n",
       "      <td>11.45</td>\n",
       "      <td>13.7</td>\n",
       "      <td>3</td>\n",
       "      <td>3.70</td>\n",
       "      <td>1</td>\n",
       "      <td>False.</td>\n",
       "    </tr>\n",
       "    <tr>\n",
       "      <th>2</th>\n",
       "      <td>2</td>\n",
       "      <td>NJ</td>\n",
       "      <td>137</td>\n",
       "      <td>415</td>\n",
       "      <td>358-1921</td>\n",
       "      <td>no</td>\n",
       "      <td>no</td>\n",
       "      <td>0</td>\n",
       "      <td>243.4</td>\n",
       "      <td>114</td>\n",
       "      <td>...</td>\n",
       "      <td>110</td>\n",
       "      <td>10.30</td>\n",
       "      <td>162.6</td>\n",
       "      <td>104</td>\n",
       "      <td>7.32</td>\n",
       "      <td>12.2</td>\n",
       "      <td>5</td>\n",
       "      <td>3.29</td>\n",
       "      <td>0</td>\n",
       "      <td>False.</td>\n",
       "    </tr>\n",
       "    <tr>\n",
       "      <th>3</th>\n",
       "      <td>3</td>\n",
       "      <td>OH</td>\n",
       "      <td>84</td>\n",
       "      <td>408</td>\n",
       "      <td>375-9999</td>\n",
       "      <td>yes</td>\n",
       "      <td>no</td>\n",
       "      <td>0</td>\n",
       "      <td>299.4</td>\n",
       "      <td>71</td>\n",
       "      <td>...</td>\n",
       "      <td>88</td>\n",
       "      <td>5.26</td>\n",
       "      <td>196.9</td>\n",
       "      <td>89</td>\n",
       "      <td>8.86</td>\n",
       "      <td>6.6</td>\n",
       "      <td>7</td>\n",
       "      <td>1.78</td>\n",
       "      <td>2</td>\n",
       "      <td>False.</td>\n",
       "    </tr>\n",
       "    <tr>\n",
       "      <th>4</th>\n",
       "      <td>4</td>\n",
       "      <td>OK</td>\n",
       "      <td>75</td>\n",
       "      <td>415</td>\n",
       "      <td>330-6626</td>\n",
       "      <td>yes</td>\n",
       "      <td>no</td>\n",
       "      <td>0</td>\n",
       "      <td>166.7</td>\n",
       "      <td>113</td>\n",
       "      <td>...</td>\n",
       "      <td>122</td>\n",
       "      <td>12.61</td>\n",
       "      <td>186.9</td>\n",
       "      <td>121</td>\n",
       "      <td>8.41</td>\n",
       "      <td>10.1</td>\n",
       "      <td>3</td>\n",
       "      <td>2.73</td>\n",
       "      <td>3</td>\n",
       "      <td>False.</td>\n",
       "    </tr>\n",
       "  </tbody>\n",
       "</table>\n",
       "<p>5 rows × 22 columns</p>\n",
       "</div>"
      ],
      "text/plain": [
       "   Unnamed: 0 columns1  columns2  columns3   columns4 columns5 columns6  \\\n",
       "0           0       KS       128       415   382-4657       no      yes   \n",
       "1           1       OH       107       415   371-7191       no      yes   \n",
       "2           2       NJ       137       415   358-1921       no       no   \n",
       "3           3       OH        84       408   375-9999      yes       no   \n",
       "4           4       OK        75       415   330-6626      yes       no   \n",
       "\n",
       "   columns7  columns8  columns9  ...  columns12  columns13  columns14  \\\n",
       "0        25     265.1       110  ...         99      16.78      244.7   \n",
       "1        26     161.6       123  ...        103      16.62      254.4   \n",
       "2         0     243.4       114  ...        110      10.30      162.6   \n",
       "3         0     299.4        71  ...         88       5.26      196.9   \n",
       "4         0     166.7       113  ...        122      12.61      186.9   \n",
       "\n",
       "   columns15  columns16  columns17  columns18  columns19  columns20  columns21  \n",
       "0         91      11.01       10.0          3       2.70          1     False.  \n",
       "1        103      11.45       13.7          3       3.70          1     False.  \n",
       "2        104       7.32       12.2          5       3.29          0     False.  \n",
       "3         89       8.86        6.6          7       1.78          2     False.  \n",
       "4        121       8.41       10.1          3       2.73          3     False.  \n",
       "\n",
       "[5 rows x 22 columns]"
      ]
     },
     "execution_count": 103,
     "metadata": {},
     "output_type": "execute_result"
    }
   ],
   "source": [
    "#import pandas as pd\n",
    "df=pd.read_csv('telecom_churn_data.csv')\n",
    "df.head()"
   ]
  },
  {
   "cell_type": "markdown",
   "metadata": {},
   "source": [
    "###### Renaming column names"
   ]
  },
  {
   "cell_type": "code",
   "execution_count": 104,
   "metadata": {},
   "outputs": [],
   "source": [
    "telecom_churn_data_named=telecom_churn_data.set_axis(['State', 'Account_Length', 'Area_Code','Phone', 'Int_Plan', 'VMail', 'VMailMsg', 'DayMins', 'DayCalls', 'DayCharge', 'EveMins', 'EveCalls', 'EveCharge', 'NightMins', 'NightCalls', 'NightCharge', 'IntMins', 'IntCalls', 'IntCharge', 'CustServCalls', 'Churn'], axis=1, inplace=False)"
   ]
  },
  {
   "cell_type": "code",
   "execution_count": 105,
   "metadata": {},
   "outputs": [
    {
     "data": {
      "text/html": [
       "<div>\n",
       "<style scoped>\n",
       "    .dataframe tbody tr th:only-of-type {\n",
       "        vertical-align: middle;\n",
       "    }\n",
       "\n",
       "    .dataframe tbody tr th {\n",
       "        vertical-align: top;\n",
       "    }\n",
       "\n",
       "    .dataframe thead th {\n",
       "        text-align: right;\n",
       "    }\n",
       "</style>\n",
       "<table border=\"1\" class=\"dataframe\">\n",
       "  <thead>\n",
       "    <tr style=\"text-align: right;\">\n",
       "      <th></th>\n",
       "      <th>State</th>\n",
       "      <th>Account_Length</th>\n",
       "      <th>Area_Code</th>\n",
       "      <th>Phone</th>\n",
       "      <th>Int_Plan</th>\n",
       "      <th>VMail</th>\n",
       "      <th>VMailMsg</th>\n",
       "      <th>DayMins</th>\n",
       "      <th>DayCalls</th>\n",
       "      <th>DayCharge</th>\n",
       "      <th>...</th>\n",
       "      <th>EveCalls</th>\n",
       "      <th>EveCharge</th>\n",
       "      <th>NightMins</th>\n",
       "      <th>NightCalls</th>\n",
       "      <th>NightCharge</th>\n",
       "      <th>IntMins</th>\n",
       "      <th>IntCalls</th>\n",
       "      <th>IntCharge</th>\n",
       "      <th>CustServCalls</th>\n",
       "      <th>Churn</th>\n",
       "    </tr>\n",
       "  </thead>\n",
       "  <tbody>\n",
       "    <tr>\n",
       "      <th>0</th>\n",
       "      <td>KS</td>\n",
       "      <td>128</td>\n",
       "      <td>415</td>\n",
       "      <td>382-4657</td>\n",
       "      <td>no</td>\n",
       "      <td>yes</td>\n",
       "      <td>25</td>\n",
       "      <td>265.1</td>\n",
       "      <td>110</td>\n",
       "      <td>45.07</td>\n",
       "      <td>...</td>\n",
       "      <td>99</td>\n",
       "      <td>16.78</td>\n",
       "      <td>244.7</td>\n",
       "      <td>91</td>\n",
       "      <td>11.01</td>\n",
       "      <td>10</td>\n",
       "      <td>3</td>\n",
       "      <td>2.7</td>\n",
       "      <td>1</td>\n",
       "      <td>False.</td>\n",
       "    </tr>\n",
       "    <tr>\n",
       "      <th>1</th>\n",
       "      <td>OH</td>\n",
       "      <td>107</td>\n",
       "      <td>415</td>\n",
       "      <td>371-7191</td>\n",
       "      <td>no</td>\n",
       "      <td>yes</td>\n",
       "      <td>26</td>\n",
       "      <td>161.6</td>\n",
       "      <td>123</td>\n",
       "      <td>27.47</td>\n",
       "      <td>...</td>\n",
       "      <td>103</td>\n",
       "      <td>16.62</td>\n",
       "      <td>254.4</td>\n",
       "      <td>103</td>\n",
       "      <td>11.45</td>\n",
       "      <td>13.7</td>\n",
       "      <td>3</td>\n",
       "      <td>3.7</td>\n",
       "      <td>1</td>\n",
       "      <td>False.</td>\n",
       "    </tr>\n",
       "    <tr>\n",
       "      <th>2</th>\n",
       "      <td>NJ</td>\n",
       "      <td>137</td>\n",
       "      <td>415</td>\n",
       "      <td>358-1921</td>\n",
       "      <td>no</td>\n",
       "      <td>no</td>\n",
       "      <td>0</td>\n",
       "      <td>243.4</td>\n",
       "      <td>114</td>\n",
       "      <td>41.38</td>\n",
       "      <td>...</td>\n",
       "      <td>110</td>\n",
       "      <td>10.3</td>\n",
       "      <td>162.6</td>\n",
       "      <td>104</td>\n",
       "      <td>7.32</td>\n",
       "      <td>12.2</td>\n",
       "      <td>5</td>\n",
       "      <td>3.29</td>\n",
       "      <td>0</td>\n",
       "      <td>False.</td>\n",
       "    </tr>\n",
       "    <tr>\n",
       "      <th>3</th>\n",
       "      <td>OH</td>\n",
       "      <td>84</td>\n",
       "      <td>408</td>\n",
       "      <td>375-9999</td>\n",
       "      <td>yes</td>\n",
       "      <td>no</td>\n",
       "      <td>0</td>\n",
       "      <td>299.4</td>\n",
       "      <td>71</td>\n",
       "      <td>50.9</td>\n",
       "      <td>...</td>\n",
       "      <td>88</td>\n",
       "      <td>5.26</td>\n",
       "      <td>196.9</td>\n",
       "      <td>89</td>\n",
       "      <td>8.86</td>\n",
       "      <td>6.6</td>\n",
       "      <td>7</td>\n",
       "      <td>1.78</td>\n",
       "      <td>2</td>\n",
       "      <td>False.</td>\n",
       "    </tr>\n",
       "    <tr>\n",
       "      <th>4</th>\n",
       "      <td>OK</td>\n",
       "      <td>75</td>\n",
       "      <td>415</td>\n",
       "      <td>330-6626</td>\n",
       "      <td>yes</td>\n",
       "      <td>no</td>\n",
       "      <td>0</td>\n",
       "      <td>166.7</td>\n",
       "      <td>113</td>\n",
       "      <td>28.34</td>\n",
       "      <td>...</td>\n",
       "      <td>122</td>\n",
       "      <td>12.61</td>\n",
       "      <td>186.9</td>\n",
       "      <td>121</td>\n",
       "      <td>8.41</td>\n",
       "      <td>10.1</td>\n",
       "      <td>3</td>\n",
       "      <td>2.73</td>\n",
       "      <td>3</td>\n",
       "      <td>False.</td>\n",
       "    </tr>\n",
       "  </tbody>\n",
       "</table>\n",
       "<p>5 rows × 21 columns</p>\n",
       "</div>"
      ],
      "text/plain": [
       "  State Account_Length Area_Code      Phone Int_Plan VMail VMailMsg DayMins  \\\n",
       "0    KS            128       415   382-4657       no   yes       25   265.1   \n",
       "1    OH            107       415   371-7191       no   yes       26   161.6   \n",
       "2    NJ            137       415   358-1921       no    no        0   243.4   \n",
       "3    OH             84       408   375-9999      yes    no        0   299.4   \n",
       "4    OK             75       415   330-6626      yes    no        0   166.7   \n",
       "\n",
       "  DayCalls DayCharge  ... EveCalls EveCharge NightMins NightCalls NightCharge  \\\n",
       "0      110     45.07  ...       99     16.78     244.7         91       11.01   \n",
       "1      123     27.47  ...      103     16.62     254.4        103       11.45   \n",
       "2      114     41.38  ...      110      10.3     162.6        104        7.32   \n",
       "3       71      50.9  ...       88      5.26     196.9         89        8.86   \n",
       "4      113     28.34  ...      122     12.61     186.9        121        8.41   \n",
       "\n",
       "  IntMins IntCalls IntCharge CustServCalls    Churn  \n",
       "0      10        3       2.7             1   False.  \n",
       "1    13.7        3       3.7             1   False.  \n",
       "2    12.2        5      3.29             0   False.  \n",
       "3     6.6        7      1.78             2   False.  \n",
       "4    10.1        3      2.73             3   False.  \n",
       "\n",
       "[5 rows x 21 columns]"
      ]
     },
     "execution_count": 105,
     "metadata": {},
     "output_type": "execute_result"
    }
   ],
   "source": [
    "telecom_churn_data_named.head()"
   ]
  },
  {
   "cell_type": "code",
   "execution_count": 106,
   "metadata": {},
   "outputs": [],
   "source": [
    "telecom_churn_data_named.to_csv('C:\\\\Users\\\\PRABHATI\\\\telecom_churn_data_named.csv')"
   ]
  },
  {
   "cell_type": "code",
   "execution_count": 107,
   "metadata": {},
   "outputs": [
    {
     "data": {
      "text/html": [
       "<div>\n",
       "<style scoped>\n",
       "    .dataframe tbody tr th:only-of-type {\n",
       "        vertical-align: middle;\n",
       "    }\n",
       "\n",
       "    .dataframe tbody tr th {\n",
       "        vertical-align: top;\n",
       "    }\n",
       "\n",
       "    .dataframe thead th {\n",
       "        text-align: right;\n",
       "    }\n",
       "</style>\n",
       "<table border=\"1\" class=\"dataframe\">\n",
       "  <thead>\n",
       "    <tr style=\"text-align: right;\">\n",
       "      <th></th>\n",
       "      <th>Unnamed: 0</th>\n",
       "      <th>State</th>\n",
       "      <th>Account_Length</th>\n",
       "      <th>Area_Code</th>\n",
       "      <th>Phone</th>\n",
       "      <th>Int_Plan</th>\n",
       "      <th>VMail</th>\n",
       "      <th>VMailMsg</th>\n",
       "      <th>DayMins</th>\n",
       "      <th>DayCalls</th>\n",
       "      <th>...</th>\n",
       "      <th>EveCalls</th>\n",
       "      <th>EveCharge</th>\n",
       "      <th>NightMins</th>\n",
       "      <th>NightCalls</th>\n",
       "      <th>NightCharge</th>\n",
       "      <th>IntMins</th>\n",
       "      <th>IntCalls</th>\n",
       "      <th>IntCharge</th>\n",
       "      <th>CustServCalls</th>\n",
       "      <th>Churn</th>\n",
       "    </tr>\n",
       "  </thead>\n",
       "  <tbody>\n",
       "    <tr>\n",
       "      <th>0</th>\n",
       "      <td>0</td>\n",
       "      <td>KS</td>\n",
       "      <td>128</td>\n",
       "      <td>415</td>\n",
       "      <td>382-4657</td>\n",
       "      <td>no</td>\n",
       "      <td>yes</td>\n",
       "      <td>25</td>\n",
       "      <td>265.1</td>\n",
       "      <td>110</td>\n",
       "      <td>...</td>\n",
       "      <td>99</td>\n",
       "      <td>16.78</td>\n",
       "      <td>244.7</td>\n",
       "      <td>91</td>\n",
       "      <td>11.01</td>\n",
       "      <td>10.0</td>\n",
       "      <td>3</td>\n",
       "      <td>2.70</td>\n",
       "      <td>1</td>\n",
       "      <td>False.</td>\n",
       "    </tr>\n",
       "    <tr>\n",
       "      <th>1</th>\n",
       "      <td>1</td>\n",
       "      <td>OH</td>\n",
       "      <td>107</td>\n",
       "      <td>415</td>\n",
       "      <td>371-7191</td>\n",
       "      <td>no</td>\n",
       "      <td>yes</td>\n",
       "      <td>26</td>\n",
       "      <td>161.6</td>\n",
       "      <td>123</td>\n",
       "      <td>...</td>\n",
       "      <td>103</td>\n",
       "      <td>16.62</td>\n",
       "      <td>254.4</td>\n",
       "      <td>103</td>\n",
       "      <td>11.45</td>\n",
       "      <td>13.7</td>\n",
       "      <td>3</td>\n",
       "      <td>3.70</td>\n",
       "      <td>1</td>\n",
       "      <td>False.</td>\n",
       "    </tr>\n",
       "    <tr>\n",
       "      <th>2</th>\n",
       "      <td>2</td>\n",
       "      <td>NJ</td>\n",
       "      <td>137</td>\n",
       "      <td>415</td>\n",
       "      <td>358-1921</td>\n",
       "      <td>no</td>\n",
       "      <td>no</td>\n",
       "      <td>0</td>\n",
       "      <td>243.4</td>\n",
       "      <td>114</td>\n",
       "      <td>...</td>\n",
       "      <td>110</td>\n",
       "      <td>10.30</td>\n",
       "      <td>162.6</td>\n",
       "      <td>104</td>\n",
       "      <td>7.32</td>\n",
       "      <td>12.2</td>\n",
       "      <td>5</td>\n",
       "      <td>3.29</td>\n",
       "      <td>0</td>\n",
       "      <td>False.</td>\n",
       "    </tr>\n",
       "    <tr>\n",
       "      <th>3</th>\n",
       "      <td>3</td>\n",
       "      <td>OH</td>\n",
       "      <td>84</td>\n",
       "      <td>408</td>\n",
       "      <td>375-9999</td>\n",
       "      <td>yes</td>\n",
       "      <td>no</td>\n",
       "      <td>0</td>\n",
       "      <td>299.4</td>\n",
       "      <td>71</td>\n",
       "      <td>...</td>\n",
       "      <td>88</td>\n",
       "      <td>5.26</td>\n",
       "      <td>196.9</td>\n",
       "      <td>89</td>\n",
       "      <td>8.86</td>\n",
       "      <td>6.6</td>\n",
       "      <td>7</td>\n",
       "      <td>1.78</td>\n",
       "      <td>2</td>\n",
       "      <td>False.</td>\n",
       "    </tr>\n",
       "    <tr>\n",
       "      <th>4</th>\n",
       "      <td>4</td>\n",
       "      <td>OK</td>\n",
       "      <td>75</td>\n",
       "      <td>415</td>\n",
       "      <td>330-6626</td>\n",
       "      <td>yes</td>\n",
       "      <td>no</td>\n",
       "      <td>0</td>\n",
       "      <td>166.7</td>\n",
       "      <td>113</td>\n",
       "      <td>...</td>\n",
       "      <td>122</td>\n",
       "      <td>12.61</td>\n",
       "      <td>186.9</td>\n",
       "      <td>121</td>\n",
       "      <td>8.41</td>\n",
       "      <td>10.1</td>\n",
       "      <td>3</td>\n",
       "      <td>2.73</td>\n",
       "      <td>3</td>\n",
       "      <td>False.</td>\n",
       "    </tr>\n",
       "    <tr>\n",
       "      <th>...</th>\n",
       "      <td>...</td>\n",
       "      <td>...</td>\n",
       "      <td>...</td>\n",
       "      <td>...</td>\n",
       "      <td>...</td>\n",
       "      <td>...</td>\n",
       "      <td>...</td>\n",
       "      <td>...</td>\n",
       "      <td>...</td>\n",
       "      <td>...</td>\n",
       "      <td>...</td>\n",
       "      <td>...</td>\n",
       "      <td>...</td>\n",
       "      <td>...</td>\n",
       "      <td>...</td>\n",
       "      <td>...</td>\n",
       "      <td>...</td>\n",
       "      <td>...</td>\n",
       "      <td>...</td>\n",
       "      <td>...</td>\n",
       "      <td>...</td>\n",
       "    </tr>\n",
       "    <tr>\n",
       "      <th>4612</th>\n",
       "      <td>4612</td>\n",
       "      <td>NY</td>\n",
       "      <td>57</td>\n",
       "      <td>510</td>\n",
       "      <td>345-7512</td>\n",
       "      <td>no</td>\n",
       "      <td>yes</td>\n",
       "      <td>25</td>\n",
       "      <td>144.0</td>\n",
       "      <td>81</td>\n",
       "      <td>...</td>\n",
       "      <td>112</td>\n",
       "      <td>15.91</td>\n",
       "      <td>158.6</td>\n",
       "      <td>122</td>\n",
       "      <td>7.14</td>\n",
       "      <td>8.5</td>\n",
       "      <td>6</td>\n",
       "      <td>2.30</td>\n",
       "      <td>3</td>\n",
       "      <td>False.</td>\n",
       "    </tr>\n",
       "    <tr>\n",
       "      <th>4613</th>\n",
       "      <td>4613</td>\n",
       "      <td>NM</td>\n",
       "      <td>177</td>\n",
       "      <td>408</td>\n",
       "      <td>343-6820</td>\n",
       "      <td>no</td>\n",
       "      <td>yes</td>\n",
       "      <td>29</td>\n",
       "      <td>189.0</td>\n",
       "      <td>91</td>\n",
       "      <td>...</td>\n",
       "      <td>96</td>\n",
       "      <td>25.76</td>\n",
       "      <td>163.6</td>\n",
       "      <td>116</td>\n",
       "      <td>7.36</td>\n",
       "      <td>15.7</td>\n",
       "      <td>1</td>\n",
       "      <td>4.24</td>\n",
       "      <td>3</td>\n",
       "      <td>False.</td>\n",
       "    </tr>\n",
       "    <tr>\n",
       "      <th>4614</th>\n",
       "      <td>4614</td>\n",
       "      <td>VT</td>\n",
       "      <td>67</td>\n",
       "      <td>408</td>\n",
       "      <td>338-4794</td>\n",
       "      <td>no</td>\n",
       "      <td>yes</td>\n",
       "      <td>33</td>\n",
       "      <td>127.5</td>\n",
       "      <td>126</td>\n",
       "      <td>...</td>\n",
       "      <td>129</td>\n",
       "      <td>25.17</td>\n",
       "      <td>200.9</td>\n",
       "      <td>91</td>\n",
       "      <td>9.04</td>\n",
       "      <td>13.0</td>\n",
       "      <td>3</td>\n",
       "      <td>3.51</td>\n",
       "      <td>1</td>\n",
       "      <td>False.</td>\n",
       "    </tr>\n",
       "    <tr>\n",
       "      <th>4615</th>\n",
       "      <td>4615</td>\n",
       "      <td>MI</td>\n",
       "      <td>98</td>\n",
       "      <td>415</td>\n",
       "      <td>355-8388</td>\n",
       "      <td>no</td>\n",
       "      <td>yes</td>\n",
       "      <td>23</td>\n",
       "      <td>168.9</td>\n",
       "      <td>98</td>\n",
       "      <td>...</td>\n",
       "      <td>117</td>\n",
       "      <td>19.24</td>\n",
       "      <td>165.5</td>\n",
       "      <td>96</td>\n",
       "      <td>7.45</td>\n",
       "      <td>14.3</td>\n",
       "      <td>3</td>\n",
       "      <td>3.86</td>\n",
       "      <td>0</td>\n",
       "      <td>False.</td>\n",
       "    </tr>\n",
       "    <tr>\n",
       "      <th>4616</th>\n",
       "      <td>4616</td>\n",
       "      <td>IN</td>\n",
       "      <td>140</td>\n",
       "      <td>415</td>\n",
       "      <td>409-6884</td>\n",
       "      <td>no</td>\n",
       "      <td>no</td>\n",
       "      <td>0</td>\n",
       "      <td>204.7</td>\n",
       "      <td>100</td>\n",
       "      <td>...</td>\n",
       "      <td>107</td>\n",
       "      <td>10.78</td>\n",
       "      <td>202.8</td>\n",
       "      <td>115</td>\n",
       "      <td>9.13</td>\n",
       "      <td>12.1</td>\n",
       "      <td>4</td>\n",
       "      <td>3.27</td>\n",
       "      <td>2</td>\n",
       "      <td>False.</td>\n",
       "    </tr>\n",
       "  </tbody>\n",
       "</table>\n",
       "<p>4617 rows × 22 columns</p>\n",
       "</div>"
      ],
      "text/plain": [
       "      Unnamed: 0 State  Account_Length  Area_Code      Phone Int_Plan VMail  \\\n",
       "0              0    KS             128        415   382-4657       no   yes   \n",
       "1              1    OH             107        415   371-7191       no   yes   \n",
       "2              2    NJ             137        415   358-1921       no    no   \n",
       "3              3    OH              84        408   375-9999      yes    no   \n",
       "4              4    OK              75        415   330-6626      yes    no   \n",
       "...          ...   ...             ...        ...        ...      ...   ...   \n",
       "4612        4612    NY              57        510   345-7512       no   yes   \n",
       "4613        4613    NM             177        408   343-6820       no   yes   \n",
       "4614        4614    VT              67        408   338-4794       no   yes   \n",
       "4615        4615    MI              98        415   355-8388       no   yes   \n",
       "4616        4616    IN             140        415   409-6884       no    no   \n",
       "\n",
       "      VMailMsg  DayMins  DayCalls  ...  EveCalls  EveCharge  NightMins  \\\n",
       "0           25    265.1       110  ...        99      16.78      244.7   \n",
       "1           26    161.6       123  ...       103      16.62      254.4   \n",
       "2            0    243.4       114  ...       110      10.30      162.6   \n",
       "3            0    299.4        71  ...        88       5.26      196.9   \n",
       "4            0    166.7       113  ...       122      12.61      186.9   \n",
       "...        ...      ...       ...  ...       ...        ...        ...   \n",
       "4612        25    144.0        81  ...       112      15.91      158.6   \n",
       "4613        29    189.0        91  ...        96      25.76      163.6   \n",
       "4614        33    127.5       126  ...       129      25.17      200.9   \n",
       "4615        23    168.9        98  ...       117      19.24      165.5   \n",
       "4616         0    204.7       100  ...       107      10.78      202.8   \n",
       "\n",
       "      NightCalls  NightCharge  IntMins  IntCalls  IntCharge  CustServCalls  \\\n",
       "0             91        11.01     10.0         3       2.70              1   \n",
       "1            103        11.45     13.7         3       3.70              1   \n",
       "2            104         7.32     12.2         5       3.29              0   \n",
       "3             89         8.86      6.6         7       1.78              2   \n",
       "4            121         8.41     10.1         3       2.73              3   \n",
       "...          ...          ...      ...       ...        ...            ...   \n",
       "4612         122         7.14      8.5         6       2.30              3   \n",
       "4613         116         7.36     15.7         1       4.24              3   \n",
       "4614          91         9.04     13.0         3       3.51              1   \n",
       "4615          96         7.45     14.3         3       3.86              0   \n",
       "4616         115         9.13     12.1         4       3.27              2   \n",
       "\n",
       "        Churn  \n",
       "0      False.  \n",
       "1      False.  \n",
       "2      False.  \n",
       "3      False.  \n",
       "4      False.  \n",
       "...       ...  \n",
       "4612   False.  \n",
       "4613   False.  \n",
       "4614   False.  \n",
       "4615   False.  \n",
       "4616   False.  \n",
       "\n",
       "[4617 rows x 22 columns]"
      ]
     },
     "execution_count": 107,
     "metadata": {},
     "output_type": "execute_result"
    }
   ],
   "source": [
    "# Retrieving Data from csv file\n",
    "telecom_churn_data_named=pd.read_csv('telecom_churn_data_named.csv')\n",
    "telecom_churn_data_named"
   ]
  },
  {
   "cell_type": "code",
   "execution_count": 111,
   "metadata": {},
   "outputs": [],
   "source": [
    "telecom_churn_data_named.columns\n",
    "telecom_churn_data_named.drop(axis=1,columns=\"Phone\",inplace=True)"
   ]
  },
  {
   "cell_type": "code",
   "execution_count": 112,
   "metadata": {},
   "outputs": [],
   "source": [
    "df=telecom_churn_data_named"
   ]
  },
  {
   "cell_type": "markdown",
   "metadata": {},
   "source": [
    "###### Getting overview of dataset"
   ]
  },
  {
   "cell_type": "code",
   "execution_count": 113,
   "metadata": {},
   "outputs": [
    {
     "name": "stdout",
     "output_type": "stream",
     "text": [
      "<class 'pandas.core.frame.DataFrame'>\n",
      "RangeIndex: 4617 entries, 0 to 4616\n",
      "Data columns (total 21 columns):\n",
      " #   Column          Non-Null Count  Dtype  \n",
      "---  ------          --------------  -----  \n",
      " 0   Unnamed: 0      4617 non-null   int64  \n",
      " 1   State           4617 non-null   object \n",
      " 2   Account_Length  4617 non-null   int64  \n",
      " 3   Area_Code       4617 non-null   int64  \n",
      " 4   Int_Plan        4617 non-null   object \n",
      " 5   VMail           4617 non-null   object \n",
      " 6   VMailMsg        4617 non-null   int64  \n",
      " 7   DayMins         4617 non-null   float64\n",
      " 8   DayCalls        4617 non-null   int64  \n",
      " 9   DayCharge       4617 non-null   float64\n",
      " 10  EveMins         4617 non-null   float64\n",
      " 11  EveCalls        4617 non-null   int64  \n",
      " 12  EveCharge       4617 non-null   float64\n",
      " 13  NightMins       4617 non-null   float64\n",
      " 14  NightCalls      4617 non-null   int64  \n",
      " 15  NightCharge     4617 non-null   float64\n",
      " 16  IntMins         4617 non-null   float64\n",
      " 17  IntCalls        4617 non-null   int64  \n",
      " 18  IntCharge       4617 non-null   float64\n",
      " 19  CustServCalls   4617 non-null   int64  \n",
      " 20  Churn           4617 non-null   object \n",
      "dtypes: float64(8), int64(9), object(4)\n",
      "memory usage: 757.6+ KB\n"
     ]
    }
   ],
   "source": [
    "df.describe\n",
    "df.info()"
   ]
  },
  {
   "cell_type": "code",
   "execution_count": 114,
   "metadata": {},
   "outputs": [
    {
     "name": "stdout",
     "output_type": "stream",
     "text": [
      "Shape : (4617, 21)\n",
      "Rows :  4617\n",
      "Columns :  21\n",
      "\n",
      "Features : \n",
      " ['Unnamed: 0', 'State', 'Account_Length', 'Area_Code', 'Int_Plan', 'VMail', 'VMailMsg', 'DayMins', 'DayCalls', 'DayCharge', 'EveMins', 'EveCalls', 'EveCharge', 'NightMins', 'NightCalls', 'NightCharge', 'IntMins', 'IntCalls', 'IntCharge', 'CustServCalls', 'Churn']\n",
      "\n",
      " Missing Values :  0\n",
      "\n",
      "Unique Values : \n",
      " Unnamed: 0        4617\n",
      "State               51\n",
      "Account_Length     218\n",
      "Area_Code            3\n",
      "Int_Plan             2\n",
      "VMail                2\n",
      "VMailMsg            47\n",
      "DayMins           1901\n",
      "DayCalls           123\n",
      "DayCharge         1901\n",
      "EveMins           1833\n",
      "EveCalls           125\n",
      "EveCharge         1621\n",
      "NightMins         1813\n",
      "NightCalls         130\n",
      "NightCharge       1012\n",
      "IntMins            168\n",
      "IntCalls            21\n",
      "IntCharge          168\n",
      "CustServCalls       10\n",
      "Churn                2\n",
      "dtype: int64\n"
     ]
    }
   ],
   "source": [
    "print(\"Shape :\",df.shape)\n",
    "print(\"Rows : \",df.shape[0])\n",
    "print(\"Columns : \",df.shape[1])\n",
    "print(\"\\nFeatures : \\n\" ,df.columns.tolist())\n",
    "print(\"\\n Missing Values : \",df.isnull().sum().values.sum())\n",
    "print(\"\\nUnique Values : \\n\" ,df.nunique())"
   ]
  },
  {
   "cell_type": "markdown",
   "metadata": {},
   "source": [
    "### EDA"
   ]
  },
  {
   "cell_type": "code",
   "execution_count": 115,
   "metadata": {},
   "outputs": [
    {
     "data": {
      "text/plain": [
       "Unnamed: 0          int64\n",
       "State              object\n",
       "Account_Length      int64\n",
       "Area_Code           int64\n",
       "Int_Plan           object\n",
       "VMail              object\n",
       "VMailMsg            int64\n",
       "DayMins           float64\n",
       "DayCalls            int64\n",
       "DayCharge         float64\n",
       "EveMins           float64\n",
       "EveCalls            int64\n",
       "EveCharge         float64\n",
       "NightMins         float64\n",
       "NightCalls          int64\n",
       "NightCharge       float64\n",
       "IntMins           float64\n",
       "IntCalls            int64\n",
       "IntCharge         float64\n",
       "CustServCalls       int64\n",
       "Churn              object\n",
       "dtype: object"
      ]
     },
     "execution_count": 115,
     "metadata": {},
     "output_type": "execute_result"
    }
   ],
   "source": [
    "df.dtypes"
   ]
  },
  {
   "cell_type": "code",
   "execution_count": 116,
   "metadata": {},
   "outputs": [],
   "source": [
    "# Grouping columns into Categorical and Continuous column list\n",
    "Catcol_list=['State','Area_Code','Int_Plan','VMail','Churn']\n",
    "Concol_list=['Account_Length','VMailMsg','DayMins','DayCalls','DayCharge','EveMins','EveCalls','EveCharge','NightMins',\n",
    "            'NightCalls','NightCharge','IntMins','CustServCalls','IntCalls','IntCharge']"
   ]
  },
  {
   "cell_type": "markdown",
   "metadata": {},
   "source": [
    "###### Checking the distribution of data for continuous variables"
   ]
  },
  {
   "cell_type": "code",
   "execution_count": 117,
   "metadata": {},
   "outputs": [],
   "source": [
    "for i in Concol_list:\n",
    "    df[i]=df[i].astype('float').astype(int)\n",
    "    df.dtypes"
   ]
  },
  {
   "cell_type": "code",
   "execution_count": 118,
   "metadata": {},
   "outputs": [],
   "source": [
    "# The columns like CustServ Calls, IntMins,VMailMsg does show some bias as not exhibiting normal distribution\n",
    "# Most of the  columns show symmetrical/normal distribution\n",
    "# Columns like CustSerCalls n IntCalls are right skewed\n",
    "# Columns IntCharge shows multinomial distribution."
   ]
  },
  {
   "cell_type": "code",
   "execution_count": 119,
   "metadata": {},
   "outputs": [
    {
     "data": {
      "text/plain": [
       "array([[<AxesSubplot:title={'center':'Account_Length'}>,\n",
       "        <AxesSubplot:title={'center':'VMailMsg'}>,\n",
       "        <AxesSubplot:title={'center':'DayMins'}>,\n",
       "        <AxesSubplot:title={'center':'DayCalls'}>],\n",
       "       [<AxesSubplot:title={'center':'DayCharge'}>,\n",
       "        <AxesSubplot:title={'center':'EveMins'}>,\n",
       "        <AxesSubplot:title={'center':'EveCalls'}>,\n",
       "        <AxesSubplot:title={'center':'EveCharge'}>],\n",
       "       [<AxesSubplot:title={'center':'NightMins'}>,\n",
       "        <AxesSubplot:title={'center':'NightCalls'}>,\n",
       "        <AxesSubplot:title={'center':'NightCharge'}>,\n",
       "        <AxesSubplot:title={'center':'IntMins'}>],\n",
       "       [<AxesSubplot:title={'center':'CustServCalls'}>,\n",
       "        <AxesSubplot:title={'center':'IntCalls'}>,\n",
       "        <AxesSubplot:title={'center':'IntCharge'}>, <AxesSubplot:>]],\n",
       "      dtype=object)"
      ]
     },
     "execution_count": 119,
     "metadata": {},
     "output_type": "execute_result"
    },
    {
     "data": {
      "image/png": "[encoded data removed]",
      "text/plain": [
       "<Figure size 1440x1440 with 16 Axes>"
      ]
     },
     "metadata": {
      "needs_background": "light"
     },
     "output_type": "display_data"
    }
   ],
   "source": [
    "df[Concol_list].hist(figsize=(20,20))"
   ]
  },
  {
   "cell_type": "markdown",
   "metadata": {},
   "source": [
    "###### Checking the Data distribution for the Categorical features"
   ]
  },
  {
   "cell_type": "code",
   "execution_count": 120,
   "metadata": {},
   "outputs": [
    {
     "ename": "TypeError",
     "evalue": "`Series.plot()` should not be called with positional arguments, only keyword arguments. The order of positional arguments will change in the future. Use `Series.plot(kind='bar')` instead of `Series.plot('bar',)`.",
     "output_type": "error",
     "traceback": [
      "\u001b[1;31m---------------------------------------------------------------------------\u001b[0m",
      "\u001b[1;31mTypeError\u001b[0m                                 Traceback (most recent call last)",
      "\u001b[1;32m<ipython-input-120-36fd749eb928>\u001b[0m in \u001b[0;36m<module>\u001b[1;34m\u001b[0m\n\u001b[0;32m      2\u001b[0m \u001b[0mfig\u001b[0m\u001b[1;33m,\u001b[0m \u001b[0max\u001b[0m\u001b[1;33m=\u001b[0m\u001b[0mplt\u001b[0m\u001b[1;33m.\u001b[0m\u001b[0msubplots\u001b[0m\u001b[1;33m(\u001b[0m\u001b[1;36m1\u001b[0m\u001b[1;33m,\u001b[0m \u001b[0mlen\u001b[0m\u001b[1;33m(\u001b[0m\u001b[0mCatcol_list\u001b[0m\u001b[1;33m)\u001b[0m \u001b[1;33m,\u001b[0m \u001b[0mfigsize\u001b[0m\u001b[1;33m=\u001b[0m\u001b[1;33m(\u001b[0m\u001b[1;36m15\u001b[0m\u001b[1;33m,\u001b[0m\u001b[1;36m5\u001b[0m\u001b[1;33m)\u001b[0m\u001b[1;33m)\u001b[0m\u001b[1;33m\u001b[0m\u001b[1;33m\u001b[0m\u001b[0m\n\u001b[0;32m      3\u001b[0m \u001b[1;32mfor\u001b[0m \u001b[0mi\u001b[0m\u001b[1;33m,\u001b[0m \u001b[0mj\u001b[0m \u001b[1;32min\u001b[0m \u001b[0menumerate\u001b[0m\u001b[1;33m(\u001b[0m\u001b[0mdf\u001b[0m\u001b[1;33m[\u001b[0m\u001b[0mCatcol_list\u001b[0m\u001b[1;33m]\u001b[0m\u001b[1;33m)\u001b[0m\u001b[1;33m:\u001b[0m\u001b[1;33m\u001b[0m\u001b[1;33m\u001b[0m\u001b[0m\n\u001b[1;32m----> 4\u001b[1;33m     \u001b[0mdf\u001b[0m\u001b[1;33m[\u001b[0m\u001b[0mj\u001b[0m\u001b[1;33m]\u001b[0m\u001b[1;33m.\u001b[0m\u001b[0mvalue_counts\u001b[0m\u001b[1;33m(\u001b[0m\u001b[1;33m)\u001b[0m\u001b[1;33m.\u001b[0m\u001b[0mplot\u001b[0m\u001b[1;33m(\u001b[0m\u001b[1;34m\"bar\"\u001b[0m\u001b[1;33m,\u001b[0m \u001b[0max\u001b[0m\u001b[1;33m=\u001b[0m\u001b[0max\u001b[0m\u001b[1;33m[\u001b[0m\u001b[0mi\u001b[0m\u001b[1;33m]\u001b[0m\u001b[1;33m)\u001b[0m\u001b[1;33m.\u001b[0m\u001b[0mset_title\u001b[0m\u001b[1;33m(\u001b[0m\u001b[0mj\u001b[0m\u001b[1;33m)\u001b[0m\u001b[1;33m\u001b[0m\u001b[1;33m\u001b[0m\u001b[0m\n\u001b[0m\u001b[0;32m      5\u001b[0m \u001b[1;33m\u001b[0m\u001b[0m\n\u001b[0;32m      6\u001b[0m \u001b[0mfig\u001b[0m\u001b[1;33m.\u001b[0m\u001b[0mshow\u001b[0m\u001b[1;33m(\u001b[0m\u001b[1;33m)\u001b[0m\u001b[1;33m\u001b[0m\u001b[1;33m\u001b[0m\u001b[0m\n",
      "\u001b[1;32m~\\Anaconda3\\lib\\site-packages\\pandas\\plotting\\_core.py\u001b[0m in \u001b[0;36m__call__\u001b[1;34m(self, *args, **kwargs)\u001b[0m\n\u001b[0;32m    870\u001b[0m \u001b[1;33m\u001b[0m\u001b[0m\n\u001b[0;32m    871\u001b[0m         x, y, kind, kwargs = self._get_call_args(\n\u001b[1;32m--> 872\u001b[1;33m             \u001b[0mplot_backend\u001b[0m\u001b[1;33m.\u001b[0m\u001b[0m__name__\u001b[0m\u001b[1;33m,\u001b[0m \u001b[0mself\u001b[0m\u001b[1;33m.\u001b[0m\u001b[0m_parent\u001b[0m\u001b[1;33m,\u001b[0m \u001b[0margs\u001b[0m\u001b[1;33m,\u001b[0m \u001b[0mkwargs\u001b[0m\u001b[1;33m\u001b[0m\u001b[1;33m\u001b[0m\u001b[0m\n\u001b[0m\u001b[0;32m    873\u001b[0m         )\n\u001b[0;32m    874\u001b[0m \u001b[1;33m\u001b[0m\u001b[0m\n",
      "\u001b[1;32m~\\Anaconda3\\lib\\site-packages\\pandas\\plotting\\_core.py\u001b[0m in \u001b[0;36m_get_call_args\u001b[1;34m(backend_name, data, args, kwargs)\u001b[0m\n\u001b[0;32m    853\u001b[0m                 \u001b[1;34mf\"`Series.plot({positional_args})`.\"\u001b[0m\u001b[1;33m\u001b[0m\u001b[1;33m\u001b[0m\u001b[0m\n\u001b[0;32m    854\u001b[0m             )\n\u001b[1;32m--> 855\u001b[1;33m             \u001b[1;32mraise\u001b[0m \u001b[0mTypeError\u001b[0m\u001b[1;33m(\u001b[0m\u001b[0mmsg\u001b[0m\u001b[1;33m)\u001b[0m\u001b[1;33m\u001b[0m\u001b[1;33m\u001b[0m\u001b[0m\n\u001b[0m\u001b[0;32m    856\u001b[0m \u001b[1;33m\u001b[0m\u001b[0m\n\u001b[0;32m    857\u001b[0m         \u001b[0mpos_args\u001b[0m \u001b[1;33m=\u001b[0m \u001b[1;33m{\u001b[0m\u001b[0mname\u001b[0m\u001b[1;33m:\u001b[0m \u001b[0mvalue\u001b[0m \u001b[1;32mfor\u001b[0m \u001b[0mvalue\u001b[0m\u001b[1;33m,\u001b[0m \u001b[1;33m(\u001b[0m\u001b[0mname\u001b[0m\u001b[1;33m,\u001b[0m \u001b[0m_\u001b[0m\u001b[1;33m)\u001b[0m \u001b[1;32min\u001b[0m \u001b[0mzip\u001b[0m\u001b[1;33m(\u001b[0m\u001b[0margs\u001b[0m\u001b[1;33m,\u001b[0m \u001b[0marg_def\u001b[0m\u001b[1;33m)\u001b[0m\u001b[1;33m}\u001b[0m\u001b[1;33m\u001b[0m\u001b[1;33m\u001b[0m\u001b[0m\n",
      "\u001b[1;31mTypeError\u001b[0m: `Series.plot()` should not be called with positional arguments, only keyword arguments. The order of positional arguments will change in the future. Use `Series.plot(kind='bar')` instead of `Series.plot('bar',)`."
     ]
    },
    {
     "data": {
      "image/png": "[encoded data removed]",
      "text/plain": [
       "<Figure size 1080x360 with 5 Axes>"
      ]
     },
     "metadata": {
      "needs_background": "light"
     },
     "output_type": "display_data"
    }
   ],
   "source": [
    "#Plot categorical data using Seaborn's facegrid and Panda's melt function\n",
    "fig, ax=plt.subplots(1, len(Catcol_list) , figsize=(15,5))\n",
    "for i, j in enumerate(df[Catcol_list]):\n",
    "    df[j].value_counts().plot(\"bar\", ax=ax[i]).set_title(j)\n",
    "    \n",
    "fig.show()"
   ]
  },
  {
   "cell_type": "code",
   "execution_count": 122,
   "metadata": {},
   "outputs": [],
   "source": [
    "# Checking  the Data distribution for Categorical featured"
   ]
  },
  {
   "cell_type": "code",
   "execution_count": 123,
   "metadata": {},
   "outputs": [],
   "source": [
    "#for c in col_list:\n",
    "#count=df[c].loc[df[c]==''].count\n",
    "#count1=df[c].loc[df[c]==np.nan].count()\n",
    "#print(\"Empty string values in column '%s' : '%i' \" %(c,count))\n",
    "#print(\"Total count of null values in column '%s' : '%i' \" %(c,count))\n",
    "#print(\"============================================================\")\n",
    "\n",
    "##Hence can be  confirmed our data has neither null values nor empty string values"
   ]
  },
  {
   "cell_type": "code",
   "execution_count": 124,
   "metadata": {},
   "outputs": [
    {
     "name": "stdout",
     "output_type": "stream",
     "text": [
      "Column 'State' value_counts :  Counter({'WV': 149, 'AL': 114, 'MN': 112, 'OH': 110, 'ID': 110, 'NY': 109, 'VA': 109, 'OR': 107, 'NJ': 106, 'WY': 106, 'TX': 105, 'UT': 104, 'WI': 99, 'MI': 98, 'MA': 97, 'KS': 96, 'VT': 95, 'ME': 95, 'MT': 92, 'MD': 92, 'CT': 92, 'CO': 91, 'NH': 91, 'MS': 91, 'RI': 90, 'KY': 90, 'IN': 89, 'DE': 89, 'WA': 89, 'NV': 89, 'FL': 85, 'MO': 84, 'NM': 84, 'SC': 83, 'NC': 83, 'TN': 83, 'DC': 82, 'AZ': 81, 'OK': 80, 'ND': 80, 'NE': 79, 'HI': 79, 'IL': 79, 'GA': 77, 'AR': 77, 'SD': 76, 'LA': 73, 'AK': 69, 'PA': 68, 'IA': 65, 'CA': 44})\n",
      "==================================================\n",
      "Column 'Area_Code' value_counts :  Counter({415: 2299, 408: 1161, 510: 1157})\n",
      "==================================================\n",
      "Column 'Int_Plan' value_counts :  Counter({' no': 4171, ' yes': 446})\n",
      "==================================================\n",
      "Column 'VMail' value_counts :  Counter({' no': 3381, ' yes': 1236})\n",
      "==================================================\n",
      "Column 'Churn' value_counts :  Counter({' False.': 3961, ' True.': 656})\n",
      "==================================================\n"
     ]
    }
   ],
   "source": [
    "for c in Catcol_list:\n",
    "    val=Counter(df[c])\n",
    "    print(\"Column '%s' value_counts : \" %(c) , Counter(df[c]))\n",
    "    print(\"==================================================\")"
   ]
  },
  {
   "cell_type": "markdown",
   "metadata": {},
   "source": [
    "###### Visualize each column wrt Churn"
   ]
  },
  {
   "cell_type": "code",
   "execution_count": 125,
   "metadata": {},
   "outputs": [],
   "source": [
    "Concol_list=['Account_Length','VMailMsg','DayMins','DayCalls','DayCharge','EveMins','EveCalls','EveCharge',\n",
    "            'NightMins','NightCalls','NightCharge','IntMins','CustServCalls',\n",
    "            'IntCalls','IntCharge']"
   ]
  },
  {
   "cell_type": "code",
   "execution_count": 126,
   "metadata": {},
   "outputs": [
    {
     "data": {
      "image/png": "[encoded data removed]",
      "text/plain": [
       "<Figure size 1080x576 with 15 Axes>"
      ]
     },
     "metadata": {
      "needs_background": "light"
     },
     "output_type": "display_data"
    },
    {
     "data": {
      "image/png": "[encoded data removed]",
      "text/plain": [
       "<Figure size 432x288 with 1 Axes>"
      ]
     },
     "metadata": {
      "needs_background": "light"
     },
     "output_type": "display_data"
    },
    {
     "data": {
      "image/png": "[encoded data removed]",
      "text/plain": [
       "<Figure size 432x288 with 1 Axes>"
      ]
     },
     "metadata": {
      "needs_background": "light"
     },
     "output_type": "display_data"
    },
    {
     "data": {
      "image/png": "[encoded data removed]",
      "text/plain": [
       "<Figure size 432x288 with 1 Axes>"
      ]
     },
     "metadata": {
      "needs_background": "light"
     },
     "output_type": "display_data"
    },
    {
     "data": {
      "image/png": "[encoded data removed]",
      "text/plain": [
       "<Figure size 432x288 with 1 Axes>"
      ]
     },
     "metadata": {
      "needs_background": "light"
     },
     "output_type": "display_data"
    },
    {
     "data": {
      "image/png": "[encoded data removed]",
      "text/plain": [
       "<Figure size 432x288 with 1 Axes>"
      ]
     },
     "metadata": {
      "needs_background": "light"
     },
     "output_type": "display_data"
    },
    {
     "data": {
      "image/png": "[encoded data removed]",
      "text/plain": [
       "<Figure size 432x288 with 1 Axes>"
      ]
     },
     "metadata": {
      "needs_background": "light"
     },
     "output_type": "display_data"
    },
    {
     "data": {
      "image/png": "[encoded data removed]",
      "text/plain": [
       "<Figure size 432x288 with 1 Axes>"
      ]
     },
     "metadata": {
      "needs_background": "light"
     },
     "output_type": "display_data"
    },
    {
     "data": {
      "image/png": "[encoded data removed]",
      "text/plain": [
       "<Figure size 432x288 with 1 Axes>"
      ]
     },
     "metadata": {
      "needs_background": "light"
     },
     "output_type": "display_data"
    },
    {
     "data": {
      "image/png": "[encoded data removed]",
      "text/plain": [
       "<Figure size 432x288 with 1 Axes>"
      ]
     },
     "metadata": {
      "needs_background": "light"
     },
     "output_type": "display_data"
    },
    {
     "data": {
      "image/png": "[encoded data removed]",
      "text/plain": [
       "<Figure size 432x288 with 1 Axes>"
      ]
     },
     "metadata": {
      "needs_background": "light"
     },
     "output_type": "display_data"
    },
    {
     "data": {
      "image/png": "[encoded data removed]",
      "text/plain": [
       "<Figure size 432x288 with 1 Axes>"
      ]
     },
     "metadata": {
      "needs_background": "light"
     },
     "output_type": "display_data"
    },
    {
     "data": {
      "image/png": "[encoded data removed]",
      "text/plain": [
       "<Figure size 432x288 with 1 Axes>"
      ]
     },
     "metadata": {
      "needs_background": "light"
     },
     "output_type": "display_data"
    },
    {
     "data": {
      "image/png": "[encoded data removed]",
      "text/plain": [
       "<Figure size 432x288 with 1 Axes>"
      ]
     },
     "metadata": {
      "needs_background": "light"
     },
     "output_type": "display_data"
    },
    {
     "data": {
      "image/png": "[encoded data removed]",
      "text/plain": [
       "<Figure size 432x288 with 1 Axes>"
      ]
     },
     "metadata": {
      "needs_background": "light"
     },
     "output_type": "display_data"
    },
    {
     "data": {
      "image/png": "[encoded data removed]",
      "text/plain": [
       "<Figure size 432x288 with 1 Axes>"
      ]
     },
     "metadata": {
      "needs_background": "light"
     },
     "output_type": "display_data"
    }
   ],
   "source": [
    "fig, ax=plt.subplots(5,3, figsize=(15,8))\n",
    "for i,j in enumerate(df[Concol_list]):\n",
    "   # df[j].value_counts().plot(\"bar\", ax=ax[i].set_title(j))\n",
    "    pd.crosstab(df[j] ,df.Churn).plot(kind='barh').set_title(j)\n",
    "    \n",
    "    fig.show()"
   ]
  },
  {
   "cell_type": "code",
   "execution_count": 127,
   "metadata": {},
   "outputs": [],
   "source": [
    "Catcol_list=['State','Area_Code','Int_Plan','VMail','Churn']"
   ]
  },
  {
   "cell_type": "code",
   "execution_count": 128,
   "metadata": {},
   "outputs": [
    {
     "ename": "TypeError",
     "evalue": "`Series.plot()` should not be called with positional arguments, only keyword arguments. The order of positional arguments will change in the future. Use `Series.plot(kind='bar')` instead of `Series.plot('bar',)`.",
     "output_type": "error",
     "traceback": [
      "\u001b[1;31m---------------------------------------------------------------------------\u001b[0m",
      "\u001b[1;31mTypeError\u001b[0m                                 Traceback (most recent call last)",
      "\u001b[1;32m<ipython-input-128-7ce2747b8b2b>\u001b[0m in \u001b[0;36m<module>\u001b[1;34m\u001b[0m\n\u001b[0;32m      1\u001b[0m \u001b[0mfig\u001b[0m\u001b[1;33m,\u001b[0m \u001b[0max\u001b[0m\u001b[1;33m=\u001b[0m\u001b[0mplt\u001b[0m\u001b[1;33m.\u001b[0m\u001b[0msubplots\u001b[0m\u001b[1;33m(\u001b[0m\u001b[1;36m1\u001b[0m\u001b[1;33m,\u001b[0m \u001b[0mlen\u001b[0m\u001b[1;33m(\u001b[0m\u001b[0mCatcol_list\u001b[0m\u001b[1;33m)\u001b[0m \u001b[1;33m,\u001b[0m \u001b[0mfigsize\u001b[0m\u001b[1;33m=\u001b[0m\u001b[1;33m(\u001b[0m\u001b[1;36m15\u001b[0m\u001b[1;33m,\u001b[0m \u001b[1;36m8\u001b[0m\u001b[1;33m)\u001b[0m\u001b[1;33m)\u001b[0m\u001b[1;33m\u001b[0m\u001b[1;33m\u001b[0m\u001b[0m\n\u001b[0;32m      2\u001b[0m \u001b[1;32mfor\u001b[0m \u001b[0mi\u001b[0m\u001b[1;33m,\u001b[0m \u001b[0mj\u001b[0m \u001b[1;32min\u001b[0m \u001b[0menumerate\u001b[0m\u001b[1;33m(\u001b[0m\u001b[0mdf\u001b[0m\u001b[1;33m[\u001b[0m\u001b[0mCatcol_list\u001b[0m\u001b[1;33m]\u001b[0m\u001b[1;33m)\u001b[0m\u001b[1;33m:\u001b[0m\u001b[1;33m\u001b[0m\u001b[1;33m\u001b[0m\u001b[0m\n\u001b[1;32m----> 3\u001b[1;33m     \u001b[0mdf\u001b[0m\u001b[1;33m[\u001b[0m\u001b[0mj\u001b[0m\u001b[1;33m]\u001b[0m\u001b[1;33m.\u001b[0m\u001b[0mvalue_counts\u001b[0m\u001b[1;33m(\u001b[0m\u001b[1;33m)\u001b[0m\u001b[1;33m.\u001b[0m\u001b[0mplot\u001b[0m\u001b[1;33m(\u001b[0m\u001b[1;34m\"bar\"\u001b[0m\u001b[1;33m,\u001b[0m \u001b[0max\u001b[0m\u001b[1;33m=\u001b[0m\u001b[0max\u001b[0m\u001b[1;33m[\u001b[0m\u001b[0mi\u001b[0m\u001b[1;33m]\u001b[0m\u001b[1;33m)\u001b[0m\u001b[1;33m.\u001b[0m\u001b[0mset_title\u001b[0m\u001b[1;33m(\u001b[0m\u001b[0mj\u001b[0m\u001b[1;33m)\u001b[0m\u001b[1;33m\u001b[0m\u001b[1;33m\u001b[0m\u001b[0m\n\u001b[0m\u001b[0;32m      4\u001b[0m     \u001b[0mpd\u001b[0m\u001b[1;33m.\u001b[0m\u001b[0mcrosstab\u001b[0m\u001b[1;33m(\u001b[0m\u001b[0mdf\u001b[0m\u001b[1;33m[\u001b[0m\u001b[0mj\u001b[0m\u001b[1;33m]\u001b[0m \u001b[1;33m,\u001b[0m\u001b[0mdf\u001b[0m\u001b[1;33m.\u001b[0m\u001b[0mChurn\u001b[0m\u001b[1;33m)\u001b[0m\u001b[1;33m.\u001b[0m\u001b[0mplot\u001b[0m\u001b[1;33m(\u001b[0m\u001b[0mkind\u001b[0m\u001b[1;33m=\u001b[0m\u001b[1;34m'barh'\u001b[0m\u001b[1;33m,\u001b[0m\u001b[0max\u001b[0m\u001b[1;33m=\u001b[0m\u001b[0max\u001b[0m\u001b[1;33m[\u001b[0m\u001b[0mi\u001b[0m\u001b[1;33m]\u001b[0m\u001b[1;33m.\u001b[0m\u001b[0mset_title\u001b[0m\u001b[1;33m(\u001b[0m\u001b[0mj\u001b[0m\u001b[1;33m)\u001b[0m\u001b[1;33m)\u001b[0m\u001b[1;33m\u001b[0m\u001b[1;33m\u001b[0m\u001b[0m\n\u001b[0;32m      5\u001b[0m \u001b[1;33m\u001b[0m\u001b[0m\n",
      "\u001b[1;32m~\\Anaconda3\\lib\\site-packages\\pandas\\plotting\\_core.py\u001b[0m in \u001b[0;36m__call__\u001b[1;34m(self, *args, **kwargs)\u001b[0m\n\u001b[0;32m    870\u001b[0m \u001b[1;33m\u001b[0m\u001b[0m\n\u001b[0;32m    871\u001b[0m         x, y, kind, kwargs = self._get_call_args(\n\u001b[1;32m--> 872\u001b[1;33m             \u001b[0mplot_backend\u001b[0m\u001b[1;33m.\u001b[0m\u001b[0m__name__\u001b[0m\u001b[1;33m,\u001b[0m \u001b[0mself\u001b[0m\u001b[1;33m.\u001b[0m\u001b[0m_parent\u001b[0m\u001b[1;33m,\u001b[0m \u001b[0margs\u001b[0m\u001b[1;33m,\u001b[0m \u001b[0mkwargs\u001b[0m\u001b[1;33m\u001b[0m\u001b[1;33m\u001b[0m\u001b[0m\n\u001b[0m\u001b[0;32m    873\u001b[0m         )\n\u001b[0;32m    874\u001b[0m \u001b[1;33m\u001b[0m\u001b[0m\n",
      "\u001b[1;32m~\\Anaconda3\\lib\\site-packages\\pandas\\plotting\\_core.py\u001b[0m in \u001b[0;36m_get_call_args\u001b[1;34m(backend_name, data, args, kwargs)\u001b[0m\n\u001b[0;32m    853\u001b[0m                 \u001b[1;34mf\"`Series.plot({positional_args})`.\"\u001b[0m\u001b[1;33m\u001b[0m\u001b[1;33m\u001b[0m\u001b[0m\n\u001b[0;32m    854\u001b[0m             )\n\u001b[1;32m--> 855\u001b[1;33m             \u001b[1;32mraise\u001b[0m \u001b[0mTypeError\u001b[0m\u001b[1;33m(\u001b[0m\u001b[0mmsg\u001b[0m\u001b[1;33m)\u001b[0m\u001b[1;33m\u001b[0m\u001b[1;33m\u001b[0m\u001b[0m\n\u001b[0m\u001b[0;32m    856\u001b[0m \u001b[1;33m\u001b[0m\u001b[0m\n\u001b[0;32m    857\u001b[0m         \u001b[0mpos_args\u001b[0m \u001b[1;33m=\u001b[0m \u001b[1;33m{\u001b[0m\u001b[0mname\u001b[0m\u001b[1;33m:\u001b[0m \u001b[0mvalue\u001b[0m \u001b[1;32mfor\u001b[0m \u001b[0mvalue\u001b[0m\u001b[1;33m,\u001b[0m \u001b[1;33m(\u001b[0m\u001b[0mname\u001b[0m\u001b[1;33m,\u001b[0m \u001b[0m_\u001b[0m\u001b[1;33m)\u001b[0m \u001b[1;32min\u001b[0m \u001b[0mzip\u001b[0m\u001b[1;33m(\u001b[0m\u001b[0margs\u001b[0m\u001b[1;33m,\u001b[0m \u001b[0marg_def\u001b[0m\u001b[1;33m)\u001b[0m\u001b[1;33m}\u001b[0m\u001b[1;33m\u001b[0m\u001b[1;33m\u001b[0m\u001b[0m\n",
      "\u001b[1;31mTypeError\u001b[0m: `Series.plot()` should not be called with positional arguments, only keyword arguments. The order of positional arguments will change in the future. Use `Series.plot(kind='bar')` instead of `Series.plot('bar',)`."
     ]
    },
    {
     "data": {
      "image/png": "[encoded data removed]",
      "text/plain": [
       "<Figure size 1080x576 with 5 Axes>"
      ]
     },
     "metadata": {
      "needs_background": "light"
     },
     "output_type": "display_data"
    }
   ],
   "source": [
    "fig, ax=plt.subplots(1, len(Catcol_list) , figsize=(15, 8))\n",
    "for i, j in enumerate(df[Catcol_list]):\n",
    "    df[j].value_counts().plot(\"bar\", ax=ax[i]).set_title(j)\n",
    "    pd.crosstab(df[j] ,df.Churn).plot(kind='barh',ax=ax[i].set_title(j))\n",
    "    \n",
    "fig.show()"
   ]
  },
  {
   "cell_type": "markdown",
   "metadata": {},
   "source": [
    "###### Correlation"
   ]
  },
  {
   "cell_type": "code",
   "execution_count": null,
   "metadata": {},
   "outputs": [],
   "source": [
    "cormat=df.corr()\n",
    "#print(cor_mat)\n",
    "plt.figure(figsize= (7,10))\n",
    "#. heatmap(cor_mat, annot=True)\n",
    "cormat.style.background_gradient(cmap='coolwarm').set_precision(2)"
   ]
  },
  {
   "cell_type": "code",
   "execution_count": null,
   "metadata": {},
   "outputs": [],
   "source": [
    "# we could see that below columns are highly  correlated hence we are supposed to drop one.\n",
    "# DayMins-->DayCharge\n",
    "# EveMins-->EveCharge\n",
    "# NightMins-->NightCharge\n",
    "# IntMins-->IntCharge"
   ]
  },
  {
   "cell_type": "code",
   "execution_count": null,
   "metadata": {},
   "outputs": [],
   "source": [
    "df.drop(inplace=True,axis=1 , columns=['DayMins','EveMins','NightMins','IntMins']) #cant reassign if used inplace=True"
   ]
  },
  {
   "cell_type": "code",
   "execution_count": null,
   "metadata": {},
   "outputs": [],
   "source": [
    "df.head()"
   ]
  },
  {
   "cell_type": "markdown",
   "metadata": {},
   "source": [
    "###### Pandas Profiling"
   ]
  },
  {
   "cell_type": "code",
   "execution_count": 121,
   "metadata": {},
   "outputs": [],
   "source": [
    "#ProfileReport(telecom_churn_data)"
   ]
  },
  {
   "cell_type": "markdown",
   "metadata": {},
   "source": [
    "#### LabelEncoding"
   ]
  },
  {
   "cell_type": "code",
   "execution_count": null,
   "metadata": {},
   "outputs": [],
   "source": [
    "# Grouping columns into Categorical and Continuous column list\n",
    "Catcol_list=['State','Area_Code','Int_Plan','VMail','Churn']\n",
    "Concol_list=['Account_Length','VMailMsg','DayMins','DayCalls','DayCharge','EveMins','EveCalls','EveCharge','NightMins',\n",
    "            'NightCalls','NightCharge','IntMins','CustServCalls','IntCalls','IntCharge']\n",
    "target_class=['Churn']"
   ]
  },
  {
   "cell_type": "code",
   "execution_count": null,
   "metadata": {},
   "outputs": [],
   "source": [
    "from sklearn.preprocessing import LabelEncoder\n",
    "labelencoder=LabelEncoder()\n",
    "for i in Catcol_list+target_class:\n",
    "    df[i]=labelencoder.fit_transform(df[i])\n",
    "df.head(2)"
   ]
  },
  {
   "cell_type": "markdown",
   "metadata": {},
   "source": [
    "###### Data Split"
   ]
  },
  {
   "cell_type": "code",
   "execution_count": null,
   "metadata": {},
   "outputs": [],
   "source": [
    "X=df.iloc[:,:-1]\n",
    "y=df.Churn\n",
    "\n",
    "#X.head()\n",
    "X.shape"
   ]
  },
  {
   "cell_type": "code",
   "execution_count": null,
   "metadata": {},
   "outputs": [],
   "source": [
    "X_train,X_test,y_train,y_test=tts(X,y,test_size=0.2,random_state=10)"
   ]
  },
  {
   "cell_type": "markdown",
   "metadata": {},
   "source": [
    "###### Algorithm for feature selection"
   ]
  },
  {
   "cell_type": "markdown",
   "metadata": {},
   "source": [
    "Scaling the Dataset"
   ]
  },
  {
   "cell_type": "code",
   "execution_count": 129,
   "metadata": {},
   "outputs": [],
   "source": [
    "from sklearn.preprocessing import StandardScaler\n",
    "import warnings\n",
    "warnings.filterwarnings('ignore')\n",
    "\n",
    "scaler = StandardScaler()\n",
    "\n",
    "scaler.fit(X_train)\n",
    "\n",
    "X_train=scaler.transform(X_train)\n",
    "X_test=scaler.transform(X_test)"
   ]
  },
  {
   "cell_type": "markdown",
   "metadata": {},
   "source": [
    "PCA"
   ]
  },
  {
   "cell_type": "code",
   "execution_count": 130,
   "metadata": {},
   "outputs": [],
   "source": [
    "from sklearn.decomposition import PCA"
   ]
  },
  {
   "cell_type": "code",
   "execution_count": 131,
   "metadata": {},
   "outputs": [],
   "source": [
    "col_list=['State','Account_Length','Area_Code','Int_Plan','VMail','VMailMsg','DayMins','DayCalls','DayCharge',\n",
    "         'EveMins','EveCalls','EveCharge','NightMins','NightCalls','NightCharge',\n",
    "         'IntMins','IntCalls','IntCharge','CustServCalls','Churn']"
   ]
  },
  {
   "cell_type": "code",
   "execution_count": null,
   "metadata": {},
   "outputs": [],
   "source": []
  }
 ],
 "metadata": {
  "kernelspec": {
   "display_name": "Python 3",
   "language": "python",
   "name": "python3"
  },
  "language_info": {
   "codemirror_mode": {
    "name": "ipython",
    "version": 3
   },
   "file_extension": ".py",
   "mimetype": "text/x-python",
   "name": "python",
   "nbconvert_exporter": "python",
   "pygments_lexer": "ipython3",
   "version": "3.7.3"
  }
 },
 "nbformat": 4,
 "nbformat_minor": 2
}
